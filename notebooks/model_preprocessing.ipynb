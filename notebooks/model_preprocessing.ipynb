{
 "cells": [
  {
   "cell_type": "markdown",
   "metadata": {},
   "source": [
    "# Setup and Imports"
   ]
  },
  {
   "cell_type": "code",
   "execution_count": 19,
   "metadata": {},
   "outputs": [],
   "source": [
    "#! Some things aren't showed here as they are in other files for the development process\n",
    "import os\n",
    "\n",
    "os.chdir(\n",
    "    r\"/home/yousinator/personal/ChurnSage\"\n",
    ")  #! Change It to to the path on your device or cloud\n",
    "\n",
    "import pandas as pd\n",
    "from prisma_ml import DataSetInformation\n",
    "from sklearn.preprocessing import LabelEncoder\n",
    "from sklearn.preprocessing import MinMaxScaler\n",
    "import pickle"
   ]
  },
  {
   "cell_type": "code",
   "execution_count": 20,
   "metadata": {},
   "outputs": [],
   "source": [
    "df = pd.read_csv(\n",
    "    r\"data/clean_churn_data.csv\"\n",
    ")\n",
    "metadata = {\n",
    "    \"POS_MSISDN\": \"Point of Sale ID, where the contract was sold/initiated.\",\n",
    "    \"Distributer\": \"Entity/shop responsible for service distribution or activation.\",\n",
    "    \"Plan Name\": \"Name of the plan subscribed to.\",\n",
    "    \"Customer Tenure\": \"Duration between activation and deactivation/current date.\",\n",
    "    \"Tenure Category\": \"Categorization of tenure into segments (short-term, medium-term, and long-term).\",\n",
    "    \"Status\": \"Current status of the line (Active, Suspended, etc.).\",\n",
    "    \"Status Reason\": \"Reason behind the current status.\",\n",
    "    \"Segment1\": \"Customer segmentation category.\",\n",
    "    \"Segment2\": \"Customer segmentation category.\",\n",
    "    \"Churn Flag\": \"Indicator of whether a customer has discontinued the service.\",\n",
    "    \"Customer Interaction Score\": \"Frequency/quality of interactions with customer service.\",\n",
    "    \"Loyalty Points\": \"Points assigned based on tenure, status, and segment.\",\n",
    "    \"Data Usage Tier\": \"Classification based on presumed data usage (3:High, 2:Medium, 1:Low).\",\n",
    "    \"Customer Segment Change Flag\": \"Indicates if a customer changed segments.\",\n",
    "}\n",
    "info = DataSetInformation(df)"
   ]
  },
  {
   "cell_type": "markdown",
   "metadata": {},
   "source": [
    "# Encoding"
   ]
  },
  {
   "cell_type": "code",
   "execution_count": 21,
   "metadata": {},
   "outputs": [
    {
     "data": {
      "text/markdown": [
       "### Categorical Columns Summary:"
      ],
      "text/plain": [
       "<IPython.core.display.Markdown object>"
      ]
     },
     "metadata": {},
     "output_type": "display_data"
    },
    {
     "data": {
      "text/html": [
       "<style type=\"text/css\">\n",
       "#T_afb7d th {\n",
       "  text-align: left;\n",
       "}\n",
       "#T_afb7d_row0_col0, #T_afb7d_row0_col1, #T_afb7d_row0_col2, #T_afb7d_row0_col3, #T_afb7d_row1_col0, #T_afb7d_row1_col1, #T_afb7d_row1_col2, #T_afb7d_row1_col3, #T_afb7d_row2_col0, #T_afb7d_row2_col1, #T_afb7d_row2_col2, #T_afb7d_row2_col3, #T_afb7d_row3_col0, #T_afb7d_row3_col1, #T_afb7d_row3_col2, #T_afb7d_row3_col3, #T_afb7d_row4_col0, #T_afb7d_row4_col1, #T_afb7d_row4_col2, #T_afb7d_row4_col3, #T_afb7d_row5_col0, #T_afb7d_row5_col1, #T_afb7d_row5_col2, #T_afb7d_row5_col3, #T_afb7d_row6_col0, #T_afb7d_row6_col1, #T_afb7d_row6_col2, #T_afb7d_row6_col3, #T_afb7d_row7_col0, #T_afb7d_row7_col1, #T_afb7d_row7_col2, #T_afb7d_row7_col3 {\n",
       "  text-align: left;\n",
       "}\n",
       "</style>\n",
       "<table id=\"T_afb7d\">\n",
       "  <thead>\n",
       "    <tr>\n",
       "      <th class=\"blank level0\" >&nbsp;</th>\n",
       "      <th id=\"T_afb7d_level0_col0\" class=\"col_heading level0 col0\" >Column</th>\n",
       "      <th id=\"T_afb7d_level0_col1\" class=\"col_heading level0 col1\" >Unique Values Count</th>\n",
       "      <th id=\"T_afb7d_level0_col2\" class=\"col_heading level0 col2\" >Top Value</th>\n",
       "      <th id=\"T_afb7d_level0_col3\" class=\"col_heading level0 col3\" >Top Value Percentage</th>\n",
       "    </tr>\n",
       "  </thead>\n",
       "  <tbody>\n",
       "    <tr>\n",
       "      <th id=\"T_afb7d_level0_row0\" class=\"row_heading level0 row0\" >0</th>\n",
       "      <td id=\"T_afb7d_row0_col0\" class=\"data row0 col0\" >POS_MSISDN</td>\n",
       "      <td id=\"T_afb7d_row0_col1\" class=\"data row0 col1\" >156</td>\n",
       "      <td id=\"T_afb7d_row0_col2\" class=\"data row0 col2\" >ORG3592</td>\n",
       "      <td id=\"T_afb7d_row0_col3\" class=\"data row0 col3\" >23.71%</td>\n",
       "    </tr>\n",
       "    <tr>\n",
       "      <th id=\"T_afb7d_level0_row1\" class=\"row_heading level0 row1\" >1</th>\n",
       "      <td id=\"T_afb7d_row1_col0\" class=\"data row1 col0\" >Distributer</td>\n",
       "      <td id=\"T_afb7d_row1_col1\" class=\"data row1 col1\" >142</td>\n",
       "      <td id=\"T_afb7d_row1_col2\" class=\"data row1 col2\" >FNTFRPRJTF TBLFT TTPDL</td>\n",
       "      <td id=\"T_afb7d_row1_col3\" class=\"data row1 col3\" >21.18%</td>\n",
       "    </tr>\n",
       "    <tr>\n",
       "      <th id=\"T_afb7d_level0_row2\" class=\"row_heading level0 row2\" >2</th>\n",
       "      <td id=\"T_afb7d_row2_col0\" class=\"data row2 col0\" >Plan Name</td>\n",
       "      <td id=\"T_afb7d_row2_col1\" class=\"data row2 col1\" >34</td>\n",
       "      <td id=\"T_afb7d_row2_col2\" class=\"data row2 col2\" >Orange 90</td>\n",
       "      <td id=\"T_afb7d_row2_col3\" class=\"data row2 col3\" >19.16%</td>\n",
       "    </tr>\n",
       "    <tr>\n",
       "      <th id=\"T_afb7d_level0_row3\" class=\"row_heading level0 row3\" >3</th>\n",
       "      <td id=\"T_afb7d_row3_col0\" class=\"data row3 col0\" >Tenure Category</td>\n",
       "      <td id=\"T_afb7d_row3_col1\" class=\"data row3 col1\" >3</td>\n",
       "      <td id=\"T_afb7d_row3_col2\" class=\"data row3 col2\" >Short-term</td>\n",
       "      <td id=\"T_afb7d_row3_col3\" class=\"data row3 col3\" >47.17%</td>\n",
       "    </tr>\n",
       "    <tr>\n",
       "      <th id=\"T_afb7d_level0_row4\" class=\"row_heading level0 row4\" >4</th>\n",
       "      <td id=\"T_afb7d_row4_col0\" class=\"data row4 col0\" >Status</td>\n",
       "      <td id=\"T_afb7d_row4_col1\" class=\"data row4 col1\" >4</td>\n",
       "      <td id=\"T_afb7d_row4_col2\" class=\"data row4 col2\" >Deactive</td>\n",
       "      <td id=\"T_afb7d_row4_col3\" class=\"data row4 col3\" >35.68%</td>\n",
       "    </tr>\n",
       "    <tr>\n",
       "      <th id=\"T_afb7d_level0_row5\" class=\"row_heading level0 row5\" >5</th>\n",
       "      <td id=\"T_afb7d_row5_col0\" class=\"data row5 col0\" >Status Reason</td>\n",
       "      <td id=\"T_afb7d_row5_col1\" class=\"data row5 col1\" >19</td>\n",
       "      <td id=\"T_afb7d_row5_col2\" class=\"data row5 col2\" >Good Service</td>\n",
       "      <td id=\"T_afb7d_row5_col3\" class=\"data row5 col3\" >24.57%</td>\n",
       "    </tr>\n",
       "    <tr>\n",
       "      <th id=\"T_afb7d_level0_row6\" class=\"row_heading level0 row6\" >6</th>\n",
       "      <td id=\"T_afb7d_row6_col0\" class=\"data row6 col0\" >Segment1</td>\n",
       "      <td id=\"T_afb7d_row6_col1\" class=\"data row6 col1\" >2</td>\n",
       "      <td id=\"T_afb7d_row6_col2\" class=\"data row6 col2\" >Prepaid</td>\n",
       "      <td id=\"T_afb7d_row6_col3\" class=\"data row6 col3\" >64.19%</td>\n",
       "    </tr>\n",
       "    <tr>\n",
       "      <th id=\"T_afb7d_level0_row7\" class=\"row_heading level0 row7\" >7</th>\n",
       "      <td id=\"T_afb7d_row7_col0\" class=\"data row7 col0\" >Segment2</td>\n",
       "      <td id=\"T_afb7d_row7_col1\" class=\"data row7 col1\" >3</td>\n",
       "      <td id=\"T_afb7d_row7_col2\" class=\"data row7 col2\" >Residential</td>\n",
       "      <td id=\"T_afb7d_row7_col3\" class=\"data row7 col3\" >63.19%</td>\n",
       "    </tr>\n",
       "  </tbody>\n",
       "</table>\n"
      ],
      "text/plain": [
       "<pandas.io.formats.style.Styler at 0x7fea18df3340>"
      ]
     },
     "metadata": {},
     "output_type": "display_data"
    },
    {
     "data": {
      "text/markdown": [
       "### Column: Tenure Category"
      ],
      "text/plain": [
       "<IPython.core.display.Markdown object>"
      ]
     },
     "metadata": {},
     "output_type": "display_data"
    },
    {
     "data": {
      "text/markdown": [
       "#### Value Counts and Percentage Distribution:"
      ],
      "text/plain": [
       "<IPython.core.display.Markdown object>"
      ]
     },
     "metadata": {},
     "output_type": "display_data"
    },
    {
     "data": {
      "text/html": [
       "<style type=\"text/css\">\n",
       "#T_7ba38_row0_col0, #T_7ba38_row0_col1, #T_7ba38_row0_col2, #T_7ba38_row1_col0, #T_7ba38_row1_col1, #T_7ba38_row1_col2, #T_7ba38_row2_col0, #T_7ba38_row2_col1, #T_7ba38_row2_col2 {\n",
       "  text-align: left;\n",
       "}\n",
       "</style>\n",
       "<table id=\"T_7ba38\">\n",
       "  <thead>\n",
       "    <tr>\n",
       "      <th class=\"blank level0\" >&nbsp;</th>\n",
       "      <th id=\"T_7ba38_level0_col0\" class=\"col_heading level0 col0\" >Value</th>\n",
       "      <th id=\"T_7ba38_level0_col1\" class=\"col_heading level0 col1\" >Count</th>\n",
       "      <th id=\"T_7ba38_level0_col2\" class=\"col_heading level0 col2\" >Percentage</th>\n",
       "    </tr>\n",
       "  </thead>\n",
       "  <tbody>\n",
       "    <tr>\n",
       "      <th id=\"T_7ba38_level0_row0\" class=\"row_heading level0 row0\" >0</th>\n",
       "      <td id=\"T_7ba38_row0_col0\" class=\"data row0 col0\" >Short-term</td>\n",
       "      <td id=\"T_7ba38_row0_col1\" class=\"data row0 col1\" >12643</td>\n",
       "      <td id=\"T_7ba38_row0_col2\" class=\"data row0 col2\" >47.166573</td>\n",
       "    </tr>\n",
       "    <tr>\n",
       "      <th id=\"T_7ba38_level0_row1\" class=\"row_heading level0 row1\" >1</th>\n",
       "      <td id=\"T_7ba38_row1_col0\" class=\"data row1 col0\" >Long-term</td>\n",
       "      <td id=\"T_7ba38_row1_col1\" class=\"data row1 col1\" >7434</td>\n",
       "      <td id=\"T_7ba38_row1_col2\" class=\"data row1 col2\" >27.733632</td>\n",
       "    </tr>\n",
       "    <tr>\n",
       "      <th id=\"T_7ba38_level0_row2\" class=\"row_heading level0 row2\" >2</th>\n",
       "      <td id=\"T_7ba38_row2_col0\" class=\"data row2 col0\" >Medium-term</td>\n",
       "      <td id=\"T_7ba38_row2_col1\" class=\"data row2 col1\" >6728</td>\n",
       "      <td id=\"T_7ba38_row2_col2\" class=\"data row2 col2\" >25.099795</td>\n",
       "    </tr>\n",
       "  </tbody>\n",
       "</table>\n"
      ],
      "text/plain": [
       "<pandas.io.formats.style.Styler at 0x7fe9a38431c0>"
      ]
     },
     "metadata": {},
     "output_type": "display_data"
    },
    {
     "data": {
      "text/markdown": [
       "---"
      ],
      "text/plain": [
       "<IPython.core.display.Markdown object>"
      ]
     },
     "metadata": {},
     "output_type": "display_data"
    },
    {
     "data": {
      "text/markdown": [
       "### Column: Status"
      ],
      "text/plain": [
       "<IPython.core.display.Markdown object>"
      ]
     },
     "metadata": {},
     "output_type": "display_data"
    },
    {
     "data": {
      "text/markdown": [
       "#### Value Counts and Percentage Distribution:"
      ],
      "text/plain": [
       "<IPython.core.display.Markdown object>"
      ]
     },
     "metadata": {},
     "output_type": "display_data"
    },
    {
     "data": {
      "text/html": [
       "<style type=\"text/css\">\n",
       "#T_ae4fb_row0_col0, #T_ae4fb_row0_col1, #T_ae4fb_row0_col2, #T_ae4fb_row1_col0, #T_ae4fb_row1_col1, #T_ae4fb_row1_col2, #T_ae4fb_row2_col0, #T_ae4fb_row2_col1, #T_ae4fb_row2_col2, #T_ae4fb_row3_col0, #T_ae4fb_row3_col1, #T_ae4fb_row3_col2 {\n",
       "  text-align: left;\n",
       "}\n",
       "</style>\n",
       "<table id=\"T_ae4fb\">\n",
       "  <thead>\n",
       "    <tr>\n",
       "      <th class=\"blank level0\" >&nbsp;</th>\n",
       "      <th id=\"T_ae4fb_level0_col0\" class=\"col_heading level0 col0\" >Value</th>\n",
       "      <th id=\"T_ae4fb_level0_col1\" class=\"col_heading level0 col1\" >Count</th>\n",
       "      <th id=\"T_ae4fb_level0_col2\" class=\"col_heading level0 col2\" >Percentage</th>\n",
       "    </tr>\n",
       "  </thead>\n",
       "  <tbody>\n",
       "    <tr>\n",
       "      <th id=\"T_ae4fb_level0_row0\" class=\"row_heading level0 row0\" >0</th>\n",
       "      <td id=\"T_ae4fb_row0_col0\" class=\"data row0 col0\" >Deactive</td>\n",
       "      <td id=\"T_ae4fb_row0_col1\" class=\"data row0 col1\" >9564</td>\n",
       "      <td id=\"T_ae4fb_row0_col2\" class=\"data row0 col2\" >35.679910</td>\n",
       "    </tr>\n",
       "    <tr>\n",
       "      <th id=\"T_ae4fb_level0_row1\" class=\"row_heading level0 row1\" >1</th>\n",
       "      <td id=\"T_ae4fb_row1_col0\" class=\"data row1 col0\" >Active</td>\n",
       "      <td id=\"T_ae4fb_row1_col1\" class=\"data row1 col1\" >6586</td>\n",
       "      <td id=\"T_ae4fb_row1_col2\" class=\"data row1 col2\" >24.570043</td>\n",
       "    </tr>\n",
       "    <tr>\n",
       "      <th id=\"T_ae4fb_level0_row2\" class=\"row_heading level0 row2\" >2</th>\n",
       "      <td id=\"T_ae4fb_row2_col0\" class=\"data row2 col0\" >Hard Suspended</td>\n",
       "      <td id=\"T_ae4fb_row2_col1\" class=\"data row2 col1\" >5738</td>\n",
       "      <td id=\"T_ae4fb_row2_col2\" class=\"data row2 col2\" >21.406454</td>\n",
       "    </tr>\n",
       "    <tr>\n",
       "      <th id=\"T_ae4fb_level0_row3\" class=\"row_heading level0 row3\" >3</th>\n",
       "      <td id=\"T_ae4fb_row3_col0\" class=\"data row3 col0\" >Soft Suspended</td>\n",
       "      <td id=\"T_ae4fb_row3_col1\" class=\"data row3 col1\" >4917</td>\n",
       "      <td id=\"T_ae4fb_row3_col2\" class=\"data row3 col2\" >18.343593</td>\n",
       "    </tr>\n",
       "  </tbody>\n",
       "</table>\n"
      ],
      "text/plain": [
       "<pandas.io.formats.style.Styler at 0x7fea18df3340>"
      ]
     },
     "metadata": {},
     "output_type": "display_data"
    },
    {
     "data": {
      "text/markdown": [
       "---"
      ],
      "text/plain": [
       "<IPython.core.display.Markdown object>"
      ]
     },
     "metadata": {},
     "output_type": "display_data"
    },
    {
     "data": {
      "text/markdown": [
       "### Column: Status Reason"
      ],
      "text/plain": [
       "<IPython.core.display.Markdown object>"
      ]
     },
     "metadata": {},
     "output_type": "display_data"
    },
    {
     "data": {
      "text/markdown": [
       "#### Value Counts and Percentage Distribution:"
      ],
      "text/plain": [
       "<IPython.core.display.Markdown object>"
      ]
     },
     "metadata": {},
     "output_type": "display_data"
    },
    {
     "data": {
      "text/html": [
       "<style type=\"text/css\">\n",
       "#T_8c6d5_row0_col0, #T_8c6d5_row0_col1, #T_8c6d5_row0_col2, #T_8c6d5_row1_col0, #T_8c6d5_row1_col1, #T_8c6d5_row1_col2, #T_8c6d5_row2_col0, #T_8c6d5_row2_col1, #T_8c6d5_row2_col2, #T_8c6d5_row3_col0, #T_8c6d5_row3_col1, #T_8c6d5_row3_col2, #T_8c6d5_row4_col0, #T_8c6d5_row4_col1, #T_8c6d5_row4_col2, #T_8c6d5_row5_col0, #T_8c6d5_row5_col1, #T_8c6d5_row5_col2, #T_8c6d5_row6_col0, #T_8c6d5_row6_col1, #T_8c6d5_row6_col2, #T_8c6d5_row7_col0, #T_8c6d5_row7_col1, #T_8c6d5_row7_col2, #T_8c6d5_row8_col0, #T_8c6d5_row8_col1, #T_8c6d5_row8_col2, #T_8c6d5_row9_col0, #T_8c6d5_row9_col1, #T_8c6d5_row9_col2, #T_8c6d5_row10_col0, #T_8c6d5_row10_col1, #T_8c6d5_row10_col2, #T_8c6d5_row11_col0, #T_8c6d5_row11_col1, #T_8c6d5_row11_col2, #T_8c6d5_row12_col0, #T_8c6d5_row12_col1, #T_8c6d5_row12_col2, #T_8c6d5_row13_col0, #T_8c6d5_row13_col1, #T_8c6d5_row13_col2, #T_8c6d5_row14_col0, #T_8c6d5_row14_col1, #T_8c6d5_row14_col2, #T_8c6d5_row15_col0, #T_8c6d5_row15_col1, #T_8c6d5_row15_col2, #T_8c6d5_row16_col0, #T_8c6d5_row16_col1, #T_8c6d5_row16_col2, #T_8c6d5_row17_col0, #T_8c6d5_row17_col1, #T_8c6d5_row17_col2, #T_8c6d5_row18_col0, #T_8c6d5_row18_col1, #T_8c6d5_row18_col2 {\n",
       "  text-align: left;\n",
       "}\n",
       "</style>\n",
       "<table id=\"T_8c6d5\">\n",
       "  <thead>\n",
       "    <tr>\n",
       "      <th class=\"blank level0\" >&nbsp;</th>\n",
       "      <th id=\"T_8c6d5_level0_col0\" class=\"col_heading level0 col0\" >Value</th>\n",
       "      <th id=\"T_8c6d5_level0_col1\" class=\"col_heading level0 col1\" >Count</th>\n",
       "      <th id=\"T_8c6d5_level0_col2\" class=\"col_heading level0 col2\" >Percentage</th>\n",
       "    </tr>\n",
       "  </thead>\n",
       "  <tbody>\n",
       "    <tr>\n",
       "      <th id=\"T_8c6d5_level0_row0\" class=\"row_heading level0 row0\" >0</th>\n",
       "      <td id=\"T_8c6d5_row0_col0\" class=\"data row0 col0\" >Good Service</td>\n",
       "      <td id=\"T_8c6d5_row0_col1\" class=\"data row0 col1\" >6586</td>\n",
       "      <td id=\"T_8c6d5_row0_col2\" class=\"data row0 col2\" >24.570043</td>\n",
       "    </tr>\n",
       "    <tr>\n",
       "      <th id=\"T_8c6d5_level0_row1\" class=\"row_heading level0 row1\" >1</th>\n",
       "      <td id=\"T_8c6d5_row1_col0\" class=\"data row1 col0\" >Violation of terms</td>\n",
       "      <td id=\"T_8c6d5_row1_col1\" class=\"data row1 col1\" >1461</td>\n",
       "      <td id=\"T_8c6d5_row1_col2\" class=\"data row1 col2\" >5.450476</td>\n",
       "    </tr>\n",
       "    <tr>\n",
       "      <th id=\"T_8c6d5_level0_row2\" class=\"row_heading level0 row2\" >2</th>\n",
       "      <td id=\"T_8c6d5_row2_col0\" class=\"data row2 col0\" >Fraudulent activity</td>\n",
       "      <td id=\"T_8c6d5_row2_col1\" class=\"data row2 col1\" >1430</td>\n",
       "      <td id=\"T_8c6d5_row2_col2\" class=\"data row2 col2\" >5.334826</td>\n",
       "    </tr>\n",
       "    <tr>\n",
       "      <th id=\"T_8c6d5_level0_row3\" class=\"row_heading level0 row3\" >3</th>\n",
       "      <td id=\"T_8c6d5_row3_col0\" class=\"data row3 col0\" >Illegal usage</td>\n",
       "      <td id=\"T_8c6d5_row3_col1\" class=\"data row3 col1\" >1426</td>\n",
       "      <td id=\"T_8c6d5_row3_col2\" class=\"data row3 col2\" >5.319903</td>\n",
       "    </tr>\n",
       "    <tr>\n",
       "      <th id=\"T_8c6d5_level0_row4\" class=\"row_heading level0 row4\" >4</th>\n",
       "      <td id=\"T_8c6d5_row4_col0\" class=\"data row4 col0\" >Non-payment</td>\n",
       "      <td id=\"T_8c6d5_row4_col1\" class=\"data row4 col1\" >1421</td>\n",
       "      <td id=\"T_8c6d5_row4_col2\" class=\"data row4 col2\" >5.301250</td>\n",
       "    </tr>\n",
       "    <tr>\n",
       "      <th id=\"T_8c6d5_level0_row5\" class=\"row_heading level0 row5\" >5</th>\n",
       "      <td id=\"T_8c6d5_row5_col0\" class=\"data row5 col0\" >Service upgrade</td>\n",
       "      <td id=\"T_8c6d5_row5_col1\" class=\"data row5 col1\" >1242</td>\n",
       "      <td id=\"T_8c6d5_row5_col2\" class=\"data row5 col2\" >4.633464</td>\n",
       "    </tr>\n",
       "    <tr>\n",
       "      <th id=\"T_8c6d5_level0_row6\" class=\"row_heading level0 row6\" >6</th>\n",
       "      <td id=\"T_8c6d5_row6_col0\" class=\"data row6 col0\" >Document verification</td>\n",
       "      <td id=\"T_8c6d5_row6_col1\" class=\"data row6 col1\" >1238</td>\n",
       "      <td id=\"T_8c6d5_row6_col2\" class=\"data row6 col2\" >4.618541</td>\n",
       "    </tr>\n",
       "    <tr>\n",
       "      <th id=\"T_8c6d5_level0_row7\" class=\"row_heading level0 row7\" >7</th>\n",
       "      <td id=\"T_8c6d5_row7_col0\" class=\"data row7 col0\" >Technical issue</td>\n",
       "      <td id=\"T_8c6d5_row7_col1\" class=\"data row7 col1\" >1225</td>\n",
       "      <td id=\"T_8c6d5_row7_col2\" class=\"data row7 col2\" >4.570043</td>\n",
       "    </tr>\n",
       "    <tr>\n",
       "      <th id=\"T_8c6d5_level0_row8\" class=\"row_heading level0 row8\" >8</th>\n",
       "      <td id=\"T_8c6d5_row8_col0\" class=\"data row8 col0\" >Customer request</td>\n",
       "      <td id=\"T_8c6d5_row8_col1\" class=\"data row8 col1\" >1212</td>\n",
       "      <td id=\"T_8c6d5_row8_col2\" class=\"data row8 col2\" >4.521544</td>\n",
       "    </tr>\n",
       "    <tr>\n",
       "      <th id=\"T_8c6d5_level0_row9\" class=\"row_heading level0 row9\" >9</th>\n",
       "      <td id=\"T_8c6d5_row9_col0\" class=\"data row9 col0\" >Network Issues</td>\n",
       "      <td id=\"T_8c6d5_row9_col1\" class=\"data row9 col1\" >1003</td>\n",
       "      <td id=\"T_8c6d5_row9_col2\" class=\"data row9 col2\" >3.741839</td>\n",
       "    </tr>\n",
       "    <tr>\n",
       "      <th id=\"T_8c6d5_level0_row10\" class=\"row_heading level0 row10\" >10</th>\n",
       "      <td id=\"T_8c6d5_row10_col0\" class=\"data row10 col0\" >Personal Reasons</td>\n",
       "      <td id=\"T_8c6d5_row10_col1\" class=\"data row10 col1\" >973</td>\n",
       "      <td id=\"T_8c6d5_row10_col2\" class=\"data row10 col2\" >3.629920</td>\n",
       "    </tr>\n",
       "    <tr>\n",
       "      <th id=\"T_8c6d5_level0_row11\" class=\"row_heading level0 row11\" >11</th>\n",
       "      <td id=\"T_8c6d5_row11_col0\" class=\"data row11 col0\" >Price</td>\n",
       "      <td id=\"T_8c6d5_row11_col1\" class=\"data row11 col1\" >970</td>\n",
       "      <td id=\"T_8c6d5_row11_col2\" class=\"data row11 col2\" >3.618728</td>\n",
       "    </tr>\n",
       "    <tr>\n",
       "      <th id=\"T_8c6d5_level0_row12\" class=\"row_heading level0 row12\" >12</th>\n",
       "      <td id=\"T_8c6d5_row12_col0\" class=\"data row12 col0\" >Contract Ended</td>\n",
       "      <td id=\"T_8c6d5_row12_col1\" class=\"data row12 col1\" >958</td>\n",
       "      <td id=\"T_8c6d5_row12_col2\" class=\"data row12 col2\" >3.573960</td>\n",
       "    </tr>\n",
       "    <tr>\n",
       "      <th id=\"T_8c6d5_level0_row13\" class=\"row_heading level0 row13\" >13</th>\n",
       "      <td id=\"T_8c6d5_row13_col0\" class=\"data row13 col0\" >Better Offer Elsewhere</td>\n",
       "      <td id=\"T_8c6d5_row13_col1\" class=\"data row13 col1\" >957</td>\n",
       "      <td id=\"T_8c6d5_row13_col2\" class=\"data row13 col2\" >3.570229</td>\n",
       "    </tr>\n",
       "    <tr>\n",
       "      <th id=\"T_8c6d5_level0_row14\" class=\"row_heading level0 row14\" >14</th>\n",
       "      <td id=\"T_8c6d5_row14_col0\" class=\"data row14 col0\" >Service Quality</td>\n",
       "      <td id=\"T_8c6d5_row14_col1\" class=\"data row14 col1\" >949</td>\n",
       "      <td id=\"T_8c6d5_row14_col2\" class=\"data row14 col2\" >3.540384</td>\n",
       "    </tr>\n",
       "    <tr>\n",
       "      <th id=\"T_8c6d5_level0_row15\" class=\"row_heading level0 row15\" >15</th>\n",
       "      <td id=\"T_8c6d5_row15_col0\" class=\"data row15 col0\" >Billing Issues</td>\n",
       "      <td id=\"T_8c6d5_row15_col1\" class=\"data row15 col1\" >945</td>\n",
       "      <td id=\"T_8c6d5_row15_col2\" class=\"data row15 col2\" >3.525462</td>\n",
       "    </tr>\n",
       "    <tr>\n",
       "      <th id=\"T_8c6d5_level0_row16\" class=\"row_heading level0 row16\" >16</th>\n",
       "      <td id=\"T_8c6d5_row16_col0\" class=\"data row16 col0\" >Technical Difficulties</td>\n",
       "      <td id=\"T_8c6d5_row16_col1\" class=\"data row16 col1\" >941</td>\n",
       "      <td id=\"T_8c6d5_row16_col2\" class=\"data row16 col2\" >3.510539</td>\n",
       "    </tr>\n",
       "    <tr>\n",
       "      <th id=\"T_8c6d5_level0_row17\" class=\"row_heading level0 row17\" >17</th>\n",
       "      <td id=\"T_8c6d5_row17_col0\" class=\"data row17 col0\" >Lack of Usage</td>\n",
       "      <td id=\"T_8c6d5_row17_col1\" class=\"data row17 col1\" >940</td>\n",
       "      <td id=\"T_8c6d5_row17_col2\" class=\"data row17 col2\" >3.506808</td>\n",
       "    </tr>\n",
       "    <tr>\n",
       "      <th id=\"T_8c6d5_level0_row18\" class=\"row_heading level0 row18\" >18</th>\n",
       "      <td id=\"T_8c6d5_row18_col0\" class=\"data row18 col0\" >Moved</td>\n",
       "      <td id=\"T_8c6d5_row18_col1\" class=\"data row18 col1\" >928</td>\n",
       "      <td id=\"T_8c6d5_row18_col2\" class=\"data row18 col2\" >3.462041</td>\n",
       "    </tr>\n",
       "  </tbody>\n",
       "</table>\n"
      ],
      "text/plain": [
       "<pandas.io.formats.style.Styler at 0x7fea18df3400>"
      ]
     },
     "metadata": {},
     "output_type": "display_data"
    },
    {
     "data": {
      "text/markdown": [
       "---"
      ],
      "text/plain": [
       "<IPython.core.display.Markdown object>"
      ]
     },
     "metadata": {},
     "output_type": "display_data"
    },
    {
     "data": {
      "text/markdown": [
       "### Column: Segment1"
      ],
      "text/plain": [
       "<IPython.core.display.Markdown object>"
      ]
     },
     "metadata": {},
     "output_type": "display_data"
    },
    {
     "data": {
      "text/markdown": [
       "#### Value Counts and Percentage Distribution:"
      ],
      "text/plain": [
       "<IPython.core.display.Markdown object>"
      ]
     },
     "metadata": {},
     "output_type": "display_data"
    },
    {
     "data": {
      "text/html": [
       "<style type=\"text/css\">\n",
       "#T_f0e41_row0_col0, #T_f0e41_row0_col1, #T_f0e41_row0_col2, #T_f0e41_row1_col0, #T_f0e41_row1_col1, #T_f0e41_row1_col2 {\n",
       "  text-align: left;\n",
       "}\n",
       "</style>\n",
       "<table id=\"T_f0e41\">\n",
       "  <thead>\n",
       "    <tr>\n",
       "      <th class=\"blank level0\" >&nbsp;</th>\n",
       "      <th id=\"T_f0e41_level0_col0\" class=\"col_heading level0 col0\" >Value</th>\n",
       "      <th id=\"T_f0e41_level0_col1\" class=\"col_heading level0 col1\" >Count</th>\n",
       "      <th id=\"T_f0e41_level0_col2\" class=\"col_heading level0 col2\" >Percentage</th>\n",
       "    </tr>\n",
       "  </thead>\n",
       "  <tbody>\n",
       "    <tr>\n",
       "      <th id=\"T_f0e41_level0_row0\" class=\"row_heading level0 row0\" >0</th>\n",
       "      <td id=\"T_f0e41_row0_col0\" class=\"data row0 col0\" >Prepaid</td>\n",
       "      <td id=\"T_f0e41_row0_col1\" class=\"data row0 col1\" >17206</td>\n",
       "      <td id=\"T_f0e41_row0_col2\" class=\"data row0 col2\" >64.189517</td>\n",
       "    </tr>\n",
       "    <tr>\n",
       "      <th id=\"T_f0e41_level0_row1\" class=\"row_heading level0 row1\" >1</th>\n",
       "      <td id=\"T_f0e41_row1_col0\" class=\"data row1 col0\" >Postpaid</td>\n",
       "      <td id=\"T_f0e41_row1_col1\" class=\"data row1 col1\" >9599</td>\n",
       "      <td id=\"T_f0e41_row1_col2\" class=\"data row1 col2\" >35.810483</td>\n",
       "    </tr>\n",
       "  </tbody>\n",
       "</table>\n"
      ],
      "text/plain": [
       "<pandas.io.formats.style.Styler at 0x7fea18df0a30>"
      ]
     },
     "metadata": {},
     "output_type": "display_data"
    },
    {
     "data": {
      "text/markdown": [
       "---"
      ],
      "text/plain": [
       "<IPython.core.display.Markdown object>"
      ]
     },
     "metadata": {},
     "output_type": "display_data"
    },
    {
     "data": {
      "text/markdown": [
       "### Column: Segment2"
      ],
      "text/plain": [
       "<IPython.core.display.Markdown object>"
      ]
     },
     "metadata": {},
     "output_type": "display_data"
    },
    {
     "data": {
      "text/markdown": [
       "#### Value Counts and Percentage Distribution:"
      ],
      "text/plain": [
       "<IPython.core.display.Markdown object>"
      ]
     },
     "metadata": {},
     "output_type": "display_data"
    },
    {
     "data": {
      "text/html": [
       "<style type=\"text/css\">\n",
       "#T_1328a_row0_col0, #T_1328a_row0_col1, #T_1328a_row0_col2, #T_1328a_row1_col0, #T_1328a_row1_col1, #T_1328a_row1_col2, #T_1328a_row2_col0, #T_1328a_row2_col1, #T_1328a_row2_col2 {\n",
       "  text-align: left;\n",
       "}\n",
       "</style>\n",
       "<table id=\"T_1328a\">\n",
       "  <thead>\n",
       "    <tr>\n",
       "      <th class=\"blank level0\" >&nbsp;</th>\n",
       "      <th id=\"T_1328a_level0_col0\" class=\"col_heading level0 col0\" >Value</th>\n",
       "      <th id=\"T_1328a_level0_col1\" class=\"col_heading level0 col1\" >Count</th>\n",
       "      <th id=\"T_1328a_level0_col2\" class=\"col_heading level0 col2\" >Percentage</th>\n",
       "    </tr>\n",
       "  </thead>\n",
       "  <tbody>\n",
       "    <tr>\n",
       "      <th id=\"T_1328a_level0_row0\" class=\"row_heading level0 row0\" >0</th>\n",
       "      <td id=\"T_1328a_row0_col0\" class=\"data row0 col0\" >Residential</td>\n",
       "      <td id=\"T_1328a_row0_col1\" class=\"data row0 col1\" >16939</td>\n",
       "      <td id=\"T_1328a_row0_col2\" class=\"data row0 col2\" >63.193434</td>\n",
       "    </tr>\n",
       "    <tr>\n",
       "      <th id=\"T_1328a_level0_row1\" class=\"row_heading level0 row1\" >1</th>\n",
       "      <td id=\"T_1328a_row1_col0\" class=\"data row1 col0\" >Corporate</td>\n",
       "      <td id=\"T_1328a_row1_col1\" class=\"data row1 col1\" >5842</td>\n",
       "      <td id=\"T_1328a_row1_col2\" class=\"data row1 col2\" >21.794441</td>\n",
       "    </tr>\n",
       "    <tr>\n",
       "      <th id=\"T_1328a_level0_row2\" class=\"row_heading level0 row2\" >2</th>\n",
       "      <td id=\"T_1328a_row2_col0\" class=\"data row2 col0\" >PRO</td>\n",
       "      <td id=\"T_1328a_row2_col1\" class=\"data row2 col1\" >4024</td>\n",
       "      <td id=\"T_1328a_row2_col2\" class=\"data row2 col2\" >15.012125</td>\n",
       "    </tr>\n",
       "  </tbody>\n",
       "</table>\n"
      ],
      "text/plain": [
       "<pandas.io.formats.style.Styler at 0x7fe9a3841d50>"
      ]
     },
     "metadata": {},
     "output_type": "display_data"
    },
    {
     "data": {
      "text/markdown": [
       "---"
      ],
      "text/plain": [
       "<IPython.core.display.Markdown object>"
      ]
     },
     "metadata": {},
     "output_type": "display_data"
    }
   ],
   "source": [
    "info.categorical_summary()"
   ]
  },
  {
   "cell_type": "code",
   "execution_count": 22,
   "metadata": {},
   "outputs": [
    {
     "data": {
      "text/markdown": [
       "### Shape:"
      ],
      "text/plain": [
       "<IPython.core.display.Markdown object>"
      ]
     },
     "metadata": {},
     "output_type": "display_data"
    },
    {
     "data": {
      "text/plain": [
       "(26805, 14)"
      ]
     },
     "metadata": {},
     "output_type": "display_data"
    },
    {
     "data": {
      "text/markdown": [
       "### Columns and Metadata:"
      ],
      "text/plain": [
       "<IPython.core.display.Markdown object>"
      ]
     },
     "metadata": {},
     "output_type": "display_data"
    },
    {
     "data": {
      "text/html": [
       "<style type=\"text/css\">\n",
       "#T_2ac28 th {\n",
       "  text-align: left;\n",
       "}\n",
       "#T_2ac28_row0_col0, #T_2ac28_row0_col1, #T_2ac28_row0_col2, #T_2ac28_row1_col0, #T_2ac28_row1_col1, #T_2ac28_row1_col2, #T_2ac28_row2_col0, #T_2ac28_row2_col1, #T_2ac28_row2_col2, #T_2ac28_row3_col0, #T_2ac28_row3_col1, #T_2ac28_row3_col2, #T_2ac28_row4_col0, #T_2ac28_row4_col1, #T_2ac28_row4_col2, #T_2ac28_row5_col0, #T_2ac28_row5_col1, #T_2ac28_row5_col2, #T_2ac28_row6_col0, #T_2ac28_row6_col1, #T_2ac28_row6_col2, #T_2ac28_row7_col0, #T_2ac28_row7_col1, #T_2ac28_row7_col2, #T_2ac28_row8_col0, #T_2ac28_row8_col1, #T_2ac28_row8_col2, #T_2ac28_row9_col0, #T_2ac28_row9_col1, #T_2ac28_row9_col2, #T_2ac28_row10_col0, #T_2ac28_row10_col1, #T_2ac28_row10_col2, #T_2ac28_row11_col0, #T_2ac28_row11_col1, #T_2ac28_row11_col2, #T_2ac28_row12_col0, #T_2ac28_row12_col1, #T_2ac28_row12_col2, #T_2ac28_row13_col0, #T_2ac28_row13_col1, #T_2ac28_row13_col2 {\n",
       "  text-align: left;\n",
       "}\n",
       "</style>\n",
       "<table id=\"T_2ac28\">\n",
       "  <thead>\n",
       "    <tr>\n",
       "      <th class=\"blank level0\" >&nbsp;</th>\n",
       "      <th id=\"T_2ac28_level0_col0\" class=\"col_heading level0 col0\" >Data Type</th>\n",
       "      <th id=\"T_2ac28_level0_col1\" class=\"col_heading level0 col1\" >Null Values</th>\n",
       "      <th id=\"T_2ac28_level0_col2\" class=\"col_heading level0 col2\" >Precentage of Nulls</th>\n",
       "    </tr>\n",
       "  </thead>\n",
       "  <tbody>\n",
       "    <tr>\n",
       "      <th id=\"T_2ac28_level0_row0\" class=\"row_heading level0 row0\" >POS_MSISDN</th>\n",
       "      <td id=\"T_2ac28_row0_col0\" class=\"data row0 col0\" >object</td>\n",
       "      <td id=\"T_2ac28_row0_col1\" class=\"data row0 col1\" >0</td>\n",
       "      <td id=\"T_2ac28_row0_col2\" class=\"data row0 col2\" >0.0</td>\n",
       "    </tr>\n",
       "    <tr>\n",
       "      <th id=\"T_2ac28_level0_row1\" class=\"row_heading level0 row1\" >Distributer</th>\n",
       "      <td id=\"T_2ac28_row1_col0\" class=\"data row1 col0\" >object</td>\n",
       "      <td id=\"T_2ac28_row1_col1\" class=\"data row1 col1\" >0</td>\n",
       "      <td id=\"T_2ac28_row1_col2\" class=\"data row1 col2\" >0.0</td>\n",
       "    </tr>\n",
       "    <tr>\n",
       "      <th id=\"T_2ac28_level0_row2\" class=\"row_heading level0 row2\" >Plan Name</th>\n",
       "      <td id=\"T_2ac28_row2_col0\" class=\"data row2 col0\" >object</td>\n",
       "      <td id=\"T_2ac28_row2_col1\" class=\"data row2 col1\" >0</td>\n",
       "      <td id=\"T_2ac28_row2_col2\" class=\"data row2 col2\" >0.0</td>\n",
       "    </tr>\n",
       "    <tr>\n",
       "      <th id=\"T_2ac28_level0_row3\" class=\"row_heading level0 row3\" >Customer Tenure</th>\n",
       "      <td id=\"T_2ac28_row3_col0\" class=\"data row3 col0\" >int64</td>\n",
       "      <td id=\"T_2ac28_row3_col1\" class=\"data row3 col1\" >0</td>\n",
       "      <td id=\"T_2ac28_row3_col2\" class=\"data row3 col2\" >0.0</td>\n",
       "    </tr>\n",
       "    <tr>\n",
       "      <th id=\"T_2ac28_level0_row4\" class=\"row_heading level0 row4\" >Tenure Category</th>\n",
       "      <td id=\"T_2ac28_row4_col0\" class=\"data row4 col0\" >object</td>\n",
       "      <td id=\"T_2ac28_row4_col1\" class=\"data row4 col1\" >0</td>\n",
       "      <td id=\"T_2ac28_row4_col2\" class=\"data row4 col2\" >0.0</td>\n",
       "    </tr>\n",
       "    <tr>\n",
       "      <th id=\"T_2ac28_level0_row5\" class=\"row_heading level0 row5\" >Status</th>\n",
       "      <td id=\"T_2ac28_row5_col0\" class=\"data row5 col0\" >object</td>\n",
       "      <td id=\"T_2ac28_row5_col1\" class=\"data row5 col1\" >0</td>\n",
       "      <td id=\"T_2ac28_row5_col2\" class=\"data row5 col2\" >0.0</td>\n",
       "    </tr>\n",
       "    <tr>\n",
       "      <th id=\"T_2ac28_level0_row6\" class=\"row_heading level0 row6\" >Status Reason</th>\n",
       "      <td id=\"T_2ac28_row6_col0\" class=\"data row6 col0\" >object</td>\n",
       "      <td id=\"T_2ac28_row6_col1\" class=\"data row6 col1\" >0</td>\n",
       "      <td id=\"T_2ac28_row6_col2\" class=\"data row6 col2\" >0.0</td>\n",
       "    </tr>\n",
       "    <tr>\n",
       "      <th id=\"T_2ac28_level0_row7\" class=\"row_heading level0 row7\" >Segment1</th>\n",
       "      <td id=\"T_2ac28_row7_col0\" class=\"data row7 col0\" >object</td>\n",
       "      <td id=\"T_2ac28_row7_col1\" class=\"data row7 col1\" >0</td>\n",
       "      <td id=\"T_2ac28_row7_col2\" class=\"data row7 col2\" >0.0</td>\n",
       "    </tr>\n",
       "    <tr>\n",
       "      <th id=\"T_2ac28_level0_row8\" class=\"row_heading level0 row8\" >Segment2</th>\n",
       "      <td id=\"T_2ac28_row8_col0\" class=\"data row8 col0\" >object</td>\n",
       "      <td id=\"T_2ac28_row8_col1\" class=\"data row8 col1\" >0</td>\n",
       "      <td id=\"T_2ac28_row8_col2\" class=\"data row8 col2\" >0.0</td>\n",
       "    </tr>\n",
       "    <tr>\n",
       "      <th id=\"T_2ac28_level0_row9\" class=\"row_heading level0 row9\" >Churn Flag</th>\n",
       "      <td id=\"T_2ac28_row9_col0\" class=\"data row9 col0\" >int64</td>\n",
       "      <td id=\"T_2ac28_row9_col1\" class=\"data row9 col1\" >0</td>\n",
       "      <td id=\"T_2ac28_row9_col2\" class=\"data row9 col2\" >0.0</td>\n",
       "    </tr>\n",
       "    <tr>\n",
       "      <th id=\"T_2ac28_level0_row10\" class=\"row_heading level0 row10\" >Customer Interaction Score</th>\n",
       "      <td id=\"T_2ac28_row10_col0\" class=\"data row10 col0\" >int64</td>\n",
       "      <td id=\"T_2ac28_row10_col1\" class=\"data row10 col1\" >0</td>\n",
       "      <td id=\"T_2ac28_row10_col2\" class=\"data row10 col2\" >0.0</td>\n",
       "    </tr>\n",
       "    <tr>\n",
       "      <th id=\"T_2ac28_level0_row11\" class=\"row_heading level0 row11\" >Loyalty Points</th>\n",
       "      <td id=\"T_2ac28_row11_col0\" class=\"data row11 col0\" >int64</td>\n",
       "      <td id=\"T_2ac28_row11_col1\" class=\"data row11 col1\" >0</td>\n",
       "      <td id=\"T_2ac28_row11_col2\" class=\"data row11 col2\" >0.0</td>\n",
       "    </tr>\n",
       "    <tr>\n",
       "      <th id=\"T_2ac28_level0_row12\" class=\"row_heading level0 row12\" >Data Usage Tier</th>\n",
       "      <td id=\"T_2ac28_row12_col0\" class=\"data row12 col0\" >int64</td>\n",
       "      <td id=\"T_2ac28_row12_col1\" class=\"data row12 col1\" >0</td>\n",
       "      <td id=\"T_2ac28_row12_col2\" class=\"data row12 col2\" >0.0</td>\n",
       "    </tr>\n",
       "    <tr>\n",
       "      <th id=\"T_2ac28_level0_row13\" class=\"row_heading level0 row13\" >Customer Segment Change Flag</th>\n",
       "      <td id=\"T_2ac28_row13_col0\" class=\"data row13 col0\" >bool</td>\n",
       "      <td id=\"T_2ac28_row13_col1\" class=\"data row13 col1\" >0</td>\n",
       "      <td id=\"T_2ac28_row13_col2\" class=\"data row13 col2\" >0.0</td>\n",
       "    </tr>\n",
       "  </tbody>\n",
       "</table>\n"
      ],
      "text/plain": [
       "<pandas.io.formats.style.Styler at 0x7fe9d41b7880>"
      ]
     },
     "metadata": {},
     "output_type": "display_data"
    },
    {
     "data": {
      "text/markdown": [
       "### Duplicated Rows:"
      ],
      "text/plain": [
       "<IPython.core.display.Markdown object>"
      ]
     },
     "metadata": {},
     "output_type": "display_data"
    },
    {
     "data": {
      "text/html": [
       "<div>\n",
       "<style scoped>\n",
       "    .dataframe tbody tr th:only-of-type {\n",
       "        vertical-align: middle;\n",
       "    }\n",
       "\n",
       "    .dataframe tbody tr th {\n",
       "        vertical-align: top;\n",
       "    }\n",
       "\n",
       "    .dataframe thead th {\n",
       "        text-align: right;\n",
       "    }\n",
       "</style>\n",
       "<table border=\"1\" class=\"dataframe\">\n",
       "  <thead>\n",
       "    <tr style=\"text-align: right;\">\n",
       "      <th></th>\n",
       "      <th>Duplicated Rows Count</th>\n",
       "    </tr>\n",
       "  </thead>\n",
       "  <tbody>\n",
       "    <tr>\n",
       "      <th>Total</th>\n",
       "      <td>0</td>\n",
       "    </tr>\n",
       "  </tbody>\n",
       "</table>\n",
       "</div>"
      ],
      "text/plain": [
       "       Duplicated Rows Count\n",
       "Total                      0"
      ]
     },
     "metadata": {},
     "output_type": "display_data"
    }
   ],
   "source": [
    "info.dataframe_summary()"
   ]
  },
  {
   "cell_type": "code",
   "execution_count": 23,
   "metadata": {},
   "outputs": [
    {
     "data": {
      "text/plain": [
       "array([48, 65, 73, 10, 85, 55, 87, 84, 14, 76, 41, 28, 50, 30, 68, 17, 16,\n",
       "       34, 54, 11, 80, 74, 60, 75, 46, 81, 52, 32, 27, 12, 24, 49, 89, 67,\n",
       "       29, 78, 70, 83, 77, 23, 42, 82, 39, 88, 57, 63, 45, 69, 31, 37, 61,\n",
       "       36, 56, 20, 22, 35, 59, 58, 33, 79, 66, 51, 13, 71, 19, 62, 26, 47,\n",
       "       72, 38, 90, 40, 44, 43, 53, 21, 25, 86, 64, 18, 15])"
      ]
     },
     "execution_count": 23,
     "metadata": {},
     "output_type": "execute_result"
    }
   ],
   "source": [
    "df[\"Loyalty Points\"].unique()"
   ]
  },
  {
   "cell_type": "markdown",
   "metadata": {},
   "source": [
    "## SKLearn Encoder"
   ]
  },
  {
   "cell_type": "code",
   "execution_count": 24,
   "metadata": {},
   "outputs": [],
   "source": [
    "def save_as_pickle(path,variable):\n",
    "    with open(path,\"wb\") as file:\n",
    "        pickle.dump(variable,file)"
   ]
  },
  {
   "cell_type": "markdown",
   "metadata": {},
   "source": [
    "### POS_MSISDN"
   ]
  },
  {
   "cell_type": "code",
   "execution_count": 25,
   "metadata": {},
   "outputs": [],
   "source": [
    "le_pos = LabelEncoder()\n",
    "\n",
    "df[\"POS_MSISDN\"] = le_pos.fit_transform(df[\"POS_MSISDN\"])\n",
    "\n",
    "save_as_pickle(r\"variables/le_pos.pkl\",le_pos)"
   ]
  },
  {
   "cell_type": "code",
   "execution_count": 26,
   "metadata": {},
   "outputs": [],
   "source": [
    "le_distributer = LabelEncoder()\n",
    "\n",
    "df[\"Distributer\"] = le_distributer.fit_transform(df[\"Distributer\"])\n",
    "save_as_pickle(r\"variables/le_distributer.pkl\", le_distributer)"
   ]
  },
  {
   "cell_type": "code",
   "execution_count": 27,
   "metadata": {},
   "outputs": [],
   "source": [
    "le_plan = LabelEncoder()\n",
    "df[\"Plan Name\"] = le_plan.fit_transform(df[\"Plan Name\"])\n",
    "\n",
    "save_as_pickle(r\"variables/le_plan.pkl\", le_plan)"
   ]
  },
  {
   "cell_type": "code",
   "execution_count": 28,
   "metadata": {},
   "outputs": [],
   "source": [
    "le_reason = LabelEncoder()\n",
    "\n",
    "df[\"Status Reason\"] = le_reason.fit_transform(df[\"Status Reason\"])\n",
    "\n",
    "save_as_pickle(r\"variables/le_reason.pkl\", le_reason)"
   ]
  },
  {
   "cell_type": "markdown",
   "metadata": {},
   "source": [
    "## Scratch Encoder"
   ]
  },
  {
   "cell_type": "markdown",
   "metadata": {},
   "source": [
    "### Tenure Category"
   ]
  },
  {
   "cell_type": "code",
   "execution_count": 29,
   "metadata": {},
   "outputs": [],
   "source": [
    "df[\"Tenure Category\"] = df[\"Tenure Category\"].map({\"Short-term\": 0, \"Medium-term\": 1, \"Long-term\": 2})"
   ]
  },
  {
   "cell_type": "markdown",
   "metadata": {},
   "source": [
    "### Status"
   ]
  },
  {
   "cell_type": "code",
   "execution_count": 30,
   "metadata": {},
   "outputs": [],
   "source": [
    "\n",
    "df[\"Status\"] = df[\"Status\"].map({\"Hard Suspended\": 0, \"Soft Suspended\": 1, \"Deactive\": 2, \"Active\": 3})"
   ]
  },
  {
   "cell_type": "markdown",
   "metadata": {},
   "source": [
    "### Segment 1"
   ]
  },
  {
   "cell_type": "code",
   "execution_count": 31,
   "metadata": {},
   "outputs": [],
   "source": [
    "df[\"Segment1\"] = df[\"Segment1\"].map(\n",
    "    {\"Prepaid\": 0, \"Postpaid\": 1}\n",
    ")"
   ]
  },
  {
   "cell_type": "markdown",
   "metadata": {},
   "source": [
    "### Segment 2"
   ]
  },
  {
   "cell_type": "code",
   "execution_count": 32,
   "metadata": {},
   "outputs": [],
   "source": [
    "df[\"Segment2\"] = df[\"Segment2\"].map({\"Residential\": 0, \"Corporate\": 1, \"PRO\":2})"
   ]
  },
  {
   "cell_type": "markdown",
   "metadata": {},
   "source": [
    "### Customer Segment Change Flag"
   ]
  },
  {
   "cell_type": "code",
   "execution_count": 33,
   "metadata": {},
   "outputs": [],
   "source": [
    "df[\"Customer Segment Change Flag\"] = df[\"Customer Segment Change Flag\"].map(\n",
    "    {False: 0, True: 1}\n",
    ")"
   ]
  },
  {
   "cell_type": "markdown",
   "metadata": {},
   "source": [
    "# Scaling"
   ]
  },
  {
   "cell_type": "code",
   "execution_count": 34,
   "metadata": {},
   "outputs": [],
   "source": [
    "# Separate the 'Status' column\n",
    "churn_column = df[\"Churn Flag\"]\n",
    "dropped_df = df.drop(\"Churn Flag\", axis=1)\n",
    "\n",
    "# Initialize and apply MinMaxScaler to the dropped_df\n",
    "scaler = MinMaxScaler()\n",
    "scaled_dropped_df = scaler.fit_transform(dropped_df.to_numpy())\n",
    "\n",
    "# Create a DataFrame from the scaled dropped_df\n",
    "df = pd.DataFrame(scaled_dropped_df, columns=dropped_df.columns)\n",
    "\n",
    "# Reattach the 'Status' column\n",
    "df[\"Churn Flag\"] = churn_column\n",
    "\n",
    "save_as_pickle(r\"variables/scaler.pkl\",scaler)"
   ]
  },
  {
   "cell_type": "code",
   "execution_count": 35,
   "metadata": {},
   "outputs": [],
   "source": [
    "df.to_csv(\n",
    "    r\"data/processed_data.csv\",\n",
    "    index=False,\n",
    "    encoding=\"utf-8-sig\",\n",
    ")"
   ]
  }
 ],
 "metadata": {
  "kernelspec": {
   "display_name": "datascience-mlflow-Zoqge6qi-py3.9",
   "language": "python",
   "name": "python3"
  },
  "language_info": {
   "codemirror_mode": {
    "name": "ipython",
    "version": 3
   },
   "file_extension": ".py",
   "mimetype": "text/x-python",
   "name": "python",
   "nbconvert_exporter": "python",
   "pygments_lexer": "ipython3",
   "version": "3.10.12"
  }
 },
 "nbformat": 4,
 "nbformat_minor": 2
}
