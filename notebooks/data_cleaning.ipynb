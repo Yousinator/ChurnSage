{
 "cells": [
  {
   "cell_type": "markdown",
   "metadata": {},
   "source": [
    "# Imports and Setup"
   ]
  },
  {
   "cell_type": "code",
   "execution_count": 4,
   "metadata": {},
   "outputs": [],
   "source": [
    "import os\n",
    "\n",
    "os.chdir(r\"/home/yousinator/personal/ChurnSage\") #! Change It to to the path on your device or cloud\n",
    "\n",
    "import pandas as pd\n",
    "import numpy as np\n",
    "from base_functions import DataSetInformation\n",
    "from sklearn.ensemble import RandomForestClassifier\n",
    "from base_functions import Plotting\n",
    "from sklearn.preprocessing import LabelEncoder"
   ]
  },
  {
   "cell_type": "code",
   "execution_count": 5,
   "metadata": {},
   "outputs": [],
   "source": [
    "df = pd.read_csv(\n",
    "    r\"data/actiavation_Aug_Oct2023.csv\"\n",
    ")\n",
    "metadata = {\n",
    "    \"CO_ID\": \"Anonymized contract number, unique identifier.\",\n",
    "    \"USER_CREATED_BY\": \"Identifier of the user who created the entry.\",\n",
    "    \"MSISDN\": \"Anonymized mobile phone number, unique.\",\n",
    "    \"POS_MSISDN\": \"Point of Sale ID, where the contract was sold/initiated.\",\n",
    "    \"Plan_Name\": \"Name of the plan subscribed to.\",\n",
    "    \"ACTIVE_DATE\": \"Activation date of the service.\",\n",
    "    \"DEACTIVE_DATE\": \"Deactivation date of the service.\",\n",
    "    \"Customer Tenure\": \"Duration between activation and deactivation/current date.\",\n",
    "    \"Tenure Category\": \"Categorization of tenure into segments (short-term, medium-term, and long-term).\",\n",
    "    \"STATUS\": \"Current status of the line (Active, Suspended, etc.).\",\n",
    "    \"Status Reason\": \"Reason behind the current status.\",\n",
    "    \"SEGMENT1\": \"Customer segmentation category.\",\n",
    "    \"SEGMENT2\": \"Customer segmentation category.\",\n",
    "    \"Churn Flag\": \"Indicator of whether a customer has discontinued the service.\",\n",
    "    \"Customer Interaction Score\": \"Frequency/quality of interactions with customer service.\",\n",
    "    \"Loyalty Points\": \"Points assigned based on tenure, status, and segment.\",\n",
    "    \"Data Usage Tier\": \"Classification based on presumed data usage (3:High, 2:Medium, 1:Low).\",\n",
    "    \"Customer Segment Change Flag\": \"Indicates if a customer changed segments.\",\n",
    "    \"DISTRIBUTER\": \"Entity/shop responsible for service distribution or activation.\",\n",
    "}"
   ]
  },
  {
   "cell_type": "markdown",
   "metadata": {},
   "source": [
    "# EDA"
   ]
  },
  {
   "cell_type": "code",
   "execution_count": 6,
   "metadata": {},
   "outputs": [
    {
     "data": {
      "text/html": [
       "<div>\n",
       "<style scoped>\n",
       "    .dataframe tbody tr th:only-of-type {\n",
       "        vertical-align: middle;\n",
       "    }\n",
       "\n",
       "    .dataframe tbody tr th {\n",
       "        vertical-align: top;\n",
       "    }\n",
       "\n",
       "    .dataframe thead th {\n",
       "        text-align: right;\n",
       "    }\n",
       "</style>\n",
       "<table border=\"1\" class=\"dataframe\">\n",
       "  <thead>\n",
       "    <tr style=\"text-align: right;\">\n",
       "      <th></th>\n",
       "      <th>CO_ID</th>\n",
       "      <th>USER_CREATED_BY</th>\n",
       "      <th>MSISDN</th>\n",
       "      <th>POS_MSISDN</th>\n",
       "      <th>DISTRIBUTER</th>\n",
       "      <th>Plan_Name</th>\n",
       "      <th>ACTIVE_DATE</th>\n",
       "      <th>DEACTIVE_DATE</th>\n",
       "      <th>Customer Tenure</th>\n",
       "      <th>Tenure Category</th>\n",
       "      <th>STATUS</th>\n",
       "      <th>Status Reason</th>\n",
       "      <th>SEGMENT1</th>\n",
       "      <th>SEGMENT2</th>\n",
       "      <th>Churn Flag</th>\n",
       "      <th>Customer Interaction Score</th>\n",
       "      <th>Loyalty Points</th>\n",
       "      <th>Data Usage Tier</th>\n",
       "      <th>Customer Segment Change Flag</th>\n",
       "    </tr>\n",
       "  </thead>\n",
       "  <tbody>\n",
       "    <tr>\n",
       "      <th>0</th>\n",
       "      <td>31154967</td>\n",
       "      <td>BJNN1810</td>\n",
       "      <td>891476116</td>\n",
       "      <td>ORG3448</td>\n",
       "      <td>BL-NVTBTBXFRB BL-LB NVTBNBHFZB (LJNJTLFTT JNTF...</td>\n",
       "      <td>Basic Orange Plan</td>\n",
       "      <td>10/5/2023</td>\n",
       "      <td>NaN</td>\n",
       "      <td>88</td>\n",
       "      <td>NaN</td>\n",
       "      <td>Hard Suspended</td>\n",
       "      <td>Violation of terms</td>\n",
       "      <td>Prepaid</td>\n",
       "      <td>Residential</td>\n",
       "      <td>1</td>\n",
       "      <td>3</td>\n",
       "      <td>48</td>\n",
       "      <td>1.0</td>\n",
       "      <td>TRUE</td>\n",
       "    </tr>\n",
       "    <tr>\n",
       "      <th>1</th>\n",
       "      <td>31719208</td>\n",
       "      <td>TTP.PNBR.BLTHBLHBNBF</td>\n",
       "      <td>891433210</td>\n",
       "      <td>NaN</td>\n",
       "      <td>FJFLDTBLFT</td>\n",
       "      <td>Governorates 10</td>\n",
       "      <td>9/28/2023</td>\n",
       "      <td>NaN</td>\n",
       "      <td>95</td>\n",
       "      <td>Medium-term</td>\n",
       "      <td>Active</td>\n",
       "      <td>NaN</td>\n",
       "      <td>Postpaid</td>\n",
       "      <td>PRO</td>\n",
       "      <td>1</td>\n",
       "      <td>7</td>\n",
       "      <td>65</td>\n",
       "      <td>3.0</td>\n",
       "      <td>TRUE</td>\n",
       "    </tr>\n",
       "    <tr>\n",
       "      <th>2</th>\n",
       "      <td>30566993</td>\n",
       "      <td>BJNN1810</td>\n",
       "      <td>882740023</td>\n",
       "      <td>NaN</td>\n",
       "      <td>FRBNDHJTF - TBFFXBZ 7TH DJRDLF</td>\n",
       "      <td>Family Orange Plan 10</td>\n",
       "      <td>9/19/2023</td>\n",
       "      <td>NaN</td>\n",
       "      <td>104</td>\n",
       "      <td>Medium-term</td>\n",
       "      <td>Active</td>\n",
       "      <td>NaN</td>\n",
       "      <td>Prepaid</td>\n",
       "      <td>PRO</td>\n",
       "      <td>1</td>\n",
       "      <td>6</td>\n",
       "      <td>65</td>\n",
       "      <td>2.0</td>\n",
       "      <td>TRUE</td>\n",
       "    </tr>\n",
       "    <tr>\n",
       "      <th>3</th>\n",
       "      <td>31654015</td>\n",
       "      <td>DPNB1876</td>\n",
       "      <td>529853159</td>\n",
       "      <td>NaN</td>\n",
       "      <td>FNTFRPRJTF TBLFT TTPDL</td>\n",
       "      <td>Orange 90</td>\n",
       "      <td>9/13/2023</td>\n",
       "      <td>10/22/2023</td>\n",
       "      <td>39</td>\n",
       "      <td>Short-term</td>\n",
       "      <td>Deactive</td>\n",
       "      <td>Service Quality</td>\n",
       "      <td>Postpaid</td>\n",
       "      <td>Corporate</td>\n",
       "      <td>1</td>\n",
       "      <td>9</td>\n",
       "      <td>73</td>\n",
       "      <td>NaN</td>\n",
       "      <td>TRUE</td>\n",
       "    </tr>\n",
       "    <tr>\n",
       "      <th>4</th>\n",
       "      <td>31237322</td>\n",
       "      <td>DPNB1876</td>\n",
       "      <td>883224490</td>\n",
       "      <td>NaN</td>\n",
       "      <td>FNTFRPRJTF TBLFT TTPDL</td>\n",
       "      <td>Orange 60</td>\n",
       "      <td>8/10/2023</td>\n",
       "      <td>8/28/2023</td>\n",
       "      <td>18</td>\n",
       "      <td>Short-term</td>\n",
       "      <td>Deactive</td>\n",
       "      <td>Lack of Usage</td>\n",
       "      <td>Postpaid</td>\n",
       "      <td>Corporate</td>\n",
       "      <td>1</td>\n",
       "      <td>5</td>\n",
       "      <td>10</td>\n",
       "      <td>NaN</td>\n",
       "      <td>TRUE</td>\n",
       "    </tr>\n",
       "    <tr>\n",
       "      <th>...</th>\n",
       "      <td>...</td>\n",
       "      <td>...</td>\n",
       "      <td>...</td>\n",
       "      <td>...</td>\n",
       "      <td>...</td>\n",
       "      <td>...</td>\n",
       "      <td>...</td>\n",
       "      <td>...</td>\n",
       "      <td>...</td>\n",
       "      <td>...</td>\n",
       "      <td>...</td>\n",
       "      <td>...</td>\n",
       "      <td>...</td>\n",
       "      <td>...</td>\n",
       "      <td>...</td>\n",
       "      <td>...</td>\n",
       "      <td>...</td>\n",
       "      <td>...</td>\n",
       "      <td>...</td>\n",
       "    </tr>\n",
       "    <tr>\n",
       "      <th>30219</th>\n",
       "      <td>30425599</td>\n",
       "      <td>BJNN1810</td>\n",
       "      <td>891817314</td>\n",
       "      <td>ORG3312</td>\n",
       "      <td>HPLDFN NBRL</td>\n",
       "      <td>Premium Orange Plan</td>\n",
       "      <td>8/9/2023</td>\n",
       "      <td>11/17/2023</td>\n",
       "      <td>100</td>\n",
       "      <td>Medium-term</td>\n",
       "      <td>Deactive</td>\n",
       "      <td>Contract Ended</td>\n",
       "      <td>Prepaid</td>\n",
       "      <td>Residential</td>\n",
       "      <td>1</td>\n",
       "      <td>6</td>\n",
       "      <td>30</td>\n",
       "      <td>NaN</td>\n",
       "      <td>TRUE</td>\n",
       "    </tr>\n",
       "    <tr>\n",
       "      <th>30220</th>\n",
       "      <td>31652227</td>\n",
       "      <td>DPNB1876</td>\n",
       "      <td>529853013</td>\n",
       "      <td>NaN</td>\n",
       "      <td>FNTFRPRJTF TBLFT TTPDL</td>\n",
       "      <td>Orange 90</td>\n",
       "      <td>9/12/2023</td>\n",
       "      <td>10/22/2023</td>\n",
       "      <td>40</td>\n",
       "      <td>Short-term</td>\n",
       "      <td>Deactive</td>\n",
       "      <td>Moved</td>\n",
       "      <td>Postpaid</td>\n",
       "      <td>Corporate</td>\n",
       "      <td>1</td>\n",
       "      <td>6</td>\n",
       "      <td>54</td>\n",
       "      <td>NaN</td>\n",
       "      <td>FALSE</td>\n",
       "    </tr>\n",
       "    <tr>\n",
       "      <th>30221</th>\n",
       "      <td>30807259</td>\n",
       "      <td>BJNN1810</td>\n",
       "      <td>887997557</td>\n",
       "      <td>ORG4071</td>\n",
       "      <td>JNTFRNBL DFPBRTNFNTT</td>\n",
       "      <td>Traveler's Plan</td>\n",
       "      <td>8/20/2023</td>\n",
       "      <td>NaN</td>\n",
       "      <td>134</td>\n",
       "      <td>Long-term</td>\n",
       "      <td>Hard suspended</td>\n",
       "      <td>Fraudulent activity</td>\n",
       "      <td>Prepaid</td>\n",
       "      <td>Residential</td>\n",
       "      <td>0</td>\n",
       "      <td>7</td>\n",
       "      <td>65</td>\n",
       "      <td>1.0</td>\n",
       "      <td>TRUE</td>\n",
       "    </tr>\n",
       "    <tr>\n",
       "      <th>30222</th>\n",
       "      <td>31265597</td>\n",
       "      <td>BJNN1810</td>\n",
       "      <td>888984949</td>\n",
       "      <td>ORG4193</td>\n",
       "      <td>DJRFDT TVPPPRT</td>\n",
       "      <td>Family Orange Plan 10</td>\n",
       "      <td>10/12/2023</td>\n",
       "      <td>NaN</td>\n",
       "      <td>81</td>\n",
       "      <td>Short-term</td>\n",
       "      <td>Soft suspended</td>\n",
       "      <td>Service upgrade</td>\n",
       "      <td>Prepaid</td>\n",
       "      <td>PRO</td>\n",
       "      <td>0</td>\n",
       "      <td>8</td>\n",
       "      <td>55</td>\n",
       "      <td>1.0</td>\n",
       "      <td>FALSE</td>\n",
       "    </tr>\n",
       "    <tr>\n",
       "      <th>30223</th>\n",
       "      <td>30797593</td>\n",
       "      <td>BJNN1810</td>\n",
       "      <td>888611251</td>\n",
       "      <td>ORG3992</td>\n",
       "      <td>JNTFRNBL DFPBRTNFNTT</td>\n",
       "      <td>Traveler's Plan</td>\n",
       "      <td>8/30/2023</td>\n",
       "      <td>NaN</td>\n",
       "      <td>124</td>\n",
       "      <td>Long-term</td>\n",
       "      <td>Hard suspended</td>\n",
       "      <td>Illegal usage</td>\n",
       "      <td>Prepaid</td>\n",
       "      <td>Residential</td>\n",
       "      <td>0</td>\n",
       "      <td>5</td>\n",
       "      <td>65</td>\n",
       "      <td>1.0</td>\n",
       "      <td>TRUE</td>\n",
       "    </tr>\n",
       "  </tbody>\n",
       "</table>\n",
       "<p>30224 rows × 19 columns</p>\n",
       "</div>"
      ],
      "text/plain": [
       "          CO_ID       USER_CREATED_BY     MSISDN POS_MSISDN  \\\n",
       "0      31154967              BJNN1810  891476116    ORG3448   \n",
       "1      31719208  TTP.PNBR.BLTHBLHBNBF  891433210        NaN   \n",
       "2      30566993              BJNN1810  882740023        NaN   \n",
       "3      31654015              DPNB1876  529853159        NaN   \n",
       "4      31237322              DPNB1876  883224490        NaN   \n",
       "...         ...                   ...        ...        ...   \n",
       "30219  30425599              BJNN1810  891817314    ORG3312   \n",
       "30220  31652227              DPNB1876  529853013        NaN   \n",
       "30221  30807259              BJNN1810  887997557    ORG4071   \n",
       "30222  31265597              BJNN1810  888984949    ORG4193   \n",
       "30223  30797593              BJNN1810  888611251    ORG3992   \n",
       "\n",
       "                                             DISTRIBUTER  \\\n",
       "0      BL-NVTBTBXFRB BL-LB NVTBNBHFZB (LJNJTLFTT JNTF...   \n",
       "1                                             FJFLDTBLFT   \n",
       "2                         FRBNDHJTF - TBFFXBZ 7TH DJRDLF   \n",
       "3                                 FNTFRPRJTF TBLFT TTPDL   \n",
       "4                                 FNTFRPRJTF TBLFT TTPDL   \n",
       "...                                                  ...   \n",
       "30219                                        HPLDFN NBRL   \n",
       "30220                             FNTFRPRJTF TBLFT TTPDL   \n",
       "30221                               JNTFRNBL DFPBRTNFNTT   \n",
       "30222                                     DJRFDT TVPPPRT   \n",
       "30223                               JNTFRNBL DFPBRTNFNTT   \n",
       "\n",
       "                   Plan_Name ACTIVE_DATE DEACTIVE_DATE  Customer Tenure  \\\n",
       "0          Basic Orange Plan   10/5/2023           NaN               88   \n",
       "1            Governorates 10   9/28/2023           NaN               95   \n",
       "2      Family Orange Plan 10   9/19/2023           NaN              104   \n",
       "3                  Orange 90   9/13/2023    10/22/2023               39   \n",
       "4                  Orange 60   8/10/2023     8/28/2023               18   \n",
       "...                      ...         ...           ...              ...   \n",
       "30219    Premium Orange Plan    8/9/2023    11/17/2023              100   \n",
       "30220              Orange 90   9/12/2023    10/22/2023               40   \n",
       "30221        Traveler's Plan   8/20/2023           NaN              134   \n",
       "30222  Family Orange Plan 10  10/12/2023           NaN               81   \n",
       "30223        Traveler's Plan   8/30/2023           NaN              124   \n",
       "\n",
       "      Tenure Category          STATUS        Status Reason  SEGMENT1  \\\n",
       "0                 NaN  Hard Suspended   Violation of terms   Prepaid   \n",
       "1         Medium-term          Active                  NaN  Postpaid   \n",
       "2         Medium-term          Active                  NaN   Prepaid   \n",
       "3          Short-term        Deactive      Service Quality  Postpaid   \n",
       "4          Short-term        Deactive        Lack of Usage  Postpaid   \n",
       "...               ...             ...                  ...       ...   \n",
       "30219     Medium-term        Deactive       Contract Ended   Prepaid   \n",
       "30220      Short-term        Deactive                Moved  Postpaid   \n",
       "30221       Long-term  Hard suspended  Fraudulent activity   Prepaid   \n",
       "30222      Short-term  Soft suspended      Service upgrade   Prepaid   \n",
       "30223       Long-term  Hard suspended        Illegal usage   Prepaid   \n",
       "\n",
       "          SEGMENT2  Churn Flag  Customer Interaction Score  Loyalty Points  \\\n",
       "0      Residential           1                           3              48   \n",
       "1              PRO           1                           7              65   \n",
       "2              PRO           1                           6              65   \n",
       "3        Corporate           1                           9              73   \n",
       "4        Corporate           1                           5              10   \n",
       "...            ...         ...                         ...             ...   \n",
       "30219  Residential           1                           6              30   \n",
       "30220    Corporate           1                           6              54   \n",
       "30221  Residential           0                           7              65   \n",
       "30222          PRO           0                           8              55   \n",
       "30223  Residential           0                           5              65   \n",
       "\n",
       "       Data Usage Tier Customer Segment Change Flag  \n",
       "0                  1.0                         TRUE  \n",
       "1                  3.0                         TRUE  \n",
       "2                  2.0                         TRUE  \n",
       "3                  NaN                         TRUE  \n",
       "4                  NaN                         TRUE  \n",
       "...                ...                          ...  \n",
       "30219              NaN                         TRUE  \n",
       "30220              NaN                        FALSE  \n",
       "30221              1.0                         TRUE  \n",
       "30222              1.0                        FALSE  \n",
       "30223              1.0                         TRUE  \n",
       "\n",
       "[30224 rows x 19 columns]"
      ]
     },
     "execution_count": 6,
     "metadata": {},
     "output_type": "execute_result"
    }
   ],
   "source": [
    "df"
   ]
  },
  {
   "cell_type": "code",
   "execution_count": 7,
   "metadata": {},
   "outputs": [
    {
     "data": {
      "text/markdown": [
       "### Shape:"
      ],
      "text/plain": [
       "<IPython.core.display.Markdown object>"
      ]
     },
     "metadata": {},
     "output_type": "display_data"
    },
    {
     "data": {
      "text/plain": [
       "(30224, 19)"
      ]
     },
     "metadata": {},
     "output_type": "display_data"
    },
    {
     "data": {
      "text/markdown": [
       "### Columns and Metadata:"
      ],
      "text/plain": [
       "<IPython.core.display.Markdown object>"
      ]
     },
     "metadata": {},
     "output_type": "display_data"
    },
    {
     "data": {
      "text/html": [
       "<style type=\"text/css\">\n",
       "#T_9cdf8 th {\n",
       "  text-align: left;\n",
       "}\n",
       "#T_9cdf8_row0_col0, #T_9cdf8_row0_col1, #T_9cdf8_row0_col2, #T_9cdf8_row0_col3, #T_9cdf8_row1_col0, #T_9cdf8_row1_col1, #T_9cdf8_row1_col2, #T_9cdf8_row1_col3, #T_9cdf8_row2_col0, #T_9cdf8_row2_col1, #T_9cdf8_row2_col2, #T_9cdf8_row2_col3, #T_9cdf8_row3_col0, #T_9cdf8_row3_col1, #T_9cdf8_row3_col2, #T_9cdf8_row3_col3, #T_9cdf8_row4_col0, #T_9cdf8_row4_col1, #T_9cdf8_row4_col2, #T_9cdf8_row4_col3, #T_9cdf8_row5_col0, #T_9cdf8_row5_col1, #T_9cdf8_row5_col2, #T_9cdf8_row5_col3, #T_9cdf8_row6_col0, #T_9cdf8_row6_col1, #T_9cdf8_row6_col2, #T_9cdf8_row6_col3, #T_9cdf8_row7_col0, #T_9cdf8_row7_col1, #T_9cdf8_row7_col2, #T_9cdf8_row7_col3, #T_9cdf8_row8_col0, #T_9cdf8_row8_col1, #T_9cdf8_row8_col2, #T_9cdf8_row8_col3, #T_9cdf8_row9_col0, #T_9cdf8_row9_col1, #T_9cdf8_row9_col2, #T_9cdf8_row9_col3, #T_9cdf8_row10_col0, #T_9cdf8_row10_col1, #T_9cdf8_row10_col2, #T_9cdf8_row10_col3, #T_9cdf8_row11_col0, #T_9cdf8_row11_col1, #T_9cdf8_row11_col2, #T_9cdf8_row11_col3, #T_9cdf8_row12_col0, #T_9cdf8_row12_col1, #T_9cdf8_row12_col2, #T_9cdf8_row12_col3, #T_9cdf8_row13_col0, #T_9cdf8_row13_col1, #T_9cdf8_row13_col2, #T_9cdf8_row13_col3, #T_9cdf8_row14_col0, #T_9cdf8_row14_col1, #T_9cdf8_row14_col2, #T_9cdf8_row14_col3, #T_9cdf8_row15_col0, #T_9cdf8_row15_col1, #T_9cdf8_row15_col2, #T_9cdf8_row15_col3, #T_9cdf8_row16_col0, #T_9cdf8_row16_col1, #T_9cdf8_row16_col2, #T_9cdf8_row16_col3, #T_9cdf8_row17_col0, #T_9cdf8_row17_col1, #T_9cdf8_row17_col2, #T_9cdf8_row17_col3, #T_9cdf8_row18_col0, #T_9cdf8_row18_col1, #T_9cdf8_row18_col2, #T_9cdf8_row18_col3 {\n",
       "  text-align: left;\n",
       "}\n",
       "</style>\n",
       "<table id=\"T_9cdf8\">\n",
       "  <thead>\n",
       "    <tr>\n",
       "      <th class=\"blank level0\" >&nbsp;</th>\n",
       "      <th id=\"T_9cdf8_level0_col0\" class=\"col_heading level0 col0\" >Data Type</th>\n",
       "      <th id=\"T_9cdf8_level0_col1\" class=\"col_heading level0 col1\" >Null Values</th>\n",
       "      <th id=\"T_9cdf8_level0_col2\" class=\"col_heading level0 col2\" >Precentage of Nulls</th>\n",
       "      <th id=\"T_9cdf8_level0_col3\" class=\"col_heading level0 col3\" >Description</th>\n",
       "    </tr>\n",
       "  </thead>\n",
       "  <tbody>\n",
       "    <tr>\n",
       "      <th id=\"T_9cdf8_level0_row0\" class=\"row_heading level0 row0\" >CO_ID</th>\n",
       "      <td id=\"T_9cdf8_row0_col0\" class=\"data row0 col0\" >int64</td>\n",
       "      <td id=\"T_9cdf8_row0_col1\" class=\"data row0 col1\" >0</td>\n",
       "      <td id=\"T_9cdf8_row0_col2\" class=\"data row0 col2\" >0.0</td>\n",
       "      <td id=\"T_9cdf8_row0_col3\" class=\"data row0 col3\" >Anonymized contract number, unique identifier.</td>\n",
       "    </tr>\n",
       "    <tr>\n",
       "      <th id=\"T_9cdf8_level0_row1\" class=\"row_heading level0 row1\" >USER_CREATED_BY</th>\n",
       "      <td id=\"T_9cdf8_row1_col0\" class=\"data row1 col0\" >object</td>\n",
       "      <td id=\"T_9cdf8_row1_col1\" class=\"data row1 col1\" >101</td>\n",
       "      <td id=\"T_9cdf8_row1_col2\" class=\"data row1 col2\" >0.3</td>\n",
       "      <td id=\"T_9cdf8_row1_col3\" class=\"data row1 col3\" >Identifier of the user who created the entry.</td>\n",
       "    </tr>\n",
       "    <tr>\n",
       "      <th id=\"T_9cdf8_level0_row2\" class=\"row_heading level0 row2\" >MSISDN</th>\n",
       "      <td id=\"T_9cdf8_row2_col0\" class=\"data row2 col0\" >int64</td>\n",
       "      <td id=\"T_9cdf8_row2_col1\" class=\"data row2 col1\" >0</td>\n",
       "      <td id=\"T_9cdf8_row2_col2\" class=\"data row2 col2\" >0.0</td>\n",
       "      <td id=\"T_9cdf8_row2_col3\" class=\"data row2 col3\" >Anonymized mobile phone number, unique.</td>\n",
       "    </tr>\n",
       "    <tr>\n",
       "      <th id=\"T_9cdf8_level0_row3\" class=\"row_heading level0 row3\" >POS_MSISDN</th>\n",
       "      <td id=\"T_9cdf8_row3_col0\" class=\"data row3 col0\" >object</td>\n",
       "      <td id=\"T_9cdf8_row3_col1\" class=\"data row3 col1\" >19571</td>\n",
       "      <td id=\"T_9cdf8_row3_col2\" class=\"data row3 col2\" >64.8</td>\n",
       "      <td id=\"T_9cdf8_row3_col3\" class=\"data row3 col3\" >Point of Sale ID, where the contract was sold/initiated.</td>\n",
       "    </tr>\n",
       "    <tr>\n",
       "      <th id=\"T_9cdf8_level0_row4\" class=\"row_heading level0 row4\" >DISTRIBUTER</th>\n",
       "      <td id=\"T_9cdf8_row4_col0\" class=\"data row4 col0\" >object</td>\n",
       "      <td id=\"T_9cdf8_row4_col1\" class=\"data row4 col1\" >1805</td>\n",
       "      <td id=\"T_9cdf8_row4_col2\" class=\"data row4 col2\" >6.0</td>\n",
       "      <td id=\"T_9cdf8_row4_col3\" class=\"data row4 col3\" >Entity/shop responsible for service distribution or activation.</td>\n",
       "    </tr>\n",
       "    <tr>\n",
       "      <th id=\"T_9cdf8_level0_row5\" class=\"row_heading level0 row5\" >Plan_Name</th>\n",
       "      <td id=\"T_9cdf8_row5_col0\" class=\"data row5 col0\" >object</td>\n",
       "      <td id=\"T_9cdf8_row5_col1\" class=\"data row5 col1\" >0</td>\n",
       "      <td id=\"T_9cdf8_row5_col2\" class=\"data row5 col2\" >0.0</td>\n",
       "      <td id=\"T_9cdf8_row5_col3\" class=\"data row5 col3\" >Name of the plan subscribed to.</td>\n",
       "    </tr>\n",
       "    <tr>\n",
       "      <th id=\"T_9cdf8_level0_row6\" class=\"row_heading level0 row6\" >ACTIVE_DATE</th>\n",
       "      <td id=\"T_9cdf8_row6_col0\" class=\"data row6 col0\" >object</td>\n",
       "      <td id=\"T_9cdf8_row6_col1\" class=\"data row6 col1\" >0</td>\n",
       "      <td id=\"T_9cdf8_row6_col2\" class=\"data row6 col2\" >0.0</td>\n",
       "      <td id=\"T_9cdf8_row6_col3\" class=\"data row6 col3\" >Activation date of the service.</td>\n",
       "    </tr>\n",
       "    <tr>\n",
       "      <th id=\"T_9cdf8_level0_row7\" class=\"row_heading level0 row7\" >DEACTIVE_DATE</th>\n",
       "      <td id=\"T_9cdf8_row7_col0\" class=\"data row7 col0\" >object</td>\n",
       "      <td id=\"T_9cdf8_row7_col1\" class=\"data row7 col1\" >20068</td>\n",
       "      <td id=\"T_9cdf8_row7_col2\" class=\"data row7 col2\" >66.4</td>\n",
       "      <td id=\"T_9cdf8_row7_col3\" class=\"data row7 col3\" >Deactivation date of the service.</td>\n",
       "    </tr>\n",
       "    <tr>\n",
       "      <th id=\"T_9cdf8_level0_row8\" class=\"row_heading level0 row8\" >Customer Tenure</th>\n",
       "      <td id=\"T_9cdf8_row8_col0\" class=\"data row8 col0\" >int64</td>\n",
       "      <td id=\"T_9cdf8_row8_col1\" class=\"data row8 col1\" >0</td>\n",
       "      <td id=\"T_9cdf8_row8_col2\" class=\"data row8 col2\" >0.0</td>\n",
       "      <td id=\"T_9cdf8_row8_col3\" class=\"data row8 col3\" >Duration between activation and deactivation/current date.</td>\n",
       "    </tr>\n",
       "    <tr>\n",
       "      <th id=\"T_9cdf8_level0_row9\" class=\"row_heading level0 row9\" >Tenure Category</th>\n",
       "      <td id=\"T_9cdf8_row9_col0\" class=\"data row9 col0\" >object</td>\n",
       "      <td id=\"T_9cdf8_row9_col1\" class=\"data row9 col1\" >295</td>\n",
       "      <td id=\"T_9cdf8_row9_col2\" class=\"data row9 col2\" >1.0</td>\n",
       "      <td id=\"T_9cdf8_row9_col3\" class=\"data row9 col3\" >Categorization of tenure into segments (short-term, medium-term, and long-term).</td>\n",
       "    </tr>\n",
       "    <tr>\n",
       "      <th id=\"T_9cdf8_level0_row10\" class=\"row_heading level0 row10\" >STATUS</th>\n",
       "      <td id=\"T_9cdf8_row10_col0\" class=\"data row10 col0\" >object</td>\n",
       "      <td id=\"T_9cdf8_row10_col1\" class=\"data row10 col1\" >0</td>\n",
       "      <td id=\"T_9cdf8_row10_col2\" class=\"data row10 col2\" >0.0</td>\n",
       "      <td id=\"T_9cdf8_row10_col3\" class=\"data row10 col3\" >Current status of the line (Active, Suspended, etc.).</td>\n",
       "    </tr>\n",
       "    <tr>\n",
       "      <th id=\"T_9cdf8_level0_row11\" class=\"row_heading level0 row11\" >Status Reason</th>\n",
       "      <td id=\"T_9cdf8_row11_col0\" class=\"data row11 col0\" >object</td>\n",
       "      <td id=\"T_9cdf8_row11_col1\" class=\"data row11 col1\" >9160</td>\n",
       "      <td id=\"T_9cdf8_row11_col2\" class=\"data row11 col2\" >30.3</td>\n",
       "      <td id=\"T_9cdf8_row11_col3\" class=\"data row11 col3\" >Reason behind the current status.</td>\n",
       "    </tr>\n",
       "    <tr>\n",
       "      <th id=\"T_9cdf8_level0_row12\" class=\"row_heading level0 row12\" >SEGMENT1</th>\n",
       "      <td id=\"T_9cdf8_row12_col0\" class=\"data row12 col0\" >object</td>\n",
       "      <td id=\"T_9cdf8_row12_col1\" class=\"data row12 col1\" >0</td>\n",
       "      <td id=\"T_9cdf8_row12_col2\" class=\"data row12 col2\" >0.0</td>\n",
       "      <td id=\"T_9cdf8_row12_col3\" class=\"data row12 col3\" >Customer segmentation category.</td>\n",
       "    </tr>\n",
       "    <tr>\n",
       "      <th id=\"T_9cdf8_level0_row13\" class=\"row_heading level0 row13\" >SEGMENT2</th>\n",
       "      <td id=\"T_9cdf8_row13_col0\" class=\"data row13 col0\" >object</td>\n",
       "      <td id=\"T_9cdf8_row13_col1\" class=\"data row13 col1\" >0</td>\n",
       "      <td id=\"T_9cdf8_row13_col2\" class=\"data row13 col2\" >0.0</td>\n",
       "      <td id=\"T_9cdf8_row13_col3\" class=\"data row13 col3\" >Customer segmentation category.</td>\n",
       "    </tr>\n",
       "    <tr>\n",
       "      <th id=\"T_9cdf8_level0_row14\" class=\"row_heading level0 row14\" >Churn Flag</th>\n",
       "      <td id=\"T_9cdf8_row14_col0\" class=\"data row14 col0\" >int64</td>\n",
       "      <td id=\"T_9cdf8_row14_col1\" class=\"data row14 col1\" >0</td>\n",
       "      <td id=\"T_9cdf8_row14_col2\" class=\"data row14 col2\" >0.0</td>\n",
       "      <td id=\"T_9cdf8_row14_col3\" class=\"data row14 col3\" >Indicator of whether a customer has discontinued the service.</td>\n",
       "    </tr>\n",
       "    <tr>\n",
       "      <th id=\"T_9cdf8_level0_row15\" class=\"row_heading level0 row15\" >Customer Interaction Score</th>\n",
       "      <td id=\"T_9cdf8_row15_col0\" class=\"data row15 col0\" >int64</td>\n",
       "      <td id=\"T_9cdf8_row15_col1\" class=\"data row15 col1\" >0</td>\n",
       "      <td id=\"T_9cdf8_row15_col2\" class=\"data row15 col2\" >0.0</td>\n",
       "      <td id=\"T_9cdf8_row15_col3\" class=\"data row15 col3\" >Frequency/quality of interactions with customer service.</td>\n",
       "    </tr>\n",
       "    <tr>\n",
       "      <th id=\"T_9cdf8_level0_row16\" class=\"row_heading level0 row16\" >Loyalty Points</th>\n",
       "      <td id=\"T_9cdf8_row16_col0\" class=\"data row16 col0\" >int64</td>\n",
       "      <td id=\"T_9cdf8_row16_col1\" class=\"data row16 col1\" >0</td>\n",
       "      <td id=\"T_9cdf8_row16_col2\" class=\"data row16 col2\" >0.0</td>\n",
       "      <td id=\"T_9cdf8_row16_col3\" class=\"data row16 col3\" >Points assigned based on tenure, status, and segment.</td>\n",
       "    </tr>\n",
       "    <tr>\n",
       "      <th id=\"T_9cdf8_level0_row17\" class=\"row_heading level0 row17\" >Data Usage Tier</th>\n",
       "      <td id=\"T_9cdf8_row17_col0\" class=\"data row17 col0\" >float64</td>\n",
       "      <td id=\"T_9cdf8_row17_col1\" class=\"data row17 col1\" >6644</td>\n",
       "      <td id=\"T_9cdf8_row17_col2\" class=\"data row17 col2\" >22.0</td>\n",
       "      <td id=\"T_9cdf8_row17_col3\" class=\"data row17 col3\" >Classification based on presumed data usage (3:High, 2:Medium, 1:Low).</td>\n",
       "    </tr>\n",
       "    <tr>\n",
       "      <th id=\"T_9cdf8_level0_row18\" class=\"row_heading level0 row18\" >Customer Segment Change Flag</th>\n",
       "      <td id=\"T_9cdf8_row18_col0\" class=\"data row18 col0\" >object</td>\n",
       "      <td id=\"T_9cdf8_row18_col1\" class=\"data row18 col1\" >0</td>\n",
       "      <td id=\"T_9cdf8_row18_col2\" class=\"data row18 col2\" >0.0</td>\n",
       "      <td id=\"T_9cdf8_row18_col3\" class=\"data row18 col3\" >Indicates if a customer changed segments.</td>\n",
       "    </tr>\n",
       "  </tbody>\n",
       "</table>\n"
      ],
      "text/plain": [
       "<pandas.io.formats.style.Styler at 0x7faef304aa10>"
      ]
     },
     "metadata": {},
     "output_type": "display_data"
    },
    {
     "data": {
      "text/markdown": [
       "### Duplicated Rows:"
      ],
      "text/plain": [
       "<IPython.core.display.Markdown object>"
      ]
     },
     "metadata": {},
     "output_type": "display_data"
    },
    {
     "data": {
      "text/html": [
       "<div>\n",
       "<style scoped>\n",
       "    .dataframe tbody tr th:only-of-type {\n",
       "        vertical-align: middle;\n",
       "    }\n",
       "\n",
       "    .dataframe tbody tr th {\n",
       "        vertical-align: top;\n",
       "    }\n",
       "\n",
       "    .dataframe thead th {\n",
       "        text-align: right;\n",
       "    }\n",
       "</style>\n",
       "<table border=\"1\" class=\"dataframe\">\n",
       "  <thead>\n",
       "    <tr style=\"text-align: right;\">\n",
       "      <th></th>\n",
       "      <th>Duplicated Rows Count</th>\n",
       "    </tr>\n",
       "  </thead>\n",
       "  <tbody>\n",
       "    <tr>\n",
       "      <th>Total</th>\n",
       "      <td>427</td>\n",
       "    </tr>\n",
       "  </tbody>\n",
       "</table>\n",
       "</div>"
      ],
      "text/plain": [
       "       Duplicated Rows Count\n",
       "Total                    427"
      ]
     },
     "metadata": {},
     "output_type": "display_data"
    }
   ],
   "source": [
    "info = DataSetInformation(df)\n",
    "\n",
    "info.dataframe_summary(metadata)"
   ]
  },
  {
   "cell_type": "markdown",
   "metadata": {},
   "source": [
    "## Categorical EDA"
   ]
  },
  {
   "cell_type": "code",
   "execution_count": 8,
   "metadata": {},
   "outputs": [
    {
     "data": {
      "text/markdown": [
       "### Categorical Columns Summary:"
      ],
      "text/plain": [
       "<IPython.core.display.Markdown object>"
      ]
     },
     "metadata": {},
     "output_type": "display_data"
    },
    {
     "data": {
      "text/html": [
       "<style type=\"text/css\">\n",
       "#T_2d176 th {\n",
       "  text-align: left;\n",
       "}\n",
       "#T_2d176_row0_col0, #T_2d176_row0_col1, #T_2d176_row0_col2, #T_2d176_row0_col3, #T_2d176_row1_col0, #T_2d176_row1_col1, #T_2d176_row1_col2, #T_2d176_row1_col3, #T_2d176_row2_col0, #T_2d176_row2_col1, #T_2d176_row2_col2, #T_2d176_row2_col3, #T_2d176_row3_col0, #T_2d176_row3_col1, #T_2d176_row3_col2, #T_2d176_row3_col3, #T_2d176_row4_col0, #T_2d176_row4_col1, #T_2d176_row4_col2, #T_2d176_row4_col3, #T_2d176_row5_col0, #T_2d176_row5_col1, #T_2d176_row5_col2, #T_2d176_row5_col3, #T_2d176_row6_col0, #T_2d176_row6_col1, #T_2d176_row6_col2, #T_2d176_row6_col3, #T_2d176_row7_col0, #T_2d176_row7_col1, #T_2d176_row7_col2, #T_2d176_row7_col3, #T_2d176_row8_col0, #T_2d176_row8_col1, #T_2d176_row8_col2, #T_2d176_row8_col3, #T_2d176_row9_col0, #T_2d176_row9_col1, #T_2d176_row9_col2, #T_2d176_row9_col3, #T_2d176_row10_col0, #T_2d176_row10_col1, #T_2d176_row10_col2, #T_2d176_row10_col3, #T_2d176_row11_col0, #T_2d176_row11_col1, #T_2d176_row11_col2, #T_2d176_row11_col3 {\n",
       "  text-align: left;\n",
       "}\n",
       "</style>\n",
       "<table id=\"T_2d176\">\n",
       "  <thead>\n",
       "    <tr>\n",
       "      <th class=\"blank level0\" >&nbsp;</th>\n",
       "      <th id=\"T_2d176_level0_col0\" class=\"col_heading level0 col0\" >Column</th>\n",
       "      <th id=\"T_2d176_level0_col1\" class=\"col_heading level0 col1\" >Unique Values Count</th>\n",
       "      <th id=\"T_2d176_level0_col2\" class=\"col_heading level0 col2\" >Top Value</th>\n",
       "      <th id=\"T_2d176_level0_col3\" class=\"col_heading level0 col3\" >Top Value Percentage</th>\n",
       "    </tr>\n",
       "  </thead>\n",
       "  <tbody>\n",
       "    <tr>\n",
       "      <th id=\"T_2d176_level0_row0\" class=\"row_heading level0 row0\" >0</th>\n",
       "      <td id=\"T_2d176_row0_col0\" class=\"data row0 col0\" >USER_CREATED_BY</td>\n",
       "      <td id=\"T_2d176_row0_col1\" class=\"data row0 col1\" >631</td>\n",
       "      <td id=\"T_2d176_row0_col2\" class=\"data row0 col2\" >BJNN1810</td>\n",
       "      <td id=\"T_2d176_row0_col3\" class=\"data row0 col3\" >51.33%</td>\n",
       "    </tr>\n",
       "    <tr>\n",
       "      <th id=\"T_2d176_level0_row1\" class=\"row_heading level0 row1\" >1</th>\n",
       "      <td id=\"T_2d176_row1_col0\" class=\"data row1 col0\" >POS_MSISDN</td>\n",
       "      <td id=\"T_2d176_row1_col1\" class=\"data row1 col1\" >156</td>\n",
       "      <td id=\"T_2d176_row1_col2\" class=\"data row1 col2\" >ORG2464</td>\n",
       "      <td id=\"T_2d176_row1_col3\" class=\"data row1 col3\" >0.85%</td>\n",
       "    </tr>\n",
       "    <tr>\n",
       "      <th id=\"T_2d176_level0_row2\" class=\"row_heading level0 row2\" >2</th>\n",
       "      <td id=\"T_2d176_row2_col0\" class=\"data row2 col0\" >DISTRIBUTER</td>\n",
       "      <td id=\"T_2d176_row2_col1\" class=\"data row2 col1\" >151</td>\n",
       "      <td id=\"T_2d176_row2_col2\" class=\"data row2 col2\" >FNTFRPRJTF TBLFT TTPDL</td>\n",
       "      <td id=\"T_2d176_row2_col3\" class=\"data row2 col3\" >22.58%</td>\n",
       "    </tr>\n",
       "    <tr>\n",
       "      <th id=\"T_2d176_level0_row3\" class=\"row_heading level0 row3\" >3</th>\n",
       "      <td id=\"T_2d176_row3_col0\" class=\"data row3 col0\" >Plan_Name</td>\n",
       "      <td id=\"T_2d176_row3_col1\" class=\"data row3 col1\" >34</td>\n",
       "      <td id=\"T_2d176_row3_col2\" class=\"data row3 col2\" >Orange 90</td>\n",
       "      <td id=\"T_2d176_row3_col3\" class=\"data row3 col3\" >19.80%</td>\n",
       "    </tr>\n",
       "    <tr>\n",
       "      <th id=\"T_2d176_level0_row4\" class=\"row_heading level0 row4\" >4</th>\n",
       "      <td id=\"T_2d176_row4_col0\" class=\"data row4 col0\" >ACTIVE_DATE</td>\n",
       "      <td id=\"T_2d176_row4_col1\" class=\"data row4 col1\" >92</td>\n",
       "      <td id=\"T_2d176_row4_col2\" class=\"data row4 col2\" >9/13/2023</td>\n",
       "      <td id=\"T_2d176_row4_col3\" class=\"data row4 col3\" >8.95%</td>\n",
       "    </tr>\n",
       "    <tr>\n",
       "      <th id=\"T_2d176_level0_row5\" class=\"row_heading level0 row5\" >5</th>\n",
       "      <td id=\"T_2d176_row5_col0\" class=\"data row5 col0\" >DEACTIVE_DATE</td>\n",
       "      <td id=\"T_2d176_row5_col1\" class=\"data row5 col1\" >114</td>\n",
       "      <td id=\"T_2d176_row5_col2\" class=\"data row5 col2\" >10/22/2023</td>\n",
       "      <td id=\"T_2d176_row5_col3\" class=\"data row5 col3\" >26.89%</td>\n",
       "    </tr>\n",
       "    <tr>\n",
       "      <th id=\"T_2d176_level0_row6\" class=\"row_heading level0 row6\" >6</th>\n",
       "      <td id=\"T_2d176_row6_col0\" class=\"data row6 col0\" >Tenure Category</td>\n",
       "      <td id=\"T_2d176_row6_col1\" class=\"data row6 col1\" >6</td>\n",
       "      <td id=\"T_2d176_row6_col2\" class=\"data row6 col2\" >Short-term</td>\n",
       "      <td id=\"T_2d176_row6_col3\" class=\"data row6 col3\" >45.02%</td>\n",
       "    </tr>\n",
       "    <tr>\n",
       "      <th id=\"T_2d176_level0_row7\" class=\"row_heading level0 row7\" >7</th>\n",
       "      <td id=\"T_2d176_row7_col0\" class=\"data row7 col0\" >STATUS</td>\n",
       "      <td id=\"T_2d176_row7_col1\" class=\"data row7 col1\" >6</td>\n",
       "      <td id=\"T_2d176_row7_col2\" class=\"data row7 col2\" >Deactive</td>\n",
       "      <td id=\"T_2d176_row7_col3\" class=\"data row7 col3\" >33.60%</td>\n",
       "    </tr>\n",
       "    <tr>\n",
       "      <th id=\"T_2d176_level0_row8\" class=\"row_heading level0 row8\" >8</th>\n",
       "      <td id=\"T_2d176_row8_col0\" class=\"data row8 col0\" >Status Reason</td>\n",
       "      <td id=\"T_2d176_row8_col1\" class=\"data row8 col1\" >18</td>\n",
       "      <td id=\"T_2d176_row8_col2\" class=\"data row8 col2\" >Violation of terms</td>\n",
       "      <td id=\"T_2d176_row8_col3\" class=\"data row8 col3\" >7.02%</td>\n",
       "    </tr>\n",
       "    <tr>\n",
       "      <th id=\"T_2d176_level0_row9\" class=\"row_heading level0 row9\" >9</th>\n",
       "      <td id=\"T_2d176_row9_col0\" class=\"data row9 col0\" >SEGMENT1</td>\n",
       "      <td id=\"T_2d176_row9_col1\" class=\"data row9 col1\" >8</td>\n",
       "      <td id=\"T_2d176_row9_col2\" class=\"data row9 col2\" >Prepaid</td>\n",
       "      <td id=\"T_2d176_row9_col3\" class=\"data row9 col3\" >59.22%</td>\n",
       "    </tr>\n",
       "    <tr>\n",
       "      <th id=\"T_2d176_level0_row10\" class=\"row_heading level0 row10\" >10</th>\n",
       "      <td id=\"T_2d176_row10_col0\" class=\"data row10 col0\" >SEGMENT2</td>\n",
       "      <td id=\"T_2d176_row10_col1\" class=\"data row10 col1\" >3</td>\n",
       "      <td id=\"T_2d176_row10_col2\" class=\"data row10 col2\" >Residential</td>\n",
       "      <td id=\"T_2d176_row10_col3\" class=\"data row10 col3\" >56.90%</td>\n",
       "    </tr>\n",
       "    <tr>\n",
       "      <th id=\"T_2d176_level0_row11\" class=\"row_heading level0 row11\" >11</th>\n",
       "      <td id=\"T_2d176_row11_col0\" class=\"data row11 col0\" >Customer Segment Change Flag</td>\n",
       "      <td id=\"T_2d176_row11_col1\" class=\"data row11 col1\" >4</td>\n",
       "      <td id=\"T_2d176_row11_col2\" class=\"data row11 col2\" >TRUE</td>\n",
       "      <td id=\"T_2d176_row11_col3\" class=\"data row11 col3\" >72.27%</td>\n",
       "    </tr>\n",
       "  </tbody>\n",
       "</table>\n"
      ],
      "text/plain": [
       "<pandas.io.formats.style.Styler at 0x7fae6d734d00>"
      ]
     },
     "metadata": {},
     "output_type": "display_data"
    },
    {
     "data": {
      "text/markdown": [
       "### Column: Tenure Category"
      ],
      "text/plain": [
       "<IPython.core.display.Markdown object>"
      ]
     },
     "metadata": {},
     "output_type": "display_data"
    },
    {
     "data": {
      "text/markdown": [
       "#### Value Counts and Percentage Distribution:"
      ],
      "text/plain": [
       "<IPython.core.display.Markdown object>"
      ]
     },
     "metadata": {},
     "output_type": "display_data"
    },
    {
     "data": {
      "text/html": [
       "<style type=\"text/css\">\n",
       "#T_96256_row0_col0, #T_96256_row0_col1, #T_96256_row0_col2, #T_96256_row1_col0, #T_96256_row1_col1, #T_96256_row1_col2, #T_96256_row2_col0, #T_96256_row2_col1, #T_96256_row2_col2, #T_96256_row3_col0, #T_96256_row3_col1, #T_96256_row3_col2, #T_96256_row4_col0, #T_96256_row4_col1, #T_96256_row4_col2, #T_96256_row5_col0, #T_96256_row5_col1, #T_96256_row5_col2 {\n",
       "  text-align: left;\n",
       "}\n",
       "</style>\n",
       "<table id=\"T_96256\">\n",
       "  <thead>\n",
       "    <tr>\n",
       "      <th class=\"blank level0\" >&nbsp;</th>\n",
       "      <th id=\"T_96256_level0_col0\" class=\"col_heading level0 col0\" >Value</th>\n",
       "      <th id=\"T_96256_level0_col1\" class=\"col_heading level0 col1\" >Count</th>\n",
       "      <th id=\"T_96256_level0_col2\" class=\"col_heading level0 col2\" >Percentage</th>\n",
       "    </tr>\n",
       "  </thead>\n",
       "  <tbody>\n",
       "    <tr>\n",
       "      <th id=\"T_96256_level0_row0\" class=\"row_heading level0 row0\" >0</th>\n",
       "      <td id=\"T_96256_row0_col0\" class=\"data row0 col0\" >Short-term</td>\n",
       "      <td id=\"T_96256_row0_col1\" class=\"data row0 col1\" >13475</td>\n",
       "      <td id=\"T_96256_row0_col2\" class=\"data row0 col2\" >45.023222</td>\n",
       "    </tr>\n",
       "    <tr>\n",
       "      <th id=\"T_96256_level0_row1\" class=\"row_heading level0 row1\" >1</th>\n",
       "      <td id=\"T_96256_row1_col0\" class=\"data row1 col0\" >Long-term</td>\n",
       "      <td id=\"T_96256_row1_col1\" class=\"data row1 col1\" >8840</td>\n",
       "      <td id=\"T_96256_row1_col2\" class=\"data row1 col2\" >29.536570</td>\n",
       "    </tr>\n",
       "    <tr>\n",
       "      <th id=\"T_96256_level0_row2\" class=\"row_heading level0 row2\" >2</th>\n",
       "      <td id=\"T_96256_row2_col0\" class=\"data row2 col0\" >Medium-term</td>\n",
       "      <td id=\"T_96256_row2_col1\" class=\"data row2 col1\" >6994</td>\n",
       "      <td id=\"T_96256_row2_col2\" class=\"data row2 col2\" >23.368639</td>\n",
       "    </tr>\n",
       "    <tr>\n",
       "      <th id=\"T_96256_level0_row3\" class=\"row_heading level0 row3\" >3</th>\n",
       "      <td id=\"T_96256_row3_col0\" class=\"data row3 col0\" >Short</td>\n",
       "      <td id=\"T_96256_row3_col1\" class=\"data row3 col1\" >298</td>\n",
       "      <td id=\"T_96256_row3_col2\" class=\"data row3 col2\" >0.995690</td>\n",
       "    </tr>\n",
       "    <tr>\n",
       "      <th id=\"T_96256_level0_row4\" class=\"row_heading level0 row4\" >4</th>\n",
       "      <td id=\"T_96256_row4_col0\" class=\"data row4 col0\" >Medium</td>\n",
       "      <td id=\"T_96256_row4_col1\" class=\"data row4 col1\" >186</td>\n",
       "      <td id=\"T_96256_row4_col2\" class=\"data row4 col2\" >0.621471</td>\n",
       "    </tr>\n",
       "    <tr>\n",
       "      <th id=\"T_96256_level0_row5\" class=\"row_heading level0 row5\" >5</th>\n",
       "      <td id=\"T_96256_row5_col0\" class=\"data row5 col0\" >Long</td>\n",
       "      <td id=\"T_96256_row5_col1\" class=\"data row5 col1\" >136</td>\n",
       "      <td id=\"T_96256_row5_col2\" class=\"data row5 col2\" >0.454409</td>\n",
       "    </tr>\n",
       "  </tbody>\n",
       "</table>\n"
      ],
      "text/plain": [
       "<pandas.io.formats.style.Styler at 0x7fae6d23fdf0>"
      ]
     },
     "metadata": {},
     "output_type": "display_data"
    },
    {
     "data": {
      "text/markdown": [
       "---"
      ],
      "text/plain": [
       "<IPython.core.display.Markdown object>"
      ]
     },
     "metadata": {},
     "output_type": "display_data"
    },
    {
     "data": {
      "text/markdown": [
       "### Column: STATUS"
      ],
      "text/plain": [
       "<IPython.core.display.Markdown object>"
      ]
     },
     "metadata": {},
     "output_type": "display_data"
    },
    {
     "data": {
      "text/markdown": [
       "#### Value Counts and Percentage Distribution:"
      ],
      "text/plain": [
       "<IPython.core.display.Markdown object>"
      ]
     },
     "metadata": {},
     "output_type": "display_data"
    },
    {
     "data": {
      "text/html": [
       "<style type=\"text/css\">\n",
       "#T_64ceb_row0_col0, #T_64ceb_row0_col1, #T_64ceb_row0_col2, #T_64ceb_row1_col0, #T_64ceb_row1_col1, #T_64ceb_row1_col2, #T_64ceb_row2_col0, #T_64ceb_row2_col1, #T_64ceb_row2_col2, #T_64ceb_row3_col0, #T_64ceb_row3_col1, #T_64ceb_row3_col2, #T_64ceb_row4_col0, #T_64ceb_row4_col1, #T_64ceb_row4_col2, #T_64ceb_row5_col0, #T_64ceb_row5_col1, #T_64ceb_row5_col2 {\n",
       "  text-align: left;\n",
       "}\n",
       "</style>\n",
       "<table id=\"T_64ceb\">\n",
       "  <thead>\n",
       "    <tr>\n",
       "      <th class=\"blank level0\" >&nbsp;</th>\n",
       "      <th id=\"T_64ceb_level0_col0\" class=\"col_heading level0 col0\" >Value</th>\n",
       "      <th id=\"T_64ceb_level0_col1\" class=\"col_heading level0 col1\" >Count</th>\n",
       "      <th id=\"T_64ceb_level0_col2\" class=\"col_heading level0 col2\" >Percentage</th>\n",
       "    </tr>\n",
       "  </thead>\n",
       "  <tbody>\n",
       "    <tr>\n",
       "      <th id=\"T_64ceb_level0_row0\" class=\"row_heading level0 row0\" >0</th>\n",
       "      <td id=\"T_64ceb_row0_col0\" class=\"data row0 col0\" >Deactive</td>\n",
       "      <td id=\"T_64ceb_row0_col1\" class=\"data row0 col1\" >10156</td>\n",
       "      <td id=\"T_64ceb_row0_col2\" class=\"data row0 col2\" >33.602435</td>\n",
       "    </tr>\n",
       "    <tr>\n",
       "      <th id=\"T_64ceb_level0_row1\" class=\"row_heading level0 row1\" >1</th>\n",
       "      <td id=\"T_64ceb_row1_col0\" class=\"data row1 col0\" >Active</td>\n",
       "      <td id=\"T_64ceb_row1_col1\" class=\"data row1 col1\" >9160</td>\n",
       "      <td id=\"T_64ceb_row1_col2\" class=\"data row1 col2\" >30.307041</td>\n",
       "    </tr>\n",
       "    <tr>\n",
       "      <th id=\"T_64ceb_level0_row2\" class=\"row_heading level0 row2\" >2</th>\n",
       "      <td id=\"T_64ceb_row2_col0\" class=\"data row2 col0\" >Hard suspended</td>\n",
       "      <td id=\"T_64ceb_row2_col1\" class=\"data row2 col1\" >5653</td>\n",
       "      <td id=\"T_64ceb_row2_col2\" class=\"data row2 col2\" >18.703679</td>\n",
       "    </tr>\n",
       "    <tr>\n",
       "      <th id=\"T_64ceb_level0_row3\" class=\"row_heading level0 row3\" >3</th>\n",
       "      <td id=\"T_64ceb_row3_col0\" class=\"data row3 col0\" >Soft suspended</td>\n",
       "      <td id=\"T_64ceb_row3_col1\" class=\"data row3 col1\" >4964</td>\n",
       "      <td id=\"T_64ceb_row3_col2\" class=\"data row3 col2\" >16.424034</td>\n",
       "    </tr>\n",
       "    <tr>\n",
       "      <th id=\"T_64ceb_level0_row4\" class=\"row_heading level0 row4\" >4</th>\n",
       "      <td id=\"T_64ceb_row4_col0\" class=\"data row4 col0\" >Hard Suspended</td>\n",
       "      <td id=\"T_64ceb_row4_col1\" class=\"data row4 col1\" >153</td>\n",
       "      <td id=\"T_64ceb_row4_col2\" class=\"data row4 col2\" >0.506220</td>\n",
       "    </tr>\n",
       "    <tr>\n",
       "      <th id=\"T_64ceb_level0_row5\" class=\"row_heading level0 row5\" >5</th>\n",
       "      <td id=\"T_64ceb_row5_col0\" class=\"data row5 col0\" >Soft Suspended</td>\n",
       "      <td id=\"T_64ceb_row5_col1\" class=\"data row5 col1\" >138</td>\n",
       "      <td id=\"T_64ceb_row5_col2\" class=\"data row5 col2\" >0.456591</td>\n",
       "    </tr>\n",
       "  </tbody>\n",
       "</table>\n"
      ],
      "text/plain": [
       "<pandas.io.formats.style.Styler at 0x7fae6d23f250>"
      ]
     },
     "metadata": {},
     "output_type": "display_data"
    },
    {
     "data": {
      "text/markdown": [
       "---"
      ],
      "text/plain": [
       "<IPython.core.display.Markdown object>"
      ]
     },
     "metadata": {},
     "output_type": "display_data"
    },
    {
     "data": {
      "text/markdown": [
       "### Column: Status Reason"
      ],
      "text/plain": [
       "<IPython.core.display.Markdown object>"
      ]
     },
     "metadata": {},
     "output_type": "display_data"
    },
    {
     "data": {
      "text/markdown": [
       "#### Value Counts and Percentage Distribution:"
      ],
      "text/plain": [
       "<IPython.core.display.Markdown object>"
      ]
     },
     "metadata": {},
     "output_type": "display_data"
    },
    {
     "data": {
      "text/html": [
       "<style type=\"text/css\">\n",
       "#T_a85b4_row0_col0, #T_a85b4_row0_col1, #T_a85b4_row0_col2, #T_a85b4_row1_col0, #T_a85b4_row1_col1, #T_a85b4_row1_col2, #T_a85b4_row2_col0, #T_a85b4_row2_col1, #T_a85b4_row2_col2, #T_a85b4_row3_col0, #T_a85b4_row3_col1, #T_a85b4_row3_col2, #T_a85b4_row4_col0, #T_a85b4_row4_col1, #T_a85b4_row4_col2, #T_a85b4_row5_col0, #T_a85b4_row5_col1, #T_a85b4_row5_col2, #T_a85b4_row6_col0, #T_a85b4_row6_col1, #T_a85b4_row6_col2, #T_a85b4_row7_col0, #T_a85b4_row7_col1, #T_a85b4_row7_col2, #T_a85b4_row8_col0, #T_a85b4_row8_col1, #T_a85b4_row8_col2, #T_a85b4_row9_col0, #T_a85b4_row9_col1, #T_a85b4_row9_col2, #T_a85b4_row10_col0, #T_a85b4_row10_col1, #T_a85b4_row10_col2, #T_a85b4_row11_col0, #T_a85b4_row11_col1, #T_a85b4_row11_col2, #T_a85b4_row12_col0, #T_a85b4_row12_col1, #T_a85b4_row12_col2, #T_a85b4_row13_col0, #T_a85b4_row13_col1, #T_a85b4_row13_col2, #T_a85b4_row14_col0, #T_a85b4_row14_col1, #T_a85b4_row14_col2, #T_a85b4_row15_col0, #T_a85b4_row15_col1, #T_a85b4_row15_col2, #T_a85b4_row16_col0, #T_a85b4_row16_col1, #T_a85b4_row16_col2, #T_a85b4_row17_col0, #T_a85b4_row17_col1, #T_a85b4_row17_col2 {\n",
       "  text-align: left;\n",
       "}\n",
       "</style>\n",
       "<table id=\"T_a85b4\">\n",
       "  <thead>\n",
       "    <tr>\n",
       "      <th class=\"blank level0\" >&nbsp;</th>\n",
       "      <th id=\"T_a85b4_level0_col0\" class=\"col_heading level0 col0\" >Value</th>\n",
       "      <th id=\"T_a85b4_level0_col1\" class=\"col_heading level0 col1\" >Count</th>\n",
       "      <th id=\"T_a85b4_level0_col2\" class=\"col_heading level0 col2\" >Percentage</th>\n",
       "    </tr>\n",
       "  </thead>\n",
       "  <tbody>\n",
       "    <tr>\n",
       "      <th id=\"T_a85b4_level0_row0\" class=\"row_heading level0 row0\" >0</th>\n",
       "      <td id=\"T_a85b4_row0_col0\" class=\"data row0 col0\" >Violation of terms</td>\n",
       "      <td id=\"T_a85b4_row0_col1\" class=\"data row0 col1\" >1479</td>\n",
       "      <td id=\"T_a85b4_row0_col2\" class=\"data row0 col2\" >7.021458</td>\n",
       "    </tr>\n",
       "    <tr>\n",
       "      <th id=\"T_a85b4_level0_row1\" class=\"row_heading level0 row1\" >1</th>\n",
       "      <td id=\"T_a85b4_row1_col0\" class=\"data row1 col0\" >Illegal usage</td>\n",
       "      <td id=\"T_a85b4_row1_col1\" class=\"data row1 col1\" >1446</td>\n",
       "      <td id=\"T_a85b4_row1_col2\" class=\"data row1 col2\" >6.864793</td>\n",
       "    </tr>\n",
       "    <tr>\n",
       "      <th id=\"T_a85b4_level0_row2\" class=\"row_heading level0 row2\" >2</th>\n",
       "      <td id=\"T_a85b4_row2_col0\" class=\"data row2 col0\" >Fraudulent activity</td>\n",
       "      <td id=\"T_a85b4_row2_col1\" class=\"data row2 col1\" >1445</td>\n",
       "      <td id=\"T_a85b4_row2_col2\" class=\"data row2 col2\" >6.860046</td>\n",
       "    </tr>\n",
       "    <tr>\n",
       "      <th id=\"T_a85b4_level0_row3\" class=\"row_heading level0 row3\" >3</th>\n",
       "      <td id=\"T_a85b4_row3_col0\" class=\"data row3 col0\" >Non-payment</td>\n",
       "      <td id=\"T_a85b4_row3_col1\" class=\"data row3 col1\" >1436</td>\n",
       "      <td id=\"T_a85b4_row3_col2\" class=\"data row3 col2\" >6.817319</td>\n",
       "    </tr>\n",
       "    <tr>\n",
       "      <th id=\"T_a85b4_level0_row4\" class=\"row_heading level0 row4\" >4</th>\n",
       "      <td id=\"T_a85b4_row4_col0\" class=\"data row4 col0\" >Document verification</td>\n",
       "      <td id=\"T_a85b4_row4_col1\" class=\"data row4 col1\" >1284</td>\n",
       "      <td id=\"T_a85b4_row4_col2\" class=\"data row4 col2\" >6.095708</td>\n",
       "    </tr>\n",
       "    <tr>\n",
       "      <th id=\"T_a85b4_level0_row5\" class=\"row_heading level0 row5\" >5</th>\n",
       "      <td id=\"T_a85b4_row5_col0\" class=\"data row5 col0\" >Service upgrade</td>\n",
       "      <td id=\"T_a85b4_row5_col1\" class=\"data row5 col1\" >1281</td>\n",
       "      <td id=\"T_a85b4_row5_col2\" class=\"data row5 col2\" >6.081466</td>\n",
       "    </tr>\n",
       "    <tr>\n",
       "      <th id=\"T_a85b4_level0_row6\" class=\"row_heading level0 row6\" >6</th>\n",
       "      <td id=\"T_a85b4_row6_col0\" class=\"data row6 col0\" >Technical issue</td>\n",
       "      <td id=\"T_a85b4_row6_col1\" class=\"data row6 col1\" >1272</td>\n",
       "      <td id=\"T_a85b4_row6_col2\" class=\"data row6 col2\" >6.038739</td>\n",
       "    </tr>\n",
       "    <tr>\n",
       "      <th id=\"T_a85b4_level0_row7\" class=\"row_heading level0 row7\" >7</th>\n",
       "      <td id=\"T_a85b4_row7_col0\" class=\"data row7 col0\" >Customer request</td>\n",
       "      <td id=\"T_a85b4_row7_col1\" class=\"data row7 col1\" >1265</td>\n",
       "      <td id=\"T_a85b4_row7_col2\" class=\"data row7 col2\" >6.005507</td>\n",
       "    </tr>\n",
       "    <tr>\n",
       "      <th id=\"T_a85b4_level0_row8\" class=\"row_heading level0 row8\" >8</th>\n",
       "      <td id=\"T_a85b4_row8_col0\" class=\"data row8 col0\" >Network Issues</td>\n",
       "      <td id=\"T_a85b4_row8_col1\" class=\"data row8 col1\" >1058</td>\n",
       "      <td id=\"T_a85b4_row8_col2\" class=\"data row8 col2\" >5.022788</td>\n",
       "    </tr>\n",
       "    <tr>\n",
       "      <th id=\"T_a85b4_level0_row9\" class=\"row_heading level0 row9\" >9</th>\n",
       "      <td id=\"T_a85b4_row9_col0\" class=\"data row9 col0\" >Personal Reasons</td>\n",
       "      <td id=\"T_a85b4_row9_col1\" class=\"data row9 col1\" >1035</td>\n",
       "      <td id=\"T_a85b4_row9_col2\" class=\"data row9 col2\" >4.913597</td>\n",
       "    </tr>\n",
       "    <tr>\n",
       "      <th id=\"T_a85b4_level0_row10\" class=\"row_heading level0 row10\" >10</th>\n",
       "      <td id=\"T_a85b4_row10_col0\" class=\"data row10 col0\" >Contract Ended</td>\n",
       "      <td id=\"T_a85b4_row10_col1\" class=\"data row10 col1\" >1035</td>\n",
       "      <td id=\"T_a85b4_row10_col2\" class=\"data row10 col2\" >4.913597</td>\n",
       "    </tr>\n",
       "    <tr>\n",
       "      <th id=\"T_a85b4_level0_row11\" class=\"row_heading level0 row11\" >11</th>\n",
       "      <td id=\"T_a85b4_row11_col0\" class=\"data row11 col0\" >Price</td>\n",
       "      <td id=\"T_a85b4_row11_col1\" class=\"data row11 col1\" >1015</td>\n",
       "      <td id=\"T_a85b4_row11_col2\" class=\"data row11 col2\" >4.818648</td>\n",
       "    </tr>\n",
       "    <tr>\n",
       "      <th id=\"T_a85b4_level0_row12\" class=\"row_heading level0 row12\" >12</th>\n",
       "      <td id=\"T_a85b4_row12_col0\" class=\"data row12 col0\" >Better Offer Elsewhere</td>\n",
       "      <td id=\"T_a85b4_row12_col1\" class=\"data row12 col1\" >1010</td>\n",
       "      <td id=\"T_a85b4_row12_col2\" class=\"data row12 col2\" >4.794911</td>\n",
       "    </tr>\n",
       "    <tr>\n",
       "      <th id=\"T_a85b4_level0_row13\" class=\"row_heading level0 row13\" >13</th>\n",
       "      <td id=\"T_a85b4_row13_col0\" class=\"data row13 col0\" >Billing Issues</td>\n",
       "      <td id=\"T_a85b4_row13_col1\" class=\"data row13 col1\" >1009</td>\n",
       "      <td id=\"T_a85b4_row13_col2\" class=\"data row13 col2\" >4.790163</td>\n",
       "    </tr>\n",
       "    <tr>\n",
       "      <th id=\"T_a85b4_level0_row14\" class=\"row_heading level0 row14\" >14</th>\n",
       "      <td id=\"T_a85b4_row14_col0\" class=\"data row14 col0\" >Service Quality</td>\n",
       "      <td id=\"T_a85b4_row14_col1\" class=\"data row14 col1\" >1001</td>\n",
       "      <td id=\"T_a85b4_row14_col2\" class=\"data row14 col2\" >4.752184</td>\n",
       "    </tr>\n",
       "    <tr>\n",
       "      <th id=\"T_a85b4_level0_row15\" class=\"row_heading level0 row15\" >15</th>\n",
       "      <td id=\"T_a85b4_row15_col0\" class=\"data row15 col0\" >Lack of Usage</td>\n",
       "      <td id=\"T_a85b4_row15_col1\" class=\"data row15 col1\" >1001</td>\n",
       "      <td id=\"T_a85b4_row15_col2\" class=\"data row15 col2\" >4.752184</td>\n",
       "    </tr>\n",
       "    <tr>\n",
       "      <th id=\"T_a85b4_level0_row16\" class=\"row_heading level0 row16\" >16</th>\n",
       "      <td id=\"T_a85b4_row16_col0\" class=\"data row16 col0\" >Technical Difficulties</td>\n",
       "      <td id=\"T_a85b4_row16_col1\" class=\"data row16 col1\" >997</td>\n",
       "      <td id=\"T_a85b4_row16_col2\" class=\"data row16 col2\" >4.733194</td>\n",
       "    </tr>\n",
       "    <tr>\n",
       "      <th id=\"T_a85b4_level0_row17\" class=\"row_heading level0 row17\" >17</th>\n",
       "      <td id=\"T_a85b4_row17_col0\" class=\"data row17 col0\" >Moved</td>\n",
       "      <td id=\"T_a85b4_row17_col1\" class=\"data row17 col1\" >995</td>\n",
       "      <td id=\"T_a85b4_row17_col2\" class=\"data row17 col2\" >4.723699</td>\n",
       "    </tr>\n",
       "  </tbody>\n",
       "</table>\n"
      ],
      "text/plain": [
       "<pandas.io.formats.style.Styler at 0x7fae6d23c310>"
      ]
     },
     "metadata": {},
     "output_type": "display_data"
    },
    {
     "data": {
      "text/markdown": [
       "---"
      ],
      "text/plain": [
       "<IPython.core.display.Markdown object>"
      ]
     },
     "metadata": {},
     "output_type": "display_data"
    },
    {
     "data": {
      "text/markdown": [
       "### Column: SEGMENT1"
      ],
      "text/plain": [
       "<IPython.core.display.Markdown object>"
      ]
     },
     "metadata": {},
     "output_type": "display_data"
    },
    {
     "data": {
      "text/markdown": [
       "#### Value Counts and Percentage Distribution:"
      ],
      "text/plain": [
       "<IPython.core.display.Markdown object>"
      ]
     },
     "metadata": {},
     "output_type": "display_data"
    },
    {
     "data": {
      "text/html": [
       "<style type=\"text/css\">\n",
       "#T_27cbc_row0_col0, #T_27cbc_row0_col1, #T_27cbc_row0_col2, #T_27cbc_row1_col0, #T_27cbc_row1_col1, #T_27cbc_row1_col2, #T_27cbc_row2_col0, #T_27cbc_row2_col1, #T_27cbc_row2_col2, #T_27cbc_row3_col0, #T_27cbc_row3_col1, #T_27cbc_row3_col2, #T_27cbc_row4_col0, #T_27cbc_row4_col1, #T_27cbc_row4_col2, #T_27cbc_row5_col0, #T_27cbc_row5_col1, #T_27cbc_row5_col2, #T_27cbc_row6_col0, #T_27cbc_row6_col1, #T_27cbc_row6_col2, #T_27cbc_row7_col0, #T_27cbc_row7_col1, #T_27cbc_row7_col2 {\n",
       "  text-align: left;\n",
       "}\n",
       "</style>\n",
       "<table id=\"T_27cbc\">\n",
       "  <thead>\n",
       "    <tr>\n",
       "      <th class=\"blank level0\" >&nbsp;</th>\n",
       "      <th id=\"T_27cbc_level0_col0\" class=\"col_heading level0 col0\" >Value</th>\n",
       "      <th id=\"T_27cbc_level0_col1\" class=\"col_heading level0 col1\" >Count</th>\n",
       "      <th id=\"T_27cbc_level0_col2\" class=\"col_heading level0 col2\" >Percentage</th>\n",
       "    </tr>\n",
       "  </thead>\n",
       "  <tbody>\n",
       "    <tr>\n",
       "      <th id=\"T_27cbc_level0_row0\" class=\"row_heading level0 row0\" >0</th>\n",
       "      <td id=\"T_27cbc_row0_col0\" class=\"data row0 col0\" >Prepaid</td>\n",
       "      <td id=\"T_27cbc_row0_col1\" class=\"data row0 col1\" >17898</td>\n",
       "      <td id=\"T_27cbc_row0_col2\" class=\"data row0 col2\" >59.217840</td>\n",
       "    </tr>\n",
       "    <tr>\n",
       "      <th id=\"T_27cbc_level0_row1\" class=\"row_heading level0 row1\" >1</th>\n",
       "      <td id=\"T_27cbc_row1_col0\" class=\"data row1 col0\" >Postpaid</td>\n",
       "      <td id=\"T_27cbc_row1_col1\" class=\"data row1 col1\" >12228</td>\n",
       "      <td id=\"T_27cbc_row1_col2\" class=\"data row1 col2\" >40.457914</td>\n",
       "    </tr>\n",
       "    <tr>\n",
       "      <th id=\"T_27cbc_level0_row2\" class=\"row_heading level0 row2\" >2</th>\n",
       "      <td id=\"T_27cbc_row2_col0\" class=\"data row2 col0\" >Prepaid100</td>\n",
       "      <td id=\"T_27cbc_row2_col1\" class=\"data row2 col1\" >44</td>\n",
       "      <td id=\"T_27cbc_row2_col2\" class=\"data row2 col2\" >0.145580</td>\n",
       "    </tr>\n",
       "    <tr>\n",
       "      <th id=\"T_27cbc_level0_row3\" class=\"row_heading level0 row3\" >3</th>\n",
       "      <td id=\"T_27cbc_row3_col0\" class=\"data row3 col0\" >5Postpaid</td>\n",
       "      <td id=\"T_27cbc_row3_col1\" class=\"data row3 col1\" >24</td>\n",
       "      <td id=\"T_27cbc_row3_col2\" class=\"data row3 col2\" >0.079407</td>\n",
       "    </tr>\n",
       "    <tr>\n",
       "      <th id=\"T_27cbc_level0_row4\" class=\"row_heading level0 row4\" >4</th>\n",
       "      <td id=\"T_27cbc_row4_col0\" class=\"data row4 col0\" >Postpaid300</td>\n",
       "      <td id=\"T_27cbc_row4_col1\" class=\"data row4 col1\" >13</td>\n",
       "      <td id=\"T_27cbc_row4_col2\" class=\"data row4 col2\" >0.043012</td>\n",
       "    </tr>\n",
       "    <tr>\n",
       "      <th id=\"T_27cbc_level0_row5\" class=\"row_heading level0 row5\" >5</th>\n",
       "      <td id=\"T_27cbc_row5_col0\" class=\"data row5 col0\" >Post60paid</td>\n",
       "      <td id=\"T_27cbc_row5_col1\" class=\"data row5 col1\" >8</td>\n",
       "      <td id=\"T_27cbc_row5_col2\" class=\"data row5 col2\" >0.026469</td>\n",
       "    </tr>\n",
       "    <tr>\n",
       "      <th id=\"T_27cbc_level0_row6\" class=\"row_heading level0 row6\" >6</th>\n",
       "      <td id=\"T_27cbc_row6_col0\" class=\"data row6 col0\" >Pre400paid</td>\n",
       "      <td id=\"T_27cbc_row6_col1\" class=\"data row6 col1\" >7</td>\n",
       "      <td id=\"T_27cbc_row6_col2\" class=\"data row6 col2\" >0.023160</td>\n",
       "    </tr>\n",
       "    <tr>\n",
       "      <th id=\"T_27cbc_level0_row7\" class=\"row_heading level0 row7\" >7</th>\n",
       "      <td id=\"T_27cbc_row7_col0\" class=\"data row7 col0\" >5Prepaid</td>\n",
       "      <td id=\"T_27cbc_row7_col1\" class=\"data row7 col1\" >2</td>\n",
       "      <td id=\"T_27cbc_row7_col2\" class=\"data row7 col2\" >0.006617</td>\n",
       "    </tr>\n",
       "  </tbody>\n",
       "</table>\n"
      ],
      "text/plain": [
       "<pandas.io.formats.style.Styler at 0x7faef0235ea0>"
      ]
     },
     "metadata": {},
     "output_type": "display_data"
    },
    {
     "data": {
      "text/markdown": [
       "---"
      ],
      "text/plain": [
       "<IPython.core.display.Markdown object>"
      ]
     },
     "metadata": {},
     "output_type": "display_data"
    },
    {
     "data": {
      "text/markdown": [
       "### Column: SEGMENT2"
      ],
      "text/plain": [
       "<IPython.core.display.Markdown object>"
      ]
     },
     "metadata": {},
     "output_type": "display_data"
    },
    {
     "data": {
      "text/markdown": [
       "#### Value Counts and Percentage Distribution:"
      ],
      "text/plain": [
       "<IPython.core.display.Markdown object>"
      ]
     },
     "metadata": {},
     "output_type": "display_data"
    },
    {
     "data": {
      "text/html": [
       "<style type=\"text/css\">\n",
       "#T_ff639_row0_col0, #T_ff639_row0_col1, #T_ff639_row0_col2, #T_ff639_row1_col0, #T_ff639_row1_col1, #T_ff639_row1_col2, #T_ff639_row2_col0, #T_ff639_row2_col1, #T_ff639_row2_col2 {\n",
       "  text-align: left;\n",
       "}\n",
       "</style>\n",
       "<table id=\"T_ff639\">\n",
       "  <thead>\n",
       "    <tr>\n",
       "      <th class=\"blank level0\" >&nbsp;</th>\n",
       "      <th id=\"T_ff639_level0_col0\" class=\"col_heading level0 col0\" >Value</th>\n",
       "      <th id=\"T_ff639_level0_col1\" class=\"col_heading level0 col1\" >Count</th>\n",
       "      <th id=\"T_ff639_level0_col2\" class=\"col_heading level0 col2\" >Percentage</th>\n",
       "    </tr>\n",
       "  </thead>\n",
       "  <tbody>\n",
       "    <tr>\n",
       "      <th id=\"T_ff639_level0_row0\" class=\"row_heading level0 row0\" >0</th>\n",
       "      <td id=\"T_ff639_row0_col0\" class=\"data row0 col0\" >Residential</td>\n",
       "      <td id=\"T_ff639_row0_col1\" class=\"data row0 col1\" >17197</td>\n",
       "      <td id=\"T_ff639_row0_col2\" class=\"data row0 col2\" >56.898491</td>\n",
       "    </tr>\n",
       "    <tr>\n",
       "      <th id=\"T_ff639_level0_row1\" class=\"row_heading level0 row1\" >1</th>\n",
       "      <td id=\"T_ff639_row1_col0\" class=\"data row1 col0\" >Corporate</td>\n",
       "      <td id=\"T_ff639_row1_col1\" class=\"data row1 col1\" >8475</td>\n",
       "      <td id=\"T_ff639_row1_col2\" class=\"data row1 col2\" >28.040630</td>\n",
       "    </tr>\n",
       "    <tr>\n",
       "      <th id=\"T_ff639_level0_row2\" class=\"row_heading level0 row2\" >2</th>\n",
       "      <td id=\"T_ff639_row2_col0\" class=\"data row2 col0\" >PRO</td>\n",
       "      <td id=\"T_ff639_row2_col1\" class=\"data row2 col1\" >4552</td>\n",
       "      <td id=\"T_ff639_row2_col2\" class=\"data row2 col2\" >15.060879</td>\n",
       "    </tr>\n",
       "  </tbody>\n",
       "</table>\n"
      ],
      "text/plain": [
       "<pandas.io.formats.style.Styler at 0x7fae6e322dd0>"
      ]
     },
     "metadata": {},
     "output_type": "display_data"
    },
    {
     "data": {
      "text/markdown": [
       "---"
      ],
      "text/plain": [
       "<IPython.core.display.Markdown object>"
      ]
     },
     "metadata": {},
     "output_type": "display_data"
    },
    {
     "data": {
      "text/markdown": [
       "### Column: Customer Segment Change Flag"
      ],
      "text/plain": [
       "<IPython.core.display.Markdown object>"
      ]
     },
     "metadata": {},
     "output_type": "display_data"
    },
    {
     "data": {
      "text/markdown": [
       "#### Value Counts and Percentage Distribution:"
      ],
      "text/plain": [
       "<IPython.core.display.Markdown object>"
      ]
     },
     "metadata": {},
     "output_type": "display_data"
    },
    {
     "data": {
      "text/html": [
       "<style type=\"text/css\">\n",
       "#T_dd813_row0_col0, #T_dd813_row0_col1, #T_dd813_row0_col2, #T_dd813_row1_col0, #T_dd813_row1_col1, #T_dd813_row1_col2, #T_dd813_row2_col0, #T_dd813_row2_col1, #T_dd813_row2_col2, #T_dd813_row3_col0, #T_dd813_row3_col1, #T_dd813_row3_col2 {\n",
       "  text-align: left;\n",
       "}\n",
       "</style>\n",
       "<table id=\"T_dd813\">\n",
       "  <thead>\n",
       "    <tr>\n",
       "      <th class=\"blank level0\" >&nbsp;</th>\n",
       "      <th id=\"T_dd813_level0_col0\" class=\"col_heading level0 col0\" >Value</th>\n",
       "      <th id=\"T_dd813_level0_col1\" class=\"col_heading level0 col1\" >Count</th>\n",
       "      <th id=\"T_dd813_level0_col2\" class=\"col_heading level0 col2\" >Percentage</th>\n",
       "    </tr>\n",
       "  </thead>\n",
       "  <tbody>\n",
       "    <tr>\n",
       "      <th id=\"T_dd813_level0_row0\" class=\"row_heading level0 row0\" >0</th>\n",
       "      <td id=\"T_dd813_row0_col0\" class=\"data row0 col0\" >TRUE</td>\n",
       "      <td id=\"T_dd813_row0_col1\" class=\"data row0 col1\" >21843</td>\n",
       "      <td id=\"T_dd813_row0_col2\" class=\"data row0 col2\" >72.270381</td>\n",
       "    </tr>\n",
       "    <tr>\n",
       "      <th id=\"T_dd813_level0_row1\" class=\"row_heading level0 row1\" >1</th>\n",
       "      <td id=\"T_dd813_row1_col0\" class=\"data row1 col0\" >FALSE</td>\n",
       "      <td id=\"T_dd813_row1_col1\" class=\"data row1 col1\" >7402</td>\n",
       "      <td id=\"T_dd813_row1_col2\" class=\"data row1 col2\" >24.490471</td>\n",
       "    </tr>\n",
       "    <tr>\n",
       "      <th id=\"T_dd813_level0_row2\" class=\"row_heading level0 row2\" >2</th>\n",
       "      <td id=\"T_dd813_row2_col0\" class=\"data row2 col0\" >1</td>\n",
       "      <td id=\"T_dd813_row2_col1\" class=\"data row2 col1\" >726</td>\n",
       "      <td id=\"T_dd813_row2_col2\" class=\"data row2 col2\" >2.402065</td>\n",
       "    </tr>\n",
       "    <tr>\n",
       "      <th id=\"T_dd813_level0_row3\" class=\"row_heading level0 row3\" >3</th>\n",
       "      <td id=\"T_dd813_row3_col0\" class=\"data row3 col0\" >0</td>\n",
       "      <td id=\"T_dd813_row3_col1\" class=\"data row3 col1\" >253</td>\n",
       "      <td id=\"T_dd813_row3_col2\" class=\"data row3 col2\" >0.837083</td>\n",
       "    </tr>\n",
       "  </tbody>\n",
       "</table>\n"
      ],
      "text/plain": [
       "<pandas.io.formats.style.Styler at 0x7faef0235ea0>"
      ]
     },
     "metadata": {},
     "output_type": "display_data"
    },
    {
     "data": {
      "text/markdown": [
       "---"
      ],
      "text/plain": [
       "<IPython.core.display.Markdown object>"
      ]
     },
     "metadata": {},
     "output_type": "display_data"
    }
   ],
   "source": [
    "info.categorical_summary()"
   ]
  },
  {
   "cell_type": "markdown",
   "metadata": {},
   "source": [
    "### EDA Plots"
   ]
  },
  {
   "cell_type": "code",
   "execution_count": 9,
   "metadata": {},
   "outputs": [
    {
     "name": "stderr",
     "output_type": "stream",
     "text": [
      "/home/yousinator/personal/ChurnSage/base_functions/plotting.py:66: UserWarning: Glyph 150 (\\x96) missing from font(s) DejaVu Sans.\n",
      "  plt.tight_layout()\n",
      "/home/yousinator/.cache/pypoetry/virtualenvs/churnsage-9N5ssJVD-py3.10/lib/python3.10/site-packages/IPython/core/pylabtools.py:152: UserWarning: Glyph 150 (\\x96) missing from font(s) DejaVu Sans.\n",
      "  fig.canvas.print_figure(bytes_io, **kw)\n"
     ]
    },
    {
     "data": {
      "image/png": "[encoded data removed]",
      "text/plain": [
       "<Figure size 2000x2000 with 12 Axes>"
      ]
     },
     "metadata": {},
     "output_type": "display_data"
    }
   ],
   "source": [
    "plotting = Plotting(df)\n",
    "\n",
    "plotting.draw_categorical_plots()"
   ]
  },
  {
   "cell_type": "markdown",
   "metadata": {},
   "source": [
    "## Numerical EDA"
   ]
  },
  {
   "cell_type": "code",
   "execution_count": 10,
   "metadata": {},
   "outputs": [
    {
     "data": {
      "text/markdown": [
       "### Numerical Columns Statistical Summary:"
      ],
      "text/plain": [
       "<IPython.core.display.Markdown object>"
      ]
     },
     "metadata": {},
     "output_type": "display_data"
    },
    {
     "data": {
      "text/html": [
       "<div>\n",
       "<style scoped>\n",
       "    .dataframe tbody tr th:only-of-type {\n",
       "        vertical-align: middle;\n",
       "    }\n",
       "\n",
       "    .dataframe tbody tr th {\n",
       "        vertical-align: top;\n",
       "    }\n",
       "\n",
       "    .dataframe thead th {\n",
       "        text-align: right;\n",
       "    }\n",
       "</style>\n",
       "<table border=\"1\" class=\"dataframe\">\n",
       "  <thead>\n",
       "    <tr style=\"text-align: right;\">\n",
       "      <th></th>\n",
       "      <th>CO_ID</th>\n",
       "      <th>MSISDN</th>\n",
       "      <th>Customer Tenure</th>\n",
       "      <th>Churn Flag</th>\n",
       "      <th>Customer Interaction Score</th>\n",
       "      <th>Loyalty Points</th>\n",
       "      <th>Data Usage Tier</th>\n",
       "    </tr>\n",
       "  </thead>\n",
       "  <tbody>\n",
       "    <tr>\n",
       "      <th>Mean</th>\n",
       "      <td>3.113007e+07</td>\n",
       "      <td>8.137069e+08</td>\n",
       "      <td>85.565345</td>\n",
       "      <td>0.348729</td>\n",
       "      <td>6.249471</td>\n",
       "      <td>60.510720</td>\n",
       "      <td>1.925912</td>\n",
       "    </tr>\n",
       "    <tr>\n",
       "      <th>Median</th>\n",
       "      <td>3.128571e+07</td>\n",
       "      <td>8.873348e+08</td>\n",
       "      <td>93.000000</td>\n",
       "      <td>0.000000</td>\n",
       "      <td>6.000000</td>\n",
       "      <td>65.000000</td>\n",
       "      <td>2.000000</td>\n",
       "    </tr>\n",
       "    <tr>\n",
       "      <th>Mode</th>\n",
       "      <td>3.165295e+07</td>\n",
       "      <td>8.891247e+08</td>\n",
       "      <td>39.000000</td>\n",
       "      <td>0.000000</td>\n",
       "      <td>5.000000</td>\n",
       "      <td>65.000000</td>\n",
       "      <td>1.000000</td>\n",
       "    </tr>\n",
       "    <tr>\n",
       "      <th>Std Dev</th>\n",
       "      <td>8.696344e+05</td>\n",
       "      <td>1.446536e+08</td>\n",
       "      <td>45.325885</td>\n",
       "      <td>0.476576</td>\n",
       "      <td>2.106415</td>\n",
       "      <td>19.477011</td>\n",
       "      <td>0.919454</td>\n",
       "    </tr>\n",
       "    <tr>\n",
       "      <th>Variance</th>\n",
       "      <td>7.562639e+11</td>\n",
       "      <td>2.092465e+16</td>\n",
       "      <td>2054.435858</td>\n",
       "      <td>0.227125</td>\n",
       "      <td>4.436985</td>\n",
       "      <td>379.353953</td>\n",
       "      <td>0.845395</td>\n",
       "    </tr>\n",
       "    <tr>\n",
       "      <th>Range</th>\n",
       "      <td>2.199540e+07</td>\n",
       "      <td>3.628971e+08</td>\n",
       "      <td>153.000000</td>\n",
       "      <td>1.000000</td>\n",
       "      <td>9.000000</td>\n",
       "      <td>80.000000</td>\n",
       "      <td>2.000000</td>\n",
       "    </tr>\n",
       "    <tr>\n",
       "      <th>Min</th>\n",
       "      <td>9.896667e+06</td>\n",
       "      <td>5.293357e+08</td>\n",
       "      <td>0.000000</td>\n",
       "      <td>0.000000</td>\n",
       "      <td>1.000000</td>\n",
       "      <td>10.000000</td>\n",
       "      <td>1.000000</td>\n",
       "    </tr>\n",
       "    <tr>\n",
       "      <th>Max</th>\n",
       "      <td>3.189207e+07</td>\n",
       "      <td>8.922328e+08</td>\n",
       "      <td>153.000000</td>\n",
       "      <td>1.000000</td>\n",
       "      <td>10.000000</td>\n",
       "      <td>90.000000</td>\n",
       "      <td>3.000000</td>\n",
       "    </tr>\n",
       "  </tbody>\n",
       "</table>\n",
       "</div>"
      ],
      "text/plain": [
       "                 CO_ID        MSISDN  Customer Tenure  Churn Flag  \\\n",
       "Mean      3.113007e+07  8.137069e+08        85.565345    0.348729   \n",
       "Median    3.128571e+07  8.873348e+08        93.000000    0.000000   \n",
       "Mode      3.165295e+07  8.891247e+08        39.000000    0.000000   \n",
       "Std Dev   8.696344e+05  1.446536e+08        45.325885    0.476576   \n",
       "Variance  7.562639e+11  2.092465e+16      2054.435858    0.227125   \n",
       "Range     2.199540e+07  3.628971e+08       153.000000    1.000000   \n",
       "Min       9.896667e+06  5.293357e+08         0.000000    0.000000   \n",
       "Max       3.189207e+07  8.922328e+08       153.000000    1.000000   \n",
       "\n",
       "          Customer Interaction Score  Loyalty Points  Data Usage Tier  \n",
       "Mean                        6.249471       60.510720         1.925912  \n",
       "Median                      6.000000       65.000000         2.000000  \n",
       "Mode                        5.000000       65.000000         1.000000  \n",
       "Std Dev                     2.106415       19.477011         0.919454  \n",
       "Variance                    4.436985      379.353953         0.845395  \n",
       "Range                       9.000000       80.000000         2.000000  \n",
       "Min                         1.000000       10.000000         1.000000  \n",
       "Max                        10.000000       90.000000         3.000000  "
      ]
     },
     "metadata": {},
     "output_type": "display_data"
    },
    {
     "data": {
      "text/markdown": [
       "### Correlation Matrix:"
      ],
      "text/plain": [
       "<IPython.core.display.Markdown object>"
      ]
     },
     "metadata": {},
     "output_type": "display_data"
    },
    {
     "data": {
      "text/html": [
       "<div>\n",
       "<style scoped>\n",
       "    .dataframe tbody tr th:only-of-type {\n",
       "        vertical-align: middle;\n",
       "    }\n",
       "\n",
       "    .dataframe tbody tr th {\n",
       "        vertical-align: top;\n",
       "    }\n",
       "\n",
       "    .dataframe thead th {\n",
       "        text-align: right;\n",
       "    }\n",
       "</style>\n",
       "<table border=\"1\" class=\"dataframe\">\n",
       "  <thead>\n",
       "    <tr style=\"text-align: right;\">\n",
       "      <th></th>\n",
       "      <th>CO_ID</th>\n",
       "      <th>MSISDN</th>\n",
       "      <th>Customer Tenure</th>\n",
       "      <th>Churn Flag</th>\n",
       "      <th>Customer Interaction Score</th>\n",
       "      <th>Loyalty Points</th>\n",
       "      <th>Data Usage Tier</th>\n",
       "    </tr>\n",
       "  </thead>\n",
       "  <tbody>\n",
       "    <tr>\n",
       "      <th>CO_ID</th>\n",
       "      <td>1.000000</td>\n",
       "      <td>-0.284738</td>\n",
       "      <td>-0.392159</td>\n",
       "      <td>0.252989</td>\n",
       "      <td>-0.066906</td>\n",
       "      <td>-0.073519</td>\n",
       "      <td>0.365048</td>\n",
       "    </tr>\n",
       "    <tr>\n",
       "      <th>MSISDN</th>\n",
       "      <td>-0.284738</td>\n",
       "      <td>1.000000</td>\n",
       "      <td>0.213791</td>\n",
       "      <td>-0.273508</td>\n",
       "      <td>0.061040</td>\n",
       "      <td>0.024270</td>\n",
       "      <td>-0.347039</td>\n",
       "    </tr>\n",
       "    <tr>\n",
       "      <th>Customer Tenure</th>\n",
       "      <td>-0.392159</td>\n",
       "      <td>0.213791</td>\n",
       "      <td>1.000000</td>\n",
       "      <td>-0.740729</td>\n",
       "      <td>0.130002</td>\n",
       "      <td>0.440359</td>\n",
       "      <td>-0.127667</td>\n",
       "    </tr>\n",
       "    <tr>\n",
       "      <th>Churn Flag</th>\n",
       "      <td>0.252989</td>\n",
       "      <td>-0.273508</td>\n",
       "      <td>-0.740729</td>\n",
       "      <td>1.000000</td>\n",
       "      <td>-0.138676</td>\n",
       "      <td>-0.356069</td>\n",
       "      <td>0.028547</td>\n",
       "    </tr>\n",
       "    <tr>\n",
       "      <th>Customer Interaction Score</th>\n",
       "      <td>-0.066906</td>\n",
       "      <td>0.061040</td>\n",
       "      <td>0.130002</td>\n",
       "      <td>-0.138676</td>\n",
       "      <td>1.000000</td>\n",
       "      <td>0.094002</td>\n",
       "      <td>-0.072489</td>\n",
       "    </tr>\n",
       "    <tr>\n",
       "      <th>Loyalty Points</th>\n",
       "      <td>-0.073519</td>\n",
       "      <td>0.024270</td>\n",
       "      <td>0.440359</td>\n",
       "      <td>-0.356069</td>\n",
       "      <td>0.094002</td>\n",
       "      <td>1.000000</td>\n",
       "      <td>0.287512</td>\n",
       "    </tr>\n",
       "    <tr>\n",
       "      <th>Data Usage Tier</th>\n",
       "      <td>0.365048</td>\n",
       "      <td>-0.347039</td>\n",
       "      <td>-0.127667</td>\n",
       "      <td>0.028547</td>\n",
       "      <td>-0.072489</td>\n",
       "      <td>0.287512</td>\n",
       "      <td>1.000000</td>\n",
       "    </tr>\n",
       "  </tbody>\n",
       "</table>\n",
       "</div>"
      ],
      "text/plain": [
       "                               CO_ID    MSISDN  Customer Tenure  Churn Flag  \\\n",
       "CO_ID                       1.000000 -0.284738        -0.392159    0.252989   \n",
       "MSISDN                     -0.284738  1.000000         0.213791   -0.273508   \n",
       "Customer Tenure            -0.392159  0.213791         1.000000   -0.740729   \n",
       "Churn Flag                  0.252989 -0.273508        -0.740729    1.000000   \n",
       "Customer Interaction Score -0.066906  0.061040         0.130002   -0.138676   \n",
       "Loyalty Points             -0.073519  0.024270         0.440359   -0.356069   \n",
       "Data Usage Tier             0.365048 -0.347039        -0.127667    0.028547   \n",
       "\n",
       "                            Customer Interaction Score  Loyalty Points  \\\n",
       "CO_ID                                        -0.066906       -0.073519   \n",
       "MSISDN                                        0.061040        0.024270   \n",
       "Customer Tenure                               0.130002        0.440359   \n",
       "Churn Flag                                   -0.138676       -0.356069   \n",
       "Customer Interaction Score                    1.000000        0.094002   \n",
       "Loyalty Points                                0.094002        1.000000   \n",
       "Data Usage Tier                              -0.072489        0.287512   \n",
       "\n",
       "                            Data Usage Tier  \n",
       "CO_ID                              0.365048  \n",
       "MSISDN                            -0.347039  \n",
       "Customer Tenure                   -0.127667  \n",
       "Churn Flag                         0.028547  \n",
       "Customer Interaction Score        -0.072489  \n",
       "Loyalty Points                     0.287512  \n",
       "Data Usage Tier                    1.000000  "
      ]
     },
     "metadata": {},
     "output_type": "display_data"
    },
    {
     "data": {
      "text/markdown": [
       "### Correlation Matrix Heatmap:"
      ],
      "text/plain": [
       "<IPython.core.display.Markdown object>"
      ]
     },
     "metadata": {},
     "output_type": "display_data"
    },
    {
     "data": {
      "image/png": "[encoded data removed]",
      "text/plain": [
       "<Figure size 1000x800 with 2 Axes>"
      ]
     },
     "metadata": {},
     "output_type": "display_data"
    }
   ],
   "source": [
    "info.numerical_summary()"
   ]
  },
  {
   "cell_type": "markdown",
   "metadata": {},
   "source": [
    "### Numerical Plots"
   ]
  },
  {
   "cell_type": "code",
   "execution_count": 11,
   "metadata": {},
   "outputs": [
    {
     "data": {
      "image/png": "[encoded data removed]",
      "text/plain": [
       "<Figure size 2000x1500 with 9 Axes>"
      ]
     },
     "metadata": {},
     "output_type": "display_data"
    }
   ],
   "source": [
    "plotting.draw_numerical_plots()"
   ]
  },
  {
   "cell_type": "markdown",
   "metadata": {},
   "source": [
    "# Data Cleaning"
   ]
  },
  {
   "cell_type": "markdown",
   "metadata": {},
   "source": [
    "## Dropping Columns"
   ]
  },
  {
   "cell_type": "markdown",
   "metadata": {},
   "source": [
    "## Data Suitability"
   ]
  },
  {
   "cell_type": "markdown",
   "metadata": {},
   "source": [
    "### To Int64"
   ]
  },
  {
   "cell_type": "code",
   "execution_count": 12,
   "metadata": {},
   "outputs": [],
   "source": [
    "#! These are Classes, so they have to be integers.\n",
    "df[\"Data Usage Tier\"] = df[\"Data Usage Tier\"].astype(\"Int64\")"
   ]
  },
  {
   "cell_type": "markdown",
   "metadata": {},
   "source": [
    "### Dates"
   ]
  },
  {
   "cell_type": "code",
   "execution_count": 13,
   "metadata": {},
   "outputs": [],
   "source": [
    "df[\"ACTIVE_DATE\"] = pd.to_datetime(df[\"ACTIVE_DATE\"], format=\"%m/%d/%Y\")\n",
    "df[\"DEACTIVE_DATE\"] = pd.to_datetime(df[\"DEACTIVE_DATE\"], format=\"%m/%d/%Y\")"
   ]
  },
  {
   "cell_type": "markdown",
   "metadata": {},
   "source": [
    "## Dropping Duplicates"
   ]
  },
  {
   "cell_type": "code",
   "execution_count": 14,
   "metadata": {},
   "outputs": [],
   "source": [
    "df.drop_duplicates(inplace=True)"
   ]
  },
  {
   "cell_type": "markdown",
   "metadata": {},
   "source": [
    "## Changing Column Namings"
   ]
  },
  {
   "cell_type": "code",
   "execution_count": 15,
   "metadata": {},
   "outputs": [],
   "source": [
    "keep = [\"MSISDN\", \"POS_MSISDN\", \"CO_ID\"]\n",
    "df.columns = [\n",
    "    col.replace(\"_\", \" \").title() if col not in keep else col for col in df.columns\n",
    "]\n"
   ]
  },
  {
   "cell_type": "code",
   "execution_count": 16,
   "metadata": {},
   "outputs": [
    {
     "data": {
      "text/plain": [
       "Index(['CO_ID', 'User Created By', 'MSISDN', 'POS_MSISDN', 'Distributer',\n",
       "       'Plan Name', 'Active Date', 'Deactive Date', 'Customer Tenure',\n",
       "       'Tenure Category', 'Status', 'Status Reason', 'Segment1', 'Segment2',\n",
       "       'Churn Flag', 'Customer Interaction Score', 'Loyalty Points',\n",
       "       'Data Usage Tier', 'Customer Segment Change Flag'],\n",
       "      dtype='object')"
      ]
     },
     "execution_count": 16,
     "metadata": {},
     "output_type": "execute_result"
    }
   ],
   "source": [
    "df.columns"
   ]
  },
  {
   "cell_type": "markdown",
   "metadata": {},
   "source": [
    "## Column Values Cleaning"
   ]
  },
  {
   "cell_type": "markdown",
   "metadata": {},
   "source": [
    "### Tenure Category"
   ]
  },
  {
   "cell_type": "code",
   "execution_count": 17,
   "metadata": {},
   "outputs": [],
   "source": [
    "tenure = {\"Short\": \"Short-term\", \"Medium\": \"Medium-term\", \"Long\": \"Long-term\"}\n",
    "\n",
    "df[\"Tenure Category\"] = df[\"Tenure Category\"].replace(tenure)"
   ]
  },
  {
   "cell_type": "markdown",
   "metadata": {},
   "source": [
    "### Status"
   ]
  },
  {
   "cell_type": "code",
   "execution_count": 18,
   "metadata": {},
   "outputs": [],
   "source": [
    "df[\"Status\"] = df[\"Status\"].str.title()"
   ]
  },
  {
   "cell_type": "markdown",
   "metadata": {},
   "source": [
    "### Segment1"
   ]
  },
  {
   "cell_type": "code",
   "execution_count": 19,
   "metadata": {},
   "outputs": [],
   "source": [
    "df[\"Segment1\"] = df[\"Segment1\"].str.replace(\"[0-9]\", \"\", regex=True)"
   ]
  },
  {
   "cell_type": "markdown",
   "metadata": {},
   "source": [
    "### Customer Segment Change Flag"
   ]
  },
  {
   "cell_type": "code",
   "execution_count": 20,
   "metadata": {},
   "outputs": [],
   "source": [
    "change = {\"1\": \"TRUE\", \"0\": \"FALSE\"}\n",
    "\n",
    "df[\"Customer Segment Change Flag\"] = df[\"Customer Segment Change Flag\"].replace(change)"
   ]
  },
  {
   "cell_type": "markdown",
   "metadata": {},
   "source": [
    "## FIlling Nulls"
   ]
  },
  {
   "cell_type": "markdown",
   "metadata": {},
   "source": [
    "### User Created"
   ]
  },
  {
   "cell_type": "code",
   "execution_count": 21,
   "metadata": {},
   "outputs": [
    {
     "data": {
      "text/plain": [
       "Status          Churn Flag\n",
       "Active          0             BJNN1810\n",
       "                1             BJNN1810\n",
       "Deactive        0             DPNB1876\n",
       "                1             DPNB1876\n",
       "Hard Suspended  0             BJNN1810\n",
       "                1             BJNN1810\n",
       "Soft Suspended  0             BJNN1810\n",
       "                1             BJNN1810\n",
       "Name: User Created By, dtype: object"
      ]
     },
     "execution_count": 21,
     "metadata": {},
     "output_type": "execute_result"
    }
   ],
   "source": [
    "df.groupby([\"Status\", \"Churn Flag\"])[\"User Created By\"].agg(\n",
    "    lambda x: x.mode()[0] if not x.mode().empty else np.nan\n",
    ")"
   ]
  },
  {
   "cell_type": "code",
   "execution_count": 22,
   "metadata": {},
   "outputs": [],
   "source": [
    "def fill_mode(x):\n",
    "    mode = x.mode()\n",
    "    return mode[0] if not mode.empty else np.nan\n",
    "\n",
    "\n",
    "# Group by 'STATUS' and 'Churn Flag', then fill missing 'USER_CREATED_BY' values\n",
    "df[\"User Created By\"] = df.groupby([\"Status\", \"Churn Flag\"])[\n",
    "    \"User Created By\"\n",
    "].transform(lambda x: fill_mode(x) if x.isna().any() else x)"
   ]
  },
  {
   "cell_type": "markdown",
   "metadata": {},
   "source": [
    "### Distributer"
   ]
  },
  {
   "cell_type": "code",
   "execution_count": 23,
   "metadata": {},
   "outputs": [
    {
     "data": {
      "text/plain": [
       "Segment2     Plan Name            \n",
       "Corporate    Business Plan                         FNTFRPRJTF TBLFT TTPDL\n",
       "             Economy Plan                          FNTFRPRJTF TBLFT TTPDL\n",
       "             Family Orange Plan 10                 FNTFRPRJTF TBLFT TTPDL\n",
       "             Governorates 10                       FNTFRPRJTF TBLFT TTPDL\n",
       "             Governorates 25                       FNTFRPRJTF TBLFT TTPDL\n",
       "                                                     ...                 \n",
       "Residential  Traveler's Plan                           BJRPPRT TFRNJNBL 1\n",
       "             Unknown                                     HPNF BBDL PFFJDF\n",
       "             Visitors' Line           BLBBTHFR FPR TRBDF BND DJTTRJBVTJPN\n",
       "             Visitors’ Line Extra                        HPLDFN NBRL HPPT\n",
       "             YO 9 Max                                JNTFRNBL DFPBRTNFNTT\n",
       "Name: Distributer, Length: 69, dtype: object"
      ]
     },
     "execution_count": 23,
     "metadata": {},
     "output_type": "execute_result"
    }
   ],
   "source": [
    "df.groupby([\"Segment2\", \"Plan Name\"])[\"Distributer\"].agg(\n",
    "    lambda x: x.mode()[0] if not x.mode().empty else np.nan\n",
    ")"
   ]
  },
  {
   "cell_type": "code",
   "execution_count": 24,
   "metadata": {},
   "outputs": [],
   "source": [
    "df[\"Distributer\"] = df.groupby([\"Segment2\", \"Plan Name\"])[\"Distributer\"].transform(\n",
    "    lambda x: fill_mode(x) if x.isna().any() else x\n",
    ")"
   ]
  },
  {
   "cell_type": "markdown",
   "metadata": {},
   "source": [
    "### Deactivate Date"
   ]
  },
  {
   "cell_type": "code",
   "execution_count": 25,
   "metadata": {},
   "outputs": [],
   "source": [
    "df[\"Deactive Date\"] = df[\"Active Date\"] + pd.to_timedelta(\n",
    "    df[\"Customer Tenure\"], unit=\"d\"\n",
    ")\n",
    "\n",
    "#! Source for to_timedelta() https://pandas.pydata.org/docs/reference/api/pandas.to_timedelta.html"
   ]
  },
  {
   "cell_type": "markdown",
   "metadata": {},
   "source": [
    "### Tenure Category"
   ]
  },
  {
   "cell_type": "code",
   "execution_count": 26,
   "metadata": {},
   "outputs": [
    {
     "data": {
      "text/plain": [
       "Tenure Category\n",
       "Short-term      86\n",
       "Medium-term    119\n",
       "Long-term      153\n",
       "Name: Customer Tenure, dtype: int64"
      ]
     },
     "execution_count": 26,
     "metadata": {},
     "output_type": "execute_result"
    }
   ],
   "source": [
    "tenure_category = df.groupby(\"Tenure Category\")[\"Customer Tenure\"].max().sort_values()\n",
    "tenure_category\n"
   ]
  },
  {
   "cell_type": "code",
   "execution_count": 27,
   "metadata": {},
   "outputs": [],
   "source": [
    "for category, max_tenure in tenure_category.items():\n",
    "    condition = df[\"Customer Tenure\"] <= max_tenure\n",
    "    df.loc[condition, \"Tenure Category\"] = df.loc[condition, \"Tenure Category\"].fillna(\n",
    "        category\n",
    "    )\n",
    "\n",
    "long_term_condition = df[\"Customer Tenure\"] >= 153\n",
    "df.loc[long_term_condition, \"Tenure Category\"] = df.loc[\n",
    "    long_term_condition, \"Tenure Category\"\n",
    "].fillna(\"Long-term\")"
   ]
  },
  {
   "cell_type": "markdown",
   "metadata": {},
   "source": [
    "### Status Reason"
   ]
  },
  {
   "cell_type": "code",
   "execution_count": 28,
   "metadata": {},
   "outputs": [],
   "source": [
    "condition = df[\"Status\"] == \"Active\"\n",
    "df.loc[condition, \"Status Reason\"] = df.loc[condition, \"Status Reason\"].fillna(\n",
    "    \"Good Service\"\n",
    ")"
   ]
  },
  {
   "cell_type": "markdown",
   "metadata": {},
   "source": [
    "### Data Usage Tier"
   ]
  },
  {
   "cell_type": "code",
   "execution_count": 29,
   "metadata": {},
   "outputs": [
    {
     "data": {
      "text/plain": [
       "Segment1  Segment2     Plan Name           \n",
       "Postpaid  Corporate    Business Plan           3\n",
       "                       Economy Plan            3\n",
       "                       Governorates 10         2\n",
       "                       Governorates 25         2\n",
       "                       Humat Al Watan 10       3\n",
       "                                              ..\n",
       "Prepaid   Residential  Student Plan 9          1\n",
       "                       Traveler's Plan         1\n",
       "                       Visitors' Line          1\n",
       "                       Visitors’ Line Extra    3\n",
       "                       YO 9 Max                1\n",
       "Name: Data Usage Tier, Length: 69, dtype: Int64"
      ]
     },
     "execution_count": 29,
     "metadata": {},
     "output_type": "execute_result"
    }
   ],
   "source": [
    "df.groupby([\"Segment1\", \"Segment2\", \"Plan Name\"])[\"Data Usage Tier\"].agg(\n",
    "    lambda x: x.mode()[0] if not x.mode().empty else np.nan\n",
    ")"
   ]
  },
  {
   "cell_type": "code",
   "execution_count": 30,
   "metadata": {},
   "outputs": [],
   "source": [
    "df[\"Data Usage Tier\"] = df.groupby([\"Segment2\", \"Segment2\", \"Plan Name\"])[\n",
    "    \"Data Usage Tier\"\n",
    "].transform(lambda x: fill_mode(x) if x.isna().any() else x)"
   ]
  },
  {
   "cell_type": "code",
   "execution_count": 31,
   "metadata": {},
   "outputs": [
    {
     "data": {
      "text/markdown": [
       "### Categorical Columns Summary:"
      ],
      "text/plain": [
       "<IPython.core.display.Markdown object>"
      ]
     },
     "metadata": {},
     "output_type": "display_data"
    },
    {
     "data": {
      "text/html": [
       "<style type=\"text/css\">\n",
       "#T_2ed1b th {\n",
       "  text-align: left;\n",
       "}\n",
       "#T_2ed1b_row0_col0, #T_2ed1b_row0_col1, #T_2ed1b_row0_col2, #T_2ed1b_row0_col3, #T_2ed1b_row1_col0, #T_2ed1b_row1_col1, #T_2ed1b_row1_col2, #T_2ed1b_row1_col3, #T_2ed1b_row2_col0, #T_2ed1b_row2_col1, #T_2ed1b_row2_col2, #T_2ed1b_row2_col3, #T_2ed1b_row3_col0, #T_2ed1b_row3_col1, #T_2ed1b_row3_col2, #T_2ed1b_row3_col3, #T_2ed1b_row4_col0, #T_2ed1b_row4_col1, #T_2ed1b_row4_col2, #T_2ed1b_row4_col3, #T_2ed1b_row5_col0, #T_2ed1b_row5_col1, #T_2ed1b_row5_col2, #T_2ed1b_row5_col3, #T_2ed1b_row6_col0, #T_2ed1b_row6_col1, #T_2ed1b_row6_col2, #T_2ed1b_row6_col3, #T_2ed1b_row7_col0, #T_2ed1b_row7_col1, #T_2ed1b_row7_col2, #T_2ed1b_row7_col3, #T_2ed1b_row8_col0, #T_2ed1b_row8_col1, #T_2ed1b_row8_col2, #T_2ed1b_row8_col3, #T_2ed1b_row9_col0, #T_2ed1b_row9_col1, #T_2ed1b_row9_col2, #T_2ed1b_row9_col3 {\n",
       "  text-align: left;\n",
       "}\n",
       "</style>\n",
       "<table id=\"T_2ed1b\">\n",
       "  <thead>\n",
       "    <tr>\n",
       "      <th class=\"blank level0\" >&nbsp;</th>\n",
       "      <th id=\"T_2ed1b_level0_col0\" class=\"col_heading level0 col0\" >Column</th>\n",
       "      <th id=\"T_2ed1b_level0_col1\" class=\"col_heading level0 col1\" >Unique Values Count</th>\n",
       "      <th id=\"T_2ed1b_level0_col2\" class=\"col_heading level0 col2\" >Top Value</th>\n",
       "      <th id=\"T_2ed1b_level0_col3\" class=\"col_heading level0 col3\" >Top Value Percentage</th>\n",
       "    </tr>\n",
       "  </thead>\n",
       "  <tbody>\n",
       "    <tr>\n",
       "      <th id=\"T_2ed1b_level0_row0\" class=\"row_heading level0 row0\" >0</th>\n",
       "      <td id=\"T_2ed1b_row0_col0\" class=\"data row0 col0\" >User Created By</td>\n",
       "      <td id=\"T_2ed1b_row0_col1\" class=\"data row0 col1\" >62</td>\n",
       "      <td id=\"T_2ed1b_row0_col2\" class=\"data row0 col2\" >BJNN1810</td>\n",
       "      <td id=\"T_2ed1b_row0_col3\" class=\"data row0 col3\" >66.43%</td>\n",
       "    </tr>\n",
       "    <tr>\n",
       "      <th id=\"T_2ed1b_level0_row1\" class=\"row_heading level0 row1\" >1</th>\n",
       "      <td id=\"T_2ed1b_row1_col0\" class=\"data row1 col0\" >POS_MSISDN</td>\n",
       "      <td id=\"T_2ed1b_row1_col1\" class=\"data row1 col1\" >156</td>\n",
       "      <td id=\"T_2ed1b_row1_col2\" class=\"data row1 col2\" >ORG2464</td>\n",
       "      <td id=\"T_2ed1b_row1_col3\" class=\"data row1 col3\" >0.85%</td>\n",
       "    </tr>\n",
       "    <tr>\n",
       "      <th id=\"T_2ed1b_level0_row2\" class=\"row_heading level0 row2\" >2</th>\n",
       "      <td id=\"T_2ed1b_row2_col0\" class=\"data row2 col0\" >Distributer</td>\n",
       "      <td id=\"T_2ed1b_row2_col1\" class=\"data row2 col1\" >145</td>\n",
       "      <td id=\"T_2ed1b_row2_col2\" class=\"data row2 col2\" >FNTFRPRJTF TBLFT TTPDL</td>\n",
       "      <td id=\"T_2ed1b_row2_col3\" class=\"data row2 col3\" >27.50%</td>\n",
       "    </tr>\n",
       "    <tr>\n",
       "      <th id=\"T_2ed1b_level0_row3\" class=\"row_heading level0 row3\" >3</th>\n",
       "      <td id=\"T_2ed1b_row3_col0\" class=\"data row3 col0\" >Plan Name</td>\n",
       "      <td id=\"T_2ed1b_row3_col1\" class=\"data row3 col1\" >34</td>\n",
       "      <td id=\"T_2ed1b_row3_col2\" class=\"data row3 col2\" >Orange 90</td>\n",
       "      <td id=\"T_2ed1b_row3_col3\" class=\"data row3 col3\" >19.88%</td>\n",
       "    </tr>\n",
       "    <tr>\n",
       "      <th id=\"T_2ed1b_level0_row4\" class=\"row_heading level0 row4\" >4</th>\n",
       "      <td id=\"T_2ed1b_row4_col0\" class=\"data row4 col0\" >Tenure Category</td>\n",
       "      <td id=\"T_2ed1b_row4_col1\" class=\"data row4 col1\" >3</td>\n",
       "      <td id=\"T_2ed1b_row4_col2\" class=\"data row4 col2\" >Short-term</td>\n",
       "      <td id=\"T_2ed1b_row4_col3\" class=\"data row4 col3\" >45.86%</td>\n",
       "    </tr>\n",
       "    <tr>\n",
       "      <th id=\"T_2ed1b_level0_row5\" class=\"row_heading level0 row5\" >5</th>\n",
       "      <td id=\"T_2ed1b_row5_col0\" class=\"data row5 col0\" >Status</td>\n",
       "      <td id=\"T_2ed1b_row5_col1\" class=\"data row5 col1\" >4</td>\n",
       "      <td id=\"T_2ed1b_row5_col2\" class=\"data row5 col2\" >Deactive</td>\n",
       "      <td id=\"T_2ed1b_row5_col3\" class=\"data row5 col3\" >33.80%</td>\n",
       "    </tr>\n",
       "    <tr>\n",
       "      <th id=\"T_2ed1b_level0_row6\" class=\"row_heading level0 row6\" >6</th>\n",
       "      <td id=\"T_2ed1b_row6_col0\" class=\"data row6 col0\" >Status Reason</td>\n",
       "      <td id=\"T_2ed1b_row6_col1\" class=\"data row6 col1\" >19</td>\n",
       "      <td id=\"T_2ed1b_row6_col2\" class=\"data row6 col2\" >Good Service</td>\n",
       "      <td id=\"T_2ed1b_row6_col3\" class=\"data row6 col3\" >30.18%</td>\n",
       "    </tr>\n",
       "    <tr>\n",
       "      <th id=\"T_2ed1b_level0_row7\" class=\"row_heading level0 row7\" >7</th>\n",
       "      <td id=\"T_2ed1b_row7_col0\" class=\"data row7 col0\" >Segment1</td>\n",
       "      <td id=\"T_2ed1b_row7_col1\" class=\"data row7 col1\" >2</td>\n",
       "      <td id=\"T_2ed1b_row7_col2\" class=\"data row7 col2\" >Prepaid</td>\n",
       "      <td id=\"T_2ed1b_row7_col3\" class=\"data row7 col3\" >59.41%</td>\n",
       "    </tr>\n",
       "    <tr>\n",
       "      <th id=\"T_2ed1b_level0_row8\" class=\"row_heading level0 row8\" >8</th>\n",
       "      <td id=\"T_2ed1b_row8_col0\" class=\"data row8 col0\" >Segment2</td>\n",
       "      <td id=\"T_2ed1b_row8_col1\" class=\"data row8 col1\" >3</td>\n",
       "      <td id=\"T_2ed1b_row8_col2\" class=\"data row8 col2\" >Residential</td>\n",
       "      <td id=\"T_2ed1b_row8_col3\" class=\"data row8 col3\" >57.11%</td>\n",
       "    </tr>\n",
       "    <tr>\n",
       "      <th id=\"T_2ed1b_level0_row9\" class=\"row_heading level0 row9\" >9</th>\n",
       "      <td id=\"T_2ed1b_row9_col0\" class=\"data row9 col0\" >Customer Segment Change Flag</td>\n",
       "      <td id=\"T_2ed1b_row9_col1\" class=\"data row9 col1\" >2</td>\n",
       "      <td id=\"T_2ed1b_row9_col2\" class=\"data row9 col2\" >TRUE</td>\n",
       "      <td id=\"T_2ed1b_row9_col3\" class=\"data row9 col3\" >74.62%</td>\n",
       "    </tr>\n",
       "  </tbody>\n",
       "</table>\n"
      ],
      "text/plain": [
       "<pandas.io.formats.style.Styler at 0x7fae5d630c70>"
      ]
     },
     "metadata": {},
     "output_type": "display_data"
    },
    {
     "data": {
      "text/markdown": [
       "### Column: Tenure Category"
      ],
      "text/plain": [
       "<IPython.core.display.Markdown object>"
      ]
     },
     "metadata": {},
     "output_type": "display_data"
    },
    {
     "data": {
      "text/markdown": [
       "#### Value Counts and Percentage Distribution:"
      ],
      "text/plain": [
       "<IPython.core.display.Markdown object>"
      ]
     },
     "metadata": {},
     "output_type": "display_data"
    },
    {
     "data": {
      "text/html": [
       "<style type=\"text/css\">\n",
       "#T_4d688_row0_col0, #T_4d688_row0_col1, #T_4d688_row0_col2, #T_4d688_row1_col0, #T_4d688_row1_col1, #T_4d688_row1_col2, #T_4d688_row2_col0, #T_4d688_row2_col1, #T_4d688_row2_col2 {\n",
       "  text-align: left;\n",
       "}\n",
       "</style>\n",
       "<table id=\"T_4d688\">\n",
       "  <thead>\n",
       "    <tr>\n",
       "      <th class=\"blank level0\" >&nbsp;</th>\n",
       "      <th id=\"T_4d688_level0_col0\" class=\"col_heading level0 col0\" >Value</th>\n",
       "      <th id=\"T_4d688_level0_col1\" class=\"col_heading level0 col1\" >Count</th>\n",
       "      <th id=\"T_4d688_level0_col2\" class=\"col_heading level0 col2\" >Percentage</th>\n",
       "    </tr>\n",
       "  </thead>\n",
       "  <tbody>\n",
       "    <tr>\n",
       "      <th id=\"T_4d688_level0_row0\" class=\"row_heading level0 row0\" >0</th>\n",
       "      <td id=\"T_4d688_row0_col0\" class=\"data row0 col0\" >Short-term</td>\n",
       "      <td id=\"T_4d688_row0_col1\" class=\"data row0 col1\" >13664</td>\n",
       "      <td id=\"T_4d688_row0_col2\" class=\"data row0 col2\" >45.856965</td>\n",
       "    </tr>\n",
       "    <tr>\n",
       "      <th id=\"T_4d688_level0_row1\" class=\"row_heading level0 row1\" >1</th>\n",
       "      <td id=\"T_4d688_row1_col0\" class=\"data row1 col0\" >Long-term</td>\n",
       "      <td id=\"T_4d688_row1_col1\" class=\"data row1 col1\" >8817</td>\n",
       "      <td id=\"T_4d688_row1_col2\" class=\"data row1 col2\" >29.590227</td>\n",
       "    </tr>\n",
       "    <tr>\n",
       "      <th id=\"T_4d688_level0_row2\" class=\"row_heading level0 row2\" >2</th>\n",
       "      <td id=\"T_4d688_row2_col0\" class=\"data row2 col0\" >Medium-term</td>\n",
       "      <td id=\"T_4d688_row2_col1\" class=\"data row2 col1\" >7316</td>\n",
       "      <td id=\"T_4d688_row2_col2\" class=\"data row2 col2\" >24.552807</td>\n",
       "    </tr>\n",
       "  </tbody>\n",
       "</table>\n"
      ],
      "text/plain": [
       "<pandas.io.formats.style.Styler at 0x7fae5d7ba290>"
      ]
     },
     "metadata": {},
     "output_type": "display_data"
    },
    {
     "data": {
      "text/markdown": [
       "---"
      ],
      "text/plain": [
       "<IPython.core.display.Markdown object>"
      ]
     },
     "metadata": {},
     "output_type": "display_data"
    },
    {
     "data": {
      "text/markdown": [
       "### Column: Status"
      ],
      "text/plain": [
       "<IPython.core.display.Markdown object>"
      ]
     },
     "metadata": {},
     "output_type": "display_data"
    },
    {
     "data": {
      "text/markdown": [
       "#### Value Counts and Percentage Distribution:"
      ],
      "text/plain": [
       "<IPython.core.display.Markdown object>"
      ]
     },
     "metadata": {},
     "output_type": "display_data"
    },
    {
     "data": {
      "text/html": [
       "<style type=\"text/css\">\n",
       "#T_1b4a9_row0_col0, #T_1b4a9_row0_col1, #T_1b4a9_row0_col2, #T_1b4a9_row1_col0, #T_1b4a9_row1_col1, #T_1b4a9_row1_col2, #T_1b4a9_row2_col0, #T_1b4a9_row2_col1, #T_1b4a9_row2_col2, #T_1b4a9_row3_col0, #T_1b4a9_row3_col1, #T_1b4a9_row3_col2 {\n",
       "  text-align: left;\n",
       "}\n",
       "</style>\n",
       "<table id=\"T_1b4a9\">\n",
       "  <thead>\n",
       "    <tr>\n",
       "      <th class=\"blank level0\" >&nbsp;</th>\n",
       "      <th id=\"T_1b4a9_level0_col0\" class=\"col_heading level0 col0\" >Value</th>\n",
       "      <th id=\"T_1b4a9_level0_col1\" class=\"col_heading level0 col1\" >Count</th>\n",
       "      <th id=\"T_1b4a9_level0_col2\" class=\"col_heading level0 col2\" >Percentage</th>\n",
       "    </tr>\n",
       "  </thead>\n",
       "  <tbody>\n",
       "    <tr>\n",
       "      <th id=\"T_1b4a9_level0_row0\" class=\"row_heading level0 row0\" >0</th>\n",
       "      <td id=\"T_1b4a9_row0_col0\" class=\"data row0 col0\" >Deactive</td>\n",
       "      <td id=\"T_1b4a9_row0_col1\" class=\"data row0 col1\" >10071</td>\n",
       "      <td id=\"T_1b4a9_row0_col2\" class=\"data row0 col2\" >33.798705</td>\n",
       "    </tr>\n",
       "    <tr>\n",
       "      <th id=\"T_1b4a9_level0_row1\" class=\"row_heading level0 row1\" >1</th>\n",
       "      <td id=\"T_1b4a9_row1_col0\" class=\"data row1 col0\" >Active</td>\n",
       "      <td id=\"T_1b4a9_row1_col1\" class=\"data row1 col1\" >8992</td>\n",
       "      <td id=\"T_1b4a9_row1_col2\" class=\"data row1 col2\" >30.177535</td>\n",
       "    </tr>\n",
       "    <tr>\n",
       "      <th id=\"T_1b4a9_level0_row2\" class=\"row_heading level0 row2\" >2</th>\n",
       "      <td id=\"T_1b4a9_row2_col0\" class=\"data row2 col0\" >Hard Suspended</td>\n",
       "      <td id=\"T_1b4a9_row2_col1\" class=\"data row2 col1\" >5764</td>\n",
       "      <td id=\"T_1b4a9_row2_col2\" class=\"data row2 col2\" >19.344229</td>\n",
       "    </tr>\n",
       "    <tr>\n",
       "      <th id=\"T_1b4a9_level0_row3\" class=\"row_heading level0 row3\" >3</th>\n",
       "      <td id=\"T_1b4a9_row3_col0\" class=\"data row3 col0\" >Soft Suspended</td>\n",
       "      <td id=\"T_1b4a9_row3_col1\" class=\"data row3 col1\" >4970</td>\n",
       "      <td id=\"T_1b4a9_row3_col2\" class=\"data row3 col2\" >16.679531</td>\n",
       "    </tr>\n",
       "  </tbody>\n",
       "</table>\n"
      ],
      "text/plain": [
       "<pandas.io.formats.style.Styler at 0x7fae6acb5000>"
      ]
     },
     "metadata": {},
     "output_type": "display_data"
    },
    {
     "data": {
      "text/markdown": [
       "---"
      ],
      "text/plain": [
       "<IPython.core.display.Markdown object>"
      ]
     },
     "metadata": {},
     "output_type": "display_data"
    },
    {
     "data": {
      "text/markdown": [
       "### Column: Status Reason"
      ],
      "text/plain": [
       "<IPython.core.display.Markdown object>"
      ]
     },
     "metadata": {},
     "output_type": "display_data"
    },
    {
     "data": {
      "text/markdown": [
       "#### Value Counts and Percentage Distribution:"
      ],
      "text/plain": [
       "<IPython.core.display.Markdown object>"
      ]
     },
     "metadata": {},
     "output_type": "display_data"
    },
    {
     "data": {
      "text/html": [
       "<style type=\"text/css\">\n",
       "#T_60d46_row0_col0, #T_60d46_row0_col1, #T_60d46_row0_col2, #T_60d46_row1_col0, #T_60d46_row1_col1, #T_60d46_row1_col2, #T_60d46_row2_col0, #T_60d46_row2_col1, #T_60d46_row2_col2, #T_60d46_row3_col0, #T_60d46_row3_col1, #T_60d46_row3_col2, #T_60d46_row4_col0, #T_60d46_row4_col1, #T_60d46_row4_col2, #T_60d46_row5_col0, #T_60d46_row5_col1, #T_60d46_row5_col2, #T_60d46_row6_col0, #T_60d46_row6_col1, #T_60d46_row6_col2, #T_60d46_row7_col0, #T_60d46_row7_col1, #T_60d46_row7_col2, #T_60d46_row8_col0, #T_60d46_row8_col1, #T_60d46_row8_col2, #T_60d46_row9_col0, #T_60d46_row9_col1, #T_60d46_row9_col2, #T_60d46_row10_col0, #T_60d46_row10_col1, #T_60d46_row10_col2, #T_60d46_row11_col0, #T_60d46_row11_col1, #T_60d46_row11_col2, #T_60d46_row12_col0, #T_60d46_row12_col1, #T_60d46_row12_col2, #T_60d46_row13_col0, #T_60d46_row13_col1, #T_60d46_row13_col2, #T_60d46_row14_col0, #T_60d46_row14_col1, #T_60d46_row14_col2, #T_60d46_row15_col0, #T_60d46_row15_col1, #T_60d46_row15_col2, #T_60d46_row16_col0, #T_60d46_row16_col1, #T_60d46_row16_col2, #T_60d46_row17_col0, #T_60d46_row17_col1, #T_60d46_row17_col2, #T_60d46_row18_col0, #T_60d46_row18_col1, #T_60d46_row18_col2 {\n",
       "  text-align: left;\n",
       "}\n",
       "</style>\n",
       "<table id=\"T_60d46\">\n",
       "  <thead>\n",
       "    <tr>\n",
       "      <th class=\"blank level0\" >&nbsp;</th>\n",
       "      <th id=\"T_60d46_level0_col0\" class=\"col_heading level0 col0\" >Value</th>\n",
       "      <th id=\"T_60d46_level0_col1\" class=\"col_heading level0 col1\" >Count</th>\n",
       "      <th id=\"T_60d46_level0_col2\" class=\"col_heading level0 col2\" >Percentage</th>\n",
       "    </tr>\n",
       "  </thead>\n",
       "  <tbody>\n",
       "    <tr>\n",
       "      <th id=\"T_60d46_level0_row0\" class=\"row_heading level0 row0\" >0</th>\n",
       "      <td id=\"T_60d46_row0_col0\" class=\"data row0 col0\" >Good Service</td>\n",
       "      <td id=\"T_60d46_row0_col1\" class=\"data row0 col1\" >8992</td>\n",
       "      <td id=\"T_60d46_row0_col2\" class=\"data row0 col2\" >30.177535</td>\n",
       "    </tr>\n",
       "    <tr>\n",
       "      <th id=\"T_60d46_level0_row1\" class=\"row_heading level0 row1\" >1</th>\n",
       "      <td id=\"T_60d46_row1_col0\" class=\"data row1 col0\" >Violation of terms</td>\n",
       "      <td id=\"T_60d46_row1_col1\" class=\"data row1 col1\" >1464</td>\n",
       "      <td id=\"T_60d46_row1_col2\" class=\"data row1 col2\" >4.913246</td>\n",
       "    </tr>\n",
       "    <tr>\n",
       "      <th id=\"T_60d46_level0_row2\" class=\"row_heading level0 row2\" >2</th>\n",
       "      <td id=\"T_60d46_row2_col0\" class=\"data row2 col0\" >Fraudulent activity</td>\n",
       "      <td id=\"T_60d46_row2_col1\" class=\"data row2 col1\" >1439</td>\n",
       "      <td id=\"T_60d46_row2_col2\" class=\"data row2 col2\" >4.829345</td>\n",
       "    </tr>\n",
       "    <tr>\n",
       "      <th id=\"T_60d46_level0_row3\" class=\"row_heading level0 row3\" >3</th>\n",
       "      <td id=\"T_60d46_row3_col0\" class=\"data row3 col0\" >Illegal usage</td>\n",
       "      <td id=\"T_60d46_row3_col1\" class=\"data row3 col1\" >1436</td>\n",
       "      <td id=\"T_60d46_row3_col2\" class=\"data row3 col2\" >4.819277</td>\n",
       "    </tr>\n",
       "    <tr>\n",
       "      <th id=\"T_60d46_level0_row4\" class=\"row_heading level0 row4\" >4</th>\n",
       "      <td id=\"T_60d46_row4_col0\" class=\"data row4 col0\" >Non-payment</td>\n",
       "      <td id=\"T_60d46_row4_col1\" class=\"data row4 col1\" >1425</td>\n",
       "      <td id=\"T_60d46_row4_col2\" class=\"data row4 col2\" >4.782361</td>\n",
       "    </tr>\n",
       "    <tr>\n",
       "      <th id=\"T_60d46_level0_row5\" class=\"row_heading level0 row5\" >5</th>\n",
       "      <td id=\"T_60d46_row5_col0\" class=\"data row5 col0\" >Service upgrade</td>\n",
       "      <td id=\"T_60d46_row5_col1\" class=\"data row5 col1\" >1255</td>\n",
       "      <td id=\"T_60d46_row5_col2\" class=\"data row5 col2\" >4.211833</td>\n",
       "    </tr>\n",
       "    <tr>\n",
       "      <th id=\"T_60d46_level0_row6\" class=\"row_heading level0 row6\" >6</th>\n",
       "      <td id=\"T_60d46_row6_col0\" class=\"data row6 col0\" >Document verification</td>\n",
       "      <td id=\"T_60d46_row6_col1\" class=\"data row6 col1\" >1253</td>\n",
       "      <td id=\"T_60d46_row6_col2\" class=\"data row6 col2\" >4.205121</td>\n",
       "    </tr>\n",
       "    <tr>\n",
       "      <th id=\"T_60d46_level0_row7\" class=\"row_heading level0 row7\" >7</th>\n",
       "      <td id=\"T_60d46_row7_col0\" class=\"data row7 col0\" >Technical issue</td>\n",
       "      <td id=\"T_60d46_row7_col1\" class=\"data row7 col1\" >1239</td>\n",
       "      <td id=\"T_60d46_row7_col2\" class=\"data row7 col2\" >4.158137</td>\n",
       "    </tr>\n",
       "    <tr>\n",
       "      <th id=\"T_60d46_level0_row8\" class=\"row_heading level0 row8\" >8</th>\n",
       "      <td id=\"T_60d46_row8_col0\" class=\"data row8 col0\" >Customer request</td>\n",
       "      <td id=\"T_60d46_row8_col1\" class=\"data row8 col1\" >1223</td>\n",
       "      <td id=\"T_60d46_row8_col2\" class=\"data row8 col2\" >4.104440</td>\n",
       "    </tr>\n",
       "    <tr>\n",
       "      <th id=\"T_60d46_level0_row9\" class=\"row_heading level0 row9\" >9</th>\n",
       "      <td id=\"T_60d46_row9_col0\" class=\"data row9 col0\" >Network Issues</td>\n",
       "      <td id=\"T_60d46_row9_col1\" class=\"data row9 col1\" >1055</td>\n",
       "      <td id=\"T_60d46_row9_col2\" class=\"data row9 col2\" >3.540625</td>\n",
       "    </tr>\n",
       "    <tr>\n",
       "      <th id=\"T_60d46_level0_row10\" class=\"row_heading level0 row10\" >10</th>\n",
       "      <td id=\"T_60d46_row10_col0\" class=\"data row10 col0\" >Personal Reasons</td>\n",
       "      <td id=\"T_60d46_row10_col1\" class=\"data row10 col1\" >1027</td>\n",
       "      <td id=\"T_60d46_row10_col2\" class=\"data row10 col2\" >3.446656</td>\n",
       "    </tr>\n",
       "    <tr>\n",
       "      <th id=\"T_60d46_level0_row11\" class=\"row_heading level0 row11\" >11</th>\n",
       "      <td id=\"T_60d46_row11_col0\" class=\"data row11 col0\" >Contract Ended</td>\n",
       "      <td id=\"T_60d46_row11_col1\" class=\"data row11 col1\" >1025</td>\n",
       "      <td id=\"T_60d46_row11_col2\" class=\"data row11 col2\" >3.439944</td>\n",
       "    </tr>\n",
       "    <tr>\n",
       "      <th id=\"T_60d46_level0_row12\" class=\"row_heading level0 row12\" >12</th>\n",
       "      <td id=\"T_60d46_row12_col0\" class=\"data row12 col0\" >Price</td>\n",
       "      <td id=\"T_60d46_row12_col1\" class=\"data row12 col1\" >1010</td>\n",
       "      <td id=\"T_60d46_row12_col2\" class=\"data row12 col2\" >3.389603</td>\n",
       "    </tr>\n",
       "    <tr>\n",
       "      <th id=\"T_60d46_level0_row13\" class=\"row_heading level0 row13\" >13</th>\n",
       "      <td id=\"T_60d46_row13_col0\" class=\"data row13 col0\" >Better Offer Elsewhere</td>\n",
       "      <td id=\"T_60d46_row13_col1\" class=\"data row13 col1\" >1006</td>\n",
       "      <td id=\"T_60d46_row13_col2\" class=\"data row13 col2\" >3.376179</td>\n",
       "    </tr>\n",
       "    <tr>\n",
       "      <th id=\"T_60d46_level0_row14\" class=\"row_heading level0 row14\" >14</th>\n",
       "      <td id=\"T_60d46_row14_col0\" class=\"data row14 col0\" >Billing Issues</td>\n",
       "      <td id=\"T_60d46_row14_col1\" class=\"data row14 col1\" >997</td>\n",
       "      <td id=\"T_60d46_row14_col2\" class=\"data row14 col2\" >3.345974</td>\n",
       "    </tr>\n",
       "    <tr>\n",
       "      <th id=\"T_60d46_level0_row15\" class=\"row_heading level0 row15\" >15</th>\n",
       "      <td id=\"T_60d46_row15_col0\" class=\"data row15 col0\" >Lack of Usage</td>\n",
       "      <td id=\"T_60d46_row15_col1\" class=\"data row15 col1\" >992</td>\n",
       "      <td id=\"T_60d46_row15_col2\" class=\"data row15 col2\" >3.329194</td>\n",
       "    </tr>\n",
       "    <tr>\n",
       "      <th id=\"T_60d46_level0_row16\" class=\"row_heading level0 row16\" >16</th>\n",
       "      <td id=\"T_60d46_row16_col0\" class=\"data row16 col0\" >Service Quality</td>\n",
       "      <td id=\"T_60d46_row16_col1\" class=\"data row16 col1\" >990</td>\n",
       "      <td id=\"T_60d46_row16_col2\" class=\"data row16 col2\" >3.322482</td>\n",
       "    </tr>\n",
       "    <tr>\n",
       "      <th id=\"T_60d46_level0_row17\" class=\"row_heading level0 row17\" >17</th>\n",
       "      <td id=\"T_60d46_row17_col0\" class=\"data row17 col0\" >Technical Difficulties</td>\n",
       "      <td id=\"T_60d46_row17_col1\" class=\"data row17 col1\" >988</td>\n",
       "      <td id=\"T_60d46_row17_col2\" class=\"data row17 col2\" >3.315770</td>\n",
       "    </tr>\n",
       "    <tr>\n",
       "      <th id=\"T_60d46_level0_row18\" class=\"row_heading level0 row18\" >18</th>\n",
       "      <td id=\"T_60d46_row18_col0\" class=\"data row18 col0\" >Moved</td>\n",
       "      <td id=\"T_60d46_row18_col1\" class=\"data row18 col1\" >981</td>\n",
       "      <td id=\"T_60d46_row18_col2\" class=\"data row18 col2\" >3.292278</td>\n",
       "    </tr>\n",
       "  </tbody>\n",
       "</table>\n"
      ],
      "text/plain": [
       "<pandas.io.formats.style.Styler at 0x7fae6acb5750>"
      ]
     },
     "metadata": {},
     "output_type": "display_data"
    },
    {
     "data": {
      "text/markdown": [
       "---"
      ],
      "text/plain": [
       "<IPython.core.display.Markdown object>"
      ]
     },
     "metadata": {},
     "output_type": "display_data"
    },
    {
     "data": {
      "text/markdown": [
       "### Column: Segment1"
      ],
      "text/plain": [
       "<IPython.core.display.Markdown object>"
      ]
     },
     "metadata": {},
     "output_type": "display_data"
    },
    {
     "data": {
      "text/markdown": [
       "#### Value Counts and Percentage Distribution:"
      ],
      "text/plain": [
       "<IPython.core.display.Markdown object>"
      ]
     },
     "metadata": {},
     "output_type": "display_data"
    },
    {
     "data": {
      "text/html": [
       "<style type=\"text/css\">\n",
       "#T_e9aa5_row0_col0, #T_e9aa5_row0_col1, #T_e9aa5_row0_col2, #T_e9aa5_row1_col0, #T_e9aa5_row1_col1, #T_e9aa5_row1_col2 {\n",
       "  text-align: left;\n",
       "}\n",
       "</style>\n",
       "<table id=\"T_e9aa5\">\n",
       "  <thead>\n",
       "    <tr>\n",
       "      <th class=\"blank level0\" >&nbsp;</th>\n",
       "      <th id=\"T_e9aa5_level0_col0\" class=\"col_heading level0 col0\" >Value</th>\n",
       "      <th id=\"T_e9aa5_level0_col1\" class=\"col_heading level0 col1\" >Count</th>\n",
       "      <th id=\"T_e9aa5_level0_col2\" class=\"col_heading level0 col2\" >Percentage</th>\n",
       "    </tr>\n",
       "  </thead>\n",
       "  <tbody>\n",
       "    <tr>\n",
       "      <th id=\"T_e9aa5_level0_row0\" class=\"row_heading level0 row0\" >0</th>\n",
       "      <td id=\"T_e9aa5_row0_col0\" class=\"data row0 col0\" >Prepaid</td>\n",
       "      <td id=\"T_e9aa5_row0_col1\" class=\"data row0 col1\" >17703</td>\n",
       "      <td id=\"T_e9aa5_row0_col2\" class=\"data row0 col2\" >59.412021</td>\n",
       "    </tr>\n",
       "    <tr>\n",
       "      <th id=\"T_e9aa5_level0_row1\" class=\"row_heading level0 row1\" >1</th>\n",
       "      <td id=\"T_e9aa5_row1_col0\" class=\"data row1 col0\" >Postpaid</td>\n",
       "      <td id=\"T_e9aa5_row1_col1\" class=\"data row1 col1\" >12094</td>\n",
       "      <td id=\"T_e9aa5_row1_col2\" class=\"data row1 col2\" >40.587979</td>\n",
       "    </tr>\n",
       "  </tbody>\n",
       "</table>\n"
      ],
      "text/plain": [
       "<pandas.io.formats.style.Styler at 0x7fae6acb5960>"
      ]
     },
     "metadata": {},
     "output_type": "display_data"
    },
    {
     "data": {
      "text/markdown": [
       "---"
      ],
      "text/plain": [
       "<IPython.core.display.Markdown object>"
      ]
     },
     "metadata": {},
     "output_type": "display_data"
    },
    {
     "data": {
      "text/markdown": [
       "### Column: Segment2"
      ],
      "text/plain": [
       "<IPython.core.display.Markdown object>"
      ]
     },
     "metadata": {},
     "output_type": "display_data"
    },
    {
     "data": {
      "text/markdown": [
       "#### Value Counts and Percentage Distribution:"
      ],
      "text/plain": [
       "<IPython.core.display.Markdown object>"
      ]
     },
     "metadata": {},
     "output_type": "display_data"
    },
    {
     "data": {
      "text/html": [
       "<style type=\"text/css\">\n",
       "#T_ea3cb_row0_col0, #T_ea3cb_row0_col1, #T_ea3cb_row0_col2, #T_ea3cb_row1_col0, #T_ea3cb_row1_col1, #T_ea3cb_row1_col2, #T_ea3cb_row2_col0, #T_ea3cb_row2_col1, #T_ea3cb_row2_col2 {\n",
       "  text-align: left;\n",
       "}\n",
       "</style>\n",
       "<table id=\"T_ea3cb\">\n",
       "  <thead>\n",
       "    <tr>\n",
       "      <th class=\"blank level0\" >&nbsp;</th>\n",
       "      <th id=\"T_ea3cb_level0_col0\" class=\"col_heading level0 col0\" >Value</th>\n",
       "      <th id=\"T_ea3cb_level0_col1\" class=\"col_heading level0 col1\" >Count</th>\n",
       "      <th id=\"T_ea3cb_level0_col2\" class=\"col_heading level0 col2\" >Percentage</th>\n",
       "    </tr>\n",
       "  </thead>\n",
       "  <tbody>\n",
       "    <tr>\n",
       "      <th id=\"T_ea3cb_level0_row0\" class=\"row_heading level0 row0\" >0</th>\n",
       "      <td id=\"T_ea3cb_row0_col0\" class=\"data row0 col0\" >Residential</td>\n",
       "      <td id=\"T_ea3cb_row0_col1\" class=\"data row0 col1\" >17017</td>\n",
       "      <td id=\"T_ea3cb_row0_col2\" class=\"data row0 col2\" >57.109776</td>\n",
       "    </tr>\n",
       "    <tr>\n",
       "      <th id=\"T_ea3cb_level0_row1\" class=\"row_heading level0 row1\" >1</th>\n",
       "      <td id=\"T_ea3cb_row1_col0\" class=\"data row1 col0\" >Corporate</td>\n",
       "      <td id=\"T_ea3cb_row1_col1\" class=\"data row1 col1\" >8357</td>\n",
       "      <td id=\"T_ea3cb_row1_col2\" class=\"data row1 col2\" >28.046448</td>\n",
       "    </tr>\n",
       "    <tr>\n",
       "      <th id=\"T_ea3cb_level0_row2\" class=\"row_heading level0 row2\" >2</th>\n",
       "      <td id=\"T_ea3cb_row2_col0\" class=\"data row2 col0\" >PRO</td>\n",
       "      <td id=\"T_ea3cb_row2_col1\" class=\"data row2 col1\" >4423</td>\n",
       "      <td id=\"T_ea3cb_row2_col2\" class=\"data row2 col2\" >14.843776</td>\n",
       "    </tr>\n",
       "  </tbody>\n",
       "</table>\n"
      ],
      "text/plain": [
       "<pandas.io.formats.style.Styler at 0x7fae6acb5870>"
      ]
     },
     "metadata": {},
     "output_type": "display_data"
    },
    {
     "data": {
      "text/markdown": [
       "---"
      ],
      "text/plain": [
       "<IPython.core.display.Markdown object>"
      ]
     },
     "metadata": {},
     "output_type": "display_data"
    },
    {
     "data": {
      "text/markdown": [
       "### Column: Customer Segment Change Flag"
      ],
      "text/plain": [
       "<IPython.core.display.Markdown object>"
      ]
     },
     "metadata": {},
     "output_type": "display_data"
    },
    {
     "data": {
      "text/markdown": [
       "#### Value Counts and Percentage Distribution:"
      ],
      "text/plain": [
       "<IPython.core.display.Markdown object>"
      ]
     },
     "metadata": {},
     "output_type": "display_data"
    },
    {
     "data": {
      "text/html": [
       "<style type=\"text/css\">\n",
       "#T_671a2_row0_col0, #T_671a2_row0_col1, #T_671a2_row0_col2, #T_671a2_row1_col0, #T_671a2_row1_col1, #T_671a2_row1_col2 {\n",
       "  text-align: left;\n",
       "}\n",
       "</style>\n",
       "<table id=\"T_671a2\">\n",
       "  <thead>\n",
       "    <tr>\n",
       "      <th class=\"blank level0\" >&nbsp;</th>\n",
       "      <th id=\"T_671a2_level0_col0\" class=\"col_heading level0 col0\" >Value</th>\n",
       "      <th id=\"T_671a2_level0_col1\" class=\"col_heading level0 col1\" >Count</th>\n",
       "      <th id=\"T_671a2_level0_col2\" class=\"col_heading level0 col2\" >Percentage</th>\n",
       "    </tr>\n",
       "  </thead>\n",
       "  <tbody>\n",
       "    <tr>\n",
       "      <th id=\"T_671a2_level0_row0\" class=\"row_heading level0 row0\" >0</th>\n",
       "      <td id=\"T_671a2_row0_col0\" class=\"data row0 col0\" >TRUE</td>\n",
       "      <td id=\"T_671a2_row0_col1\" class=\"data row0 col1\" >22235</td>\n",
       "      <td id=\"T_671a2_row0_col2\" class=\"data row0 col2\" >74.621606</td>\n",
       "    </tr>\n",
       "    <tr>\n",
       "      <th id=\"T_671a2_level0_row1\" class=\"row_heading level0 row1\" >1</th>\n",
       "      <td id=\"T_671a2_row1_col0\" class=\"data row1 col0\" >FALSE</td>\n",
       "      <td id=\"T_671a2_row1_col1\" class=\"data row1 col1\" >7562</td>\n",
       "      <td id=\"T_671a2_row1_col2\" class=\"data row1 col2\" >25.378394</td>\n",
       "    </tr>\n",
       "  </tbody>\n",
       "</table>\n"
      ],
      "text/plain": [
       "<pandas.io.formats.style.Styler at 0x7fae6acb57b0>"
      ]
     },
     "metadata": {},
     "output_type": "display_data"
    },
    {
     "data": {
      "text/markdown": [
       "---"
      ],
      "text/plain": [
       "<IPython.core.display.Markdown object>"
      ]
     },
     "metadata": {},
     "output_type": "display_data"
    }
   ],
   "source": [
    "info.categorical_summary()"
   ]
  },
  {
   "cell_type": "code",
   "execution_count": 32,
   "metadata": {},
   "outputs": [
    {
     "data": {
      "text/markdown": [
       "### Shape:"
      ],
      "text/plain": [
       "<IPython.core.display.Markdown object>"
      ]
     },
     "metadata": {},
     "output_type": "display_data"
    },
    {
     "data": {
      "text/plain": [
       "(29797, 19)"
      ]
     },
     "metadata": {},
     "output_type": "display_data"
    },
    {
     "data": {
      "text/markdown": [
       "### Columns and Metadata:"
      ],
      "text/plain": [
       "<IPython.core.display.Markdown object>"
      ]
     },
     "metadata": {},
     "output_type": "display_data"
    },
    {
     "data": {
      "text/html": [
       "<style type=\"text/css\">\n",
       "#T_77368 th {\n",
       "  text-align: left;\n",
       "}\n",
       "#T_77368_row0_col0, #T_77368_row0_col1, #T_77368_row0_col2, #T_77368_row1_col0, #T_77368_row1_col1, #T_77368_row1_col2, #T_77368_row2_col0, #T_77368_row2_col1, #T_77368_row2_col2, #T_77368_row3_col0, #T_77368_row3_col1, #T_77368_row3_col2, #T_77368_row4_col0, #T_77368_row4_col1, #T_77368_row4_col2, #T_77368_row5_col0, #T_77368_row5_col1, #T_77368_row5_col2, #T_77368_row6_col0, #T_77368_row6_col1, #T_77368_row6_col2, #T_77368_row7_col0, #T_77368_row7_col1, #T_77368_row7_col2, #T_77368_row8_col0, #T_77368_row8_col1, #T_77368_row8_col2, #T_77368_row9_col0, #T_77368_row9_col1, #T_77368_row9_col2, #T_77368_row10_col0, #T_77368_row10_col1, #T_77368_row10_col2, #T_77368_row11_col0, #T_77368_row11_col1, #T_77368_row11_col2, #T_77368_row12_col0, #T_77368_row12_col1, #T_77368_row12_col2, #T_77368_row13_col0, #T_77368_row13_col1, #T_77368_row13_col2, #T_77368_row14_col0, #T_77368_row14_col1, #T_77368_row14_col2, #T_77368_row15_col0, #T_77368_row15_col1, #T_77368_row15_col2, #T_77368_row16_col0, #T_77368_row16_col1, #T_77368_row16_col2, #T_77368_row17_col0, #T_77368_row17_col1, #T_77368_row17_col2, #T_77368_row18_col0, #T_77368_row18_col1, #T_77368_row18_col2 {\n",
       "  text-align: left;\n",
       "}\n",
       "</style>\n",
       "<table id=\"T_77368\">\n",
       "  <thead>\n",
       "    <tr>\n",
       "      <th class=\"blank level0\" >&nbsp;</th>\n",
       "      <th id=\"T_77368_level0_col0\" class=\"col_heading level0 col0\" >Data Type</th>\n",
       "      <th id=\"T_77368_level0_col1\" class=\"col_heading level0 col1\" >Null Values</th>\n",
       "      <th id=\"T_77368_level0_col2\" class=\"col_heading level0 col2\" >Precentage of Nulls</th>\n",
       "    </tr>\n",
       "  </thead>\n",
       "  <tbody>\n",
       "    <tr>\n",
       "      <th id=\"T_77368_level0_row0\" class=\"row_heading level0 row0\" >CO_ID</th>\n",
       "      <td id=\"T_77368_row0_col0\" class=\"data row0 col0\" >int64</td>\n",
       "      <td id=\"T_77368_row0_col1\" class=\"data row0 col1\" >0</td>\n",
       "      <td id=\"T_77368_row0_col2\" class=\"data row0 col2\" >0.0</td>\n",
       "    </tr>\n",
       "    <tr>\n",
       "      <th id=\"T_77368_level0_row1\" class=\"row_heading level0 row1\" >User Created By</th>\n",
       "      <td id=\"T_77368_row1_col0\" class=\"data row1 col0\" >object</td>\n",
       "      <td id=\"T_77368_row1_col1\" class=\"data row1 col1\" >0</td>\n",
       "      <td id=\"T_77368_row1_col2\" class=\"data row1 col2\" >0.0</td>\n",
       "    </tr>\n",
       "    <tr>\n",
       "      <th id=\"T_77368_level0_row2\" class=\"row_heading level0 row2\" >MSISDN</th>\n",
       "      <td id=\"T_77368_row2_col0\" class=\"data row2 col0\" >int64</td>\n",
       "      <td id=\"T_77368_row2_col1\" class=\"data row2 col1\" >0</td>\n",
       "      <td id=\"T_77368_row2_col2\" class=\"data row2 col2\" >0.0</td>\n",
       "    </tr>\n",
       "    <tr>\n",
       "      <th id=\"T_77368_level0_row3\" class=\"row_heading level0 row3\" >POS_MSISDN</th>\n",
       "      <td id=\"T_77368_row3_col0\" class=\"data row3 col0\" >object</td>\n",
       "      <td id=\"T_77368_row3_col1\" class=\"data row3 col1\" >19226</td>\n",
       "      <td id=\"T_77368_row3_col2\" class=\"data row3 col2\" >64.5</td>\n",
       "    </tr>\n",
       "    <tr>\n",
       "      <th id=\"T_77368_level0_row4\" class=\"row_heading level0 row4\" >Distributer</th>\n",
       "      <td id=\"T_77368_row4_col0\" class=\"data row4 col0\" >object</td>\n",
       "      <td id=\"T_77368_row4_col1\" class=\"data row4 col1\" >0</td>\n",
       "      <td id=\"T_77368_row4_col2\" class=\"data row4 col2\" >0.0</td>\n",
       "    </tr>\n",
       "    <tr>\n",
       "      <th id=\"T_77368_level0_row5\" class=\"row_heading level0 row5\" >Plan Name</th>\n",
       "      <td id=\"T_77368_row5_col0\" class=\"data row5 col0\" >object</td>\n",
       "      <td id=\"T_77368_row5_col1\" class=\"data row5 col1\" >0</td>\n",
       "      <td id=\"T_77368_row5_col2\" class=\"data row5 col2\" >0.0</td>\n",
       "    </tr>\n",
       "    <tr>\n",
       "      <th id=\"T_77368_level0_row6\" class=\"row_heading level0 row6\" >Active Date</th>\n",
       "      <td id=\"T_77368_row6_col0\" class=\"data row6 col0\" >datetime64[ns]</td>\n",
       "      <td id=\"T_77368_row6_col1\" class=\"data row6 col1\" >0</td>\n",
       "      <td id=\"T_77368_row6_col2\" class=\"data row6 col2\" >0.0</td>\n",
       "    </tr>\n",
       "    <tr>\n",
       "      <th id=\"T_77368_level0_row7\" class=\"row_heading level0 row7\" >Deactive Date</th>\n",
       "      <td id=\"T_77368_row7_col0\" class=\"data row7 col0\" >datetime64[ns]</td>\n",
       "      <td id=\"T_77368_row7_col1\" class=\"data row7 col1\" >0</td>\n",
       "      <td id=\"T_77368_row7_col2\" class=\"data row7 col2\" >0.0</td>\n",
       "    </tr>\n",
       "    <tr>\n",
       "      <th id=\"T_77368_level0_row8\" class=\"row_heading level0 row8\" >Customer Tenure</th>\n",
       "      <td id=\"T_77368_row8_col0\" class=\"data row8 col0\" >int64</td>\n",
       "      <td id=\"T_77368_row8_col1\" class=\"data row8 col1\" >0</td>\n",
       "      <td id=\"T_77368_row8_col2\" class=\"data row8 col2\" >0.0</td>\n",
       "    </tr>\n",
       "    <tr>\n",
       "      <th id=\"T_77368_level0_row9\" class=\"row_heading level0 row9\" >Tenure Category</th>\n",
       "      <td id=\"T_77368_row9_col0\" class=\"data row9 col0\" >object</td>\n",
       "      <td id=\"T_77368_row9_col1\" class=\"data row9 col1\" >0</td>\n",
       "      <td id=\"T_77368_row9_col2\" class=\"data row9 col2\" >0.0</td>\n",
       "    </tr>\n",
       "    <tr>\n",
       "      <th id=\"T_77368_level0_row10\" class=\"row_heading level0 row10\" >Status</th>\n",
       "      <td id=\"T_77368_row10_col0\" class=\"data row10 col0\" >object</td>\n",
       "      <td id=\"T_77368_row10_col1\" class=\"data row10 col1\" >0</td>\n",
       "      <td id=\"T_77368_row10_col2\" class=\"data row10 col2\" >0.0</td>\n",
       "    </tr>\n",
       "    <tr>\n",
       "      <th id=\"T_77368_level0_row11\" class=\"row_heading level0 row11\" >Status Reason</th>\n",
       "      <td id=\"T_77368_row11_col0\" class=\"data row11 col0\" >object</td>\n",
       "      <td id=\"T_77368_row11_col1\" class=\"data row11 col1\" >0</td>\n",
       "      <td id=\"T_77368_row11_col2\" class=\"data row11 col2\" >0.0</td>\n",
       "    </tr>\n",
       "    <tr>\n",
       "      <th id=\"T_77368_level0_row12\" class=\"row_heading level0 row12\" >Segment1</th>\n",
       "      <td id=\"T_77368_row12_col0\" class=\"data row12 col0\" >object</td>\n",
       "      <td id=\"T_77368_row12_col1\" class=\"data row12 col1\" >0</td>\n",
       "      <td id=\"T_77368_row12_col2\" class=\"data row12 col2\" >0.0</td>\n",
       "    </tr>\n",
       "    <tr>\n",
       "      <th id=\"T_77368_level0_row13\" class=\"row_heading level0 row13\" >Segment2</th>\n",
       "      <td id=\"T_77368_row13_col0\" class=\"data row13 col0\" >object</td>\n",
       "      <td id=\"T_77368_row13_col1\" class=\"data row13 col1\" >0</td>\n",
       "      <td id=\"T_77368_row13_col2\" class=\"data row13 col2\" >0.0</td>\n",
       "    </tr>\n",
       "    <tr>\n",
       "      <th id=\"T_77368_level0_row14\" class=\"row_heading level0 row14\" >Churn Flag</th>\n",
       "      <td id=\"T_77368_row14_col0\" class=\"data row14 col0\" >int64</td>\n",
       "      <td id=\"T_77368_row14_col1\" class=\"data row14 col1\" >0</td>\n",
       "      <td id=\"T_77368_row14_col2\" class=\"data row14 col2\" >0.0</td>\n",
       "    </tr>\n",
       "    <tr>\n",
       "      <th id=\"T_77368_level0_row15\" class=\"row_heading level0 row15\" >Customer Interaction Score</th>\n",
       "      <td id=\"T_77368_row15_col0\" class=\"data row15 col0\" >int64</td>\n",
       "      <td id=\"T_77368_row15_col1\" class=\"data row15 col1\" >0</td>\n",
       "      <td id=\"T_77368_row15_col2\" class=\"data row15 col2\" >0.0</td>\n",
       "    </tr>\n",
       "    <tr>\n",
       "      <th id=\"T_77368_level0_row16\" class=\"row_heading level0 row16\" >Loyalty Points</th>\n",
       "      <td id=\"T_77368_row16_col0\" class=\"data row16 col0\" >int64</td>\n",
       "      <td id=\"T_77368_row16_col1\" class=\"data row16 col1\" >0</td>\n",
       "      <td id=\"T_77368_row16_col2\" class=\"data row16 col2\" >0.0</td>\n",
       "    </tr>\n",
       "    <tr>\n",
       "      <th id=\"T_77368_level0_row17\" class=\"row_heading level0 row17\" >Data Usage Tier</th>\n",
       "      <td id=\"T_77368_row17_col0\" class=\"data row17 col0\" >Int64</td>\n",
       "      <td id=\"T_77368_row17_col1\" class=\"data row17 col1\" >0</td>\n",
       "      <td id=\"T_77368_row17_col2\" class=\"data row17 col2\" >0.0</td>\n",
       "    </tr>\n",
       "    <tr>\n",
       "      <th id=\"T_77368_level0_row18\" class=\"row_heading level0 row18\" >Customer Segment Change Flag</th>\n",
       "      <td id=\"T_77368_row18_col0\" class=\"data row18 col0\" >object</td>\n",
       "      <td id=\"T_77368_row18_col1\" class=\"data row18 col1\" >0</td>\n",
       "      <td id=\"T_77368_row18_col2\" class=\"data row18 col2\" >0.0</td>\n",
       "    </tr>\n",
       "  </tbody>\n",
       "</table>\n"
      ],
      "text/plain": [
       "<pandas.io.formats.style.Styler at 0x7fae676a9480>"
      ]
     },
     "metadata": {},
     "output_type": "display_data"
    },
    {
     "data": {
      "text/markdown": [
       "### Duplicated Rows:"
      ],
      "text/plain": [
       "<IPython.core.display.Markdown object>"
      ]
     },
     "metadata": {},
     "output_type": "display_data"
    },
    {
     "data": {
      "text/html": [
       "<div>\n",
       "<style scoped>\n",
       "    .dataframe tbody tr th:only-of-type {\n",
       "        vertical-align: middle;\n",
       "    }\n",
       "\n",
       "    .dataframe tbody tr th {\n",
       "        vertical-align: top;\n",
       "    }\n",
       "\n",
       "    .dataframe thead th {\n",
       "        text-align: right;\n",
       "    }\n",
       "</style>\n",
       "<table border=\"1\" class=\"dataframe\">\n",
       "  <thead>\n",
       "    <tr style=\"text-align: right;\">\n",
       "      <th></th>\n",
       "      <th>Duplicated Rows Count</th>\n",
       "    </tr>\n",
       "  </thead>\n",
       "  <tbody>\n",
       "    <tr>\n",
       "      <th>Total</th>\n",
       "      <td>30</td>\n",
       "    </tr>\n",
       "  </tbody>\n",
       "</table>\n",
       "</div>"
      ],
      "text/plain": [
       "       Duplicated Rows Count\n",
       "Total                     30"
      ]
     },
     "metadata": {},
     "output_type": "display_data"
    }
   ],
   "source": [
    "info.dataframe_summary()"
   ]
  },
  {
   "cell_type": "markdown",
   "metadata": {},
   "source": [
    "### POS_MSISDN"
   ]
  },
  {
   "cell_type": "code",
   "execution_count": 33,
   "metadata": {},
   "outputs": [],
   "source": [
    "train_data = df.dropna(\n",
    "    subset=[\"POS_MSISDN\"]\n",
    ").copy()  # Make a copy to avoid SettingWithCopyWarning\n",
    "predict_data = df[df[\"POS_MSISDN\"].isnull()].copy()  # Make a copy here as well\n",
    "\n",
    "# Combine, encode, then split the 'Distributer' column to ensure all labels are known\n",
    "all_distributers = pd.concat(\n",
    "    [train_data[\"Distributer\"], predict_data[\"Distributer\"]], ignore_index=True\n",
    ")\n",
    "\n",
    "le_dist = LabelEncoder()\n",
    "all_distributers_encoded = le_dist.fit_transform(all_distributers)\n",
    "\n",
    "train_data.loc[:, \"Distributer_Encoded\"] = all_distributers_encoded[: len(train_data)]\n",
    "predict_data.loc[:, \"Distributer_Encoded\"] = all_distributers_encoded[len(train_data) :]\n",
    "\n",
    "# Encode 'POS_MSISDN' for training\n",
    "le_pos = LabelEncoder()\n",
    "train_data.loc[:, \"POS_MSISDN_Encoded\"] = le_pos.fit_transform(train_data[\"POS_MSISDN\"])\n",
    "\n",
    "# Train the Random Forest model\n",
    "model = RandomForestClassifier()\n",
    "model.fit(train_data[[\"Distributer_Encoded\"]], train_data[\"POS_MSISDN_Encoded\"])\n",
    "\n",
    "# Predict the missing values\n",
    "predicted_pos_encoded = model.predict(predict_data[[\"Distributer_Encoded\"]])\n",
    "predicted_pos = le_pos.inverse_transform(predicted_pos_encoded)\n",
    "\n",
    "# Update the original DataFrame with the predicted values\n",
    "df.loc[df[\"POS_MSISDN\"].isnull(), \"POS_MSISDN\"] = predicted_pos"
   ]
  },
  {
   "cell_type": "markdown",
   "metadata": {},
   "source": [
    "# Removing Uneeded Model Columns"
   ]
  },
  {
   "cell_type": "code",
   "execution_count": 34,
   "metadata": {},
   "outputs": [],
   "source": [
    "df.drop(\n",
    "    [\n",
    "        \"CO_ID\",\n",
    "        \"MSISDN\", \"Active Date\",\n",
    "        \"Deactive Date\",\n",
    "        \"User Created By\"\n",
    "    ],\n",
    "    axis=1,\n",
    "    inplace=True\n",
    ")"
   ]
  },
  {
   "cell_type": "code",
   "execution_count": 35,
   "metadata": {},
   "outputs": [],
   "source": [
    "for col in df.columns:\n",
    "    if df[col].dtype == \"object\":\n",
    "        df[col] = df[col].str.strip()"
   ]
  },
  {
   "cell_type": "code",
   "execution_count": 36,
   "metadata": {},
   "outputs": [
    {
     "data": {
      "text/markdown": [
       "### Categorical Columns Summary:"
      ],
      "text/plain": [
       "<IPython.core.display.Markdown object>"
      ]
     },
     "metadata": {},
     "output_type": "display_data"
    },
    {
     "data": {
      "text/html": [
       "<style type=\"text/css\">\n",
       "#T_03483 th {\n",
       "  text-align: left;\n",
       "}\n",
       "#T_03483_row0_col0, #T_03483_row0_col1, #T_03483_row0_col2, #T_03483_row0_col3, #T_03483_row1_col0, #T_03483_row1_col1, #T_03483_row1_col2, #T_03483_row1_col3, #T_03483_row2_col0, #T_03483_row2_col1, #T_03483_row2_col2, #T_03483_row2_col3, #T_03483_row3_col0, #T_03483_row3_col1, #T_03483_row3_col2, #T_03483_row3_col3, #T_03483_row4_col0, #T_03483_row4_col1, #T_03483_row4_col2, #T_03483_row4_col3, #T_03483_row5_col0, #T_03483_row5_col1, #T_03483_row5_col2, #T_03483_row5_col3, #T_03483_row6_col0, #T_03483_row6_col1, #T_03483_row6_col2, #T_03483_row6_col3, #T_03483_row7_col0, #T_03483_row7_col1, #T_03483_row7_col2, #T_03483_row7_col3, #T_03483_row8_col0, #T_03483_row8_col1, #T_03483_row8_col2, #T_03483_row8_col3 {\n",
       "  text-align: left;\n",
       "}\n",
       "</style>\n",
       "<table id=\"T_03483\">\n",
       "  <thead>\n",
       "    <tr>\n",
       "      <th class=\"blank level0\" >&nbsp;</th>\n",
       "      <th id=\"T_03483_level0_col0\" class=\"col_heading level0 col0\" >Column</th>\n",
       "      <th id=\"T_03483_level0_col1\" class=\"col_heading level0 col1\" >Unique Values Count</th>\n",
       "      <th id=\"T_03483_level0_col2\" class=\"col_heading level0 col2\" >Top Value</th>\n",
       "      <th id=\"T_03483_level0_col3\" class=\"col_heading level0 col3\" >Top Value Percentage</th>\n",
       "    </tr>\n",
       "  </thead>\n",
       "  <tbody>\n",
       "    <tr>\n",
       "      <th id=\"T_03483_level0_row0\" class=\"row_heading level0 row0\" >0</th>\n",
       "      <td id=\"T_03483_row0_col0\" class=\"data row0 col0\" >POS_MSISDN</td>\n",
       "      <td id=\"T_03483_row0_col1\" class=\"data row0 col1\" >156</td>\n",
       "      <td id=\"T_03483_row0_col2\" class=\"data row0 col2\" >ORG3592</td>\n",
       "      <td id=\"T_03483_row0_col3\" class=\"data row0 col3\" >29.78%</td>\n",
       "    </tr>\n",
       "    <tr>\n",
       "      <th id=\"T_03483_level0_row1\" class=\"row_heading level0 row1\" >1</th>\n",
       "      <td id=\"T_03483_row1_col0\" class=\"data row1 col0\" >Distributer</td>\n",
       "      <td id=\"T_03483_row1_col1\" class=\"data row1 col1\" >142</td>\n",
       "      <td id=\"T_03483_row1_col2\" class=\"data row1 col2\" >FNTFRPRJTF TBLFT TTPDL</td>\n",
       "      <td id=\"T_03483_row1_col3\" class=\"data row1 col3\" >27.50%</td>\n",
       "    </tr>\n",
       "    <tr>\n",
       "      <th id=\"T_03483_level0_row2\" class=\"row_heading level0 row2\" >2</th>\n",
       "      <td id=\"T_03483_row2_col0\" class=\"data row2 col0\" >Plan Name</td>\n",
       "      <td id=\"T_03483_row2_col1\" class=\"data row2 col1\" >34</td>\n",
       "      <td id=\"T_03483_row2_col2\" class=\"data row2 col2\" >Orange 90</td>\n",
       "      <td id=\"T_03483_row2_col3\" class=\"data row2 col3\" >19.88%</td>\n",
       "    </tr>\n",
       "    <tr>\n",
       "      <th id=\"T_03483_level0_row3\" class=\"row_heading level0 row3\" >3</th>\n",
       "      <td id=\"T_03483_row3_col0\" class=\"data row3 col0\" >Tenure Category</td>\n",
       "      <td id=\"T_03483_row3_col1\" class=\"data row3 col1\" >3</td>\n",
       "      <td id=\"T_03483_row3_col2\" class=\"data row3 col2\" >Short-term</td>\n",
       "      <td id=\"T_03483_row3_col3\" class=\"data row3 col3\" >45.86%</td>\n",
       "    </tr>\n",
       "    <tr>\n",
       "      <th id=\"T_03483_level0_row4\" class=\"row_heading level0 row4\" >4</th>\n",
       "      <td id=\"T_03483_row4_col0\" class=\"data row4 col0\" >Status</td>\n",
       "      <td id=\"T_03483_row4_col1\" class=\"data row4 col1\" >4</td>\n",
       "      <td id=\"T_03483_row4_col2\" class=\"data row4 col2\" >Deactive</td>\n",
       "      <td id=\"T_03483_row4_col3\" class=\"data row4 col3\" >33.80%</td>\n",
       "    </tr>\n",
       "    <tr>\n",
       "      <th id=\"T_03483_level0_row5\" class=\"row_heading level0 row5\" >5</th>\n",
       "      <td id=\"T_03483_row5_col0\" class=\"data row5 col0\" >Status Reason</td>\n",
       "      <td id=\"T_03483_row5_col1\" class=\"data row5 col1\" >19</td>\n",
       "      <td id=\"T_03483_row5_col2\" class=\"data row5 col2\" >Good Service</td>\n",
       "      <td id=\"T_03483_row5_col3\" class=\"data row5 col3\" >30.18%</td>\n",
       "    </tr>\n",
       "    <tr>\n",
       "      <th id=\"T_03483_level0_row6\" class=\"row_heading level0 row6\" >6</th>\n",
       "      <td id=\"T_03483_row6_col0\" class=\"data row6 col0\" >Segment1</td>\n",
       "      <td id=\"T_03483_row6_col1\" class=\"data row6 col1\" >2</td>\n",
       "      <td id=\"T_03483_row6_col2\" class=\"data row6 col2\" >Prepaid</td>\n",
       "      <td id=\"T_03483_row6_col3\" class=\"data row6 col3\" >59.41%</td>\n",
       "    </tr>\n",
       "    <tr>\n",
       "      <th id=\"T_03483_level0_row7\" class=\"row_heading level0 row7\" >7</th>\n",
       "      <td id=\"T_03483_row7_col0\" class=\"data row7 col0\" >Segment2</td>\n",
       "      <td id=\"T_03483_row7_col1\" class=\"data row7 col1\" >3</td>\n",
       "      <td id=\"T_03483_row7_col2\" class=\"data row7 col2\" >Residential</td>\n",
       "      <td id=\"T_03483_row7_col3\" class=\"data row7 col3\" >57.11%</td>\n",
       "    </tr>\n",
       "    <tr>\n",
       "      <th id=\"T_03483_level0_row8\" class=\"row_heading level0 row8\" >8</th>\n",
       "      <td id=\"T_03483_row8_col0\" class=\"data row8 col0\" >Customer Segment Change Flag</td>\n",
       "      <td id=\"T_03483_row8_col1\" class=\"data row8 col1\" >2</td>\n",
       "      <td id=\"T_03483_row8_col2\" class=\"data row8 col2\" >TRUE</td>\n",
       "      <td id=\"T_03483_row8_col3\" class=\"data row8 col3\" >74.62%</td>\n",
       "    </tr>\n",
       "  </tbody>\n",
       "</table>\n"
      ],
      "text/plain": [
       "<pandas.io.formats.style.Styler at 0x7fae6681e6e0>"
      ]
     },
     "metadata": {},
     "output_type": "display_data"
    },
    {
     "data": {
      "text/markdown": [
       "### Column: Tenure Category"
      ],
      "text/plain": [
       "<IPython.core.display.Markdown object>"
      ]
     },
     "metadata": {},
     "output_type": "display_data"
    },
    {
     "data": {
      "text/markdown": [
       "#### Value Counts and Percentage Distribution:"
      ],
      "text/plain": [
       "<IPython.core.display.Markdown object>"
      ]
     },
     "metadata": {},
     "output_type": "display_data"
    },
    {
     "data": {
      "text/html": [
       "<style type=\"text/css\">\n",
       "#T_98448_row0_col0, #T_98448_row0_col1, #T_98448_row0_col2, #T_98448_row1_col0, #T_98448_row1_col1, #T_98448_row1_col2, #T_98448_row2_col0, #T_98448_row2_col1, #T_98448_row2_col2 {\n",
       "  text-align: left;\n",
       "}\n",
       "</style>\n",
       "<table id=\"T_98448\">\n",
       "  <thead>\n",
       "    <tr>\n",
       "      <th class=\"blank level0\" >&nbsp;</th>\n",
       "      <th id=\"T_98448_level0_col0\" class=\"col_heading level0 col0\" >Value</th>\n",
       "      <th id=\"T_98448_level0_col1\" class=\"col_heading level0 col1\" >Count</th>\n",
       "      <th id=\"T_98448_level0_col2\" class=\"col_heading level0 col2\" >Percentage</th>\n",
       "    </tr>\n",
       "  </thead>\n",
       "  <tbody>\n",
       "    <tr>\n",
       "      <th id=\"T_98448_level0_row0\" class=\"row_heading level0 row0\" >0</th>\n",
       "      <td id=\"T_98448_row0_col0\" class=\"data row0 col0\" >Short-term</td>\n",
       "      <td id=\"T_98448_row0_col1\" class=\"data row0 col1\" >13664</td>\n",
       "      <td id=\"T_98448_row0_col2\" class=\"data row0 col2\" >45.856965</td>\n",
       "    </tr>\n",
       "    <tr>\n",
       "      <th id=\"T_98448_level0_row1\" class=\"row_heading level0 row1\" >1</th>\n",
       "      <td id=\"T_98448_row1_col0\" class=\"data row1 col0\" >Long-term</td>\n",
       "      <td id=\"T_98448_row1_col1\" class=\"data row1 col1\" >8817</td>\n",
       "      <td id=\"T_98448_row1_col2\" class=\"data row1 col2\" >29.590227</td>\n",
       "    </tr>\n",
       "    <tr>\n",
       "      <th id=\"T_98448_level0_row2\" class=\"row_heading level0 row2\" >2</th>\n",
       "      <td id=\"T_98448_row2_col0\" class=\"data row2 col0\" >Medium-term</td>\n",
       "      <td id=\"T_98448_row2_col1\" class=\"data row2 col1\" >7316</td>\n",
       "      <td id=\"T_98448_row2_col2\" class=\"data row2 col2\" >24.552807</td>\n",
       "    </tr>\n",
       "  </tbody>\n",
       "</table>\n"
      ],
      "text/plain": [
       "<pandas.io.formats.style.Styler at 0x7fae64e3b2e0>"
      ]
     },
     "metadata": {},
     "output_type": "display_data"
    },
    {
     "data": {
      "text/markdown": [
       "---"
      ],
      "text/plain": [
       "<IPython.core.display.Markdown object>"
      ]
     },
     "metadata": {},
     "output_type": "display_data"
    },
    {
     "data": {
      "text/markdown": [
       "### Column: Status"
      ],
      "text/plain": [
       "<IPython.core.display.Markdown object>"
      ]
     },
     "metadata": {},
     "output_type": "display_data"
    },
    {
     "data": {
      "text/markdown": [
       "#### Value Counts and Percentage Distribution:"
      ],
      "text/plain": [
       "<IPython.core.display.Markdown object>"
      ]
     },
     "metadata": {},
     "output_type": "display_data"
    },
    {
     "data": {
      "text/html": [
       "<style type=\"text/css\">\n",
       "#T_cdbda_row0_col0, #T_cdbda_row0_col1, #T_cdbda_row0_col2, #T_cdbda_row1_col0, #T_cdbda_row1_col1, #T_cdbda_row1_col2, #T_cdbda_row2_col0, #T_cdbda_row2_col1, #T_cdbda_row2_col2, #T_cdbda_row3_col0, #T_cdbda_row3_col1, #T_cdbda_row3_col2 {\n",
       "  text-align: left;\n",
       "}\n",
       "</style>\n",
       "<table id=\"T_cdbda\">\n",
       "  <thead>\n",
       "    <tr>\n",
       "      <th class=\"blank level0\" >&nbsp;</th>\n",
       "      <th id=\"T_cdbda_level0_col0\" class=\"col_heading level0 col0\" >Value</th>\n",
       "      <th id=\"T_cdbda_level0_col1\" class=\"col_heading level0 col1\" >Count</th>\n",
       "      <th id=\"T_cdbda_level0_col2\" class=\"col_heading level0 col2\" >Percentage</th>\n",
       "    </tr>\n",
       "  </thead>\n",
       "  <tbody>\n",
       "    <tr>\n",
       "      <th id=\"T_cdbda_level0_row0\" class=\"row_heading level0 row0\" >0</th>\n",
       "      <td id=\"T_cdbda_row0_col0\" class=\"data row0 col0\" >Deactive</td>\n",
       "      <td id=\"T_cdbda_row0_col1\" class=\"data row0 col1\" >10071</td>\n",
       "      <td id=\"T_cdbda_row0_col2\" class=\"data row0 col2\" >33.798705</td>\n",
       "    </tr>\n",
       "    <tr>\n",
       "      <th id=\"T_cdbda_level0_row1\" class=\"row_heading level0 row1\" >1</th>\n",
       "      <td id=\"T_cdbda_row1_col0\" class=\"data row1 col0\" >Active</td>\n",
       "      <td id=\"T_cdbda_row1_col1\" class=\"data row1 col1\" >8992</td>\n",
       "      <td id=\"T_cdbda_row1_col2\" class=\"data row1 col2\" >30.177535</td>\n",
       "    </tr>\n",
       "    <tr>\n",
       "      <th id=\"T_cdbda_level0_row2\" class=\"row_heading level0 row2\" >2</th>\n",
       "      <td id=\"T_cdbda_row2_col0\" class=\"data row2 col0\" >Hard Suspended</td>\n",
       "      <td id=\"T_cdbda_row2_col1\" class=\"data row2 col1\" >5764</td>\n",
       "      <td id=\"T_cdbda_row2_col2\" class=\"data row2 col2\" >19.344229</td>\n",
       "    </tr>\n",
       "    <tr>\n",
       "      <th id=\"T_cdbda_level0_row3\" class=\"row_heading level0 row3\" >3</th>\n",
       "      <td id=\"T_cdbda_row3_col0\" class=\"data row3 col0\" >Soft Suspended</td>\n",
       "      <td id=\"T_cdbda_row3_col1\" class=\"data row3 col1\" >4970</td>\n",
       "      <td id=\"T_cdbda_row3_col2\" class=\"data row3 col2\" >16.679531</td>\n",
       "    </tr>\n",
       "  </tbody>\n",
       "</table>\n"
      ],
      "text/plain": [
       "<pandas.io.formats.style.Styler at 0x7fae64e3b250>"
      ]
     },
     "metadata": {},
     "output_type": "display_data"
    },
    {
     "data": {
      "text/markdown": [
       "---"
      ],
      "text/plain": [
       "<IPython.core.display.Markdown object>"
      ]
     },
     "metadata": {},
     "output_type": "display_data"
    },
    {
     "data": {
      "text/markdown": [
       "### Column: Status Reason"
      ],
      "text/plain": [
       "<IPython.core.display.Markdown object>"
      ]
     },
     "metadata": {},
     "output_type": "display_data"
    },
    {
     "data": {
      "text/markdown": [
       "#### Value Counts and Percentage Distribution:"
      ],
      "text/plain": [
       "<IPython.core.display.Markdown object>"
      ]
     },
     "metadata": {},
     "output_type": "display_data"
    },
    {
     "data": {
      "text/html": [
       "<style type=\"text/css\">\n",
       "#T_7a599_row0_col0, #T_7a599_row0_col1, #T_7a599_row0_col2, #T_7a599_row1_col0, #T_7a599_row1_col1, #T_7a599_row1_col2, #T_7a599_row2_col0, #T_7a599_row2_col1, #T_7a599_row2_col2, #T_7a599_row3_col0, #T_7a599_row3_col1, #T_7a599_row3_col2, #T_7a599_row4_col0, #T_7a599_row4_col1, #T_7a599_row4_col2, #T_7a599_row5_col0, #T_7a599_row5_col1, #T_7a599_row5_col2, #T_7a599_row6_col0, #T_7a599_row6_col1, #T_7a599_row6_col2, #T_7a599_row7_col0, #T_7a599_row7_col1, #T_7a599_row7_col2, #T_7a599_row8_col0, #T_7a599_row8_col1, #T_7a599_row8_col2, #T_7a599_row9_col0, #T_7a599_row9_col1, #T_7a599_row9_col2, #T_7a599_row10_col0, #T_7a599_row10_col1, #T_7a599_row10_col2, #T_7a599_row11_col0, #T_7a599_row11_col1, #T_7a599_row11_col2, #T_7a599_row12_col0, #T_7a599_row12_col1, #T_7a599_row12_col2, #T_7a599_row13_col0, #T_7a599_row13_col1, #T_7a599_row13_col2, #T_7a599_row14_col0, #T_7a599_row14_col1, #T_7a599_row14_col2, #T_7a599_row15_col0, #T_7a599_row15_col1, #T_7a599_row15_col2, #T_7a599_row16_col0, #T_7a599_row16_col1, #T_7a599_row16_col2, #T_7a599_row17_col0, #T_7a599_row17_col1, #T_7a599_row17_col2, #T_7a599_row18_col0, #T_7a599_row18_col1, #T_7a599_row18_col2 {\n",
       "  text-align: left;\n",
       "}\n",
       "</style>\n",
       "<table id=\"T_7a599\">\n",
       "  <thead>\n",
       "    <tr>\n",
       "      <th class=\"blank level0\" >&nbsp;</th>\n",
       "      <th id=\"T_7a599_level0_col0\" class=\"col_heading level0 col0\" >Value</th>\n",
       "      <th id=\"T_7a599_level0_col1\" class=\"col_heading level0 col1\" >Count</th>\n",
       "      <th id=\"T_7a599_level0_col2\" class=\"col_heading level0 col2\" >Percentage</th>\n",
       "    </tr>\n",
       "  </thead>\n",
       "  <tbody>\n",
       "    <tr>\n",
       "      <th id=\"T_7a599_level0_row0\" class=\"row_heading level0 row0\" >0</th>\n",
       "      <td id=\"T_7a599_row0_col0\" class=\"data row0 col0\" >Good Service</td>\n",
       "      <td id=\"T_7a599_row0_col1\" class=\"data row0 col1\" >8992</td>\n",
       "      <td id=\"T_7a599_row0_col2\" class=\"data row0 col2\" >30.177535</td>\n",
       "    </tr>\n",
       "    <tr>\n",
       "      <th id=\"T_7a599_level0_row1\" class=\"row_heading level0 row1\" >1</th>\n",
       "      <td id=\"T_7a599_row1_col0\" class=\"data row1 col0\" >Violation of terms</td>\n",
       "      <td id=\"T_7a599_row1_col1\" class=\"data row1 col1\" >1464</td>\n",
       "      <td id=\"T_7a599_row1_col2\" class=\"data row1 col2\" >4.913246</td>\n",
       "    </tr>\n",
       "    <tr>\n",
       "      <th id=\"T_7a599_level0_row2\" class=\"row_heading level0 row2\" >2</th>\n",
       "      <td id=\"T_7a599_row2_col0\" class=\"data row2 col0\" >Fraudulent activity</td>\n",
       "      <td id=\"T_7a599_row2_col1\" class=\"data row2 col1\" >1439</td>\n",
       "      <td id=\"T_7a599_row2_col2\" class=\"data row2 col2\" >4.829345</td>\n",
       "    </tr>\n",
       "    <tr>\n",
       "      <th id=\"T_7a599_level0_row3\" class=\"row_heading level0 row3\" >3</th>\n",
       "      <td id=\"T_7a599_row3_col0\" class=\"data row3 col0\" >Illegal usage</td>\n",
       "      <td id=\"T_7a599_row3_col1\" class=\"data row3 col1\" >1436</td>\n",
       "      <td id=\"T_7a599_row3_col2\" class=\"data row3 col2\" >4.819277</td>\n",
       "    </tr>\n",
       "    <tr>\n",
       "      <th id=\"T_7a599_level0_row4\" class=\"row_heading level0 row4\" >4</th>\n",
       "      <td id=\"T_7a599_row4_col0\" class=\"data row4 col0\" >Non-payment</td>\n",
       "      <td id=\"T_7a599_row4_col1\" class=\"data row4 col1\" >1425</td>\n",
       "      <td id=\"T_7a599_row4_col2\" class=\"data row4 col2\" >4.782361</td>\n",
       "    </tr>\n",
       "    <tr>\n",
       "      <th id=\"T_7a599_level0_row5\" class=\"row_heading level0 row5\" >5</th>\n",
       "      <td id=\"T_7a599_row5_col0\" class=\"data row5 col0\" >Service upgrade</td>\n",
       "      <td id=\"T_7a599_row5_col1\" class=\"data row5 col1\" >1255</td>\n",
       "      <td id=\"T_7a599_row5_col2\" class=\"data row5 col2\" >4.211833</td>\n",
       "    </tr>\n",
       "    <tr>\n",
       "      <th id=\"T_7a599_level0_row6\" class=\"row_heading level0 row6\" >6</th>\n",
       "      <td id=\"T_7a599_row6_col0\" class=\"data row6 col0\" >Document verification</td>\n",
       "      <td id=\"T_7a599_row6_col1\" class=\"data row6 col1\" >1253</td>\n",
       "      <td id=\"T_7a599_row6_col2\" class=\"data row6 col2\" >4.205121</td>\n",
       "    </tr>\n",
       "    <tr>\n",
       "      <th id=\"T_7a599_level0_row7\" class=\"row_heading level0 row7\" >7</th>\n",
       "      <td id=\"T_7a599_row7_col0\" class=\"data row7 col0\" >Technical issue</td>\n",
       "      <td id=\"T_7a599_row7_col1\" class=\"data row7 col1\" >1239</td>\n",
       "      <td id=\"T_7a599_row7_col2\" class=\"data row7 col2\" >4.158137</td>\n",
       "    </tr>\n",
       "    <tr>\n",
       "      <th id=\"T_7a599_level0_row8\" class=\"row_heading level0 row8\" >8</th>\n",
       "      <td id=\"T_7a599_row8_col0\" class=\"data row8 col0\" >Customer request</td>\n",
       "      <td id=\"T_7a599_row8_col1\" class=\"data row8 col1\" >1223</td>\n",
       "      <td id=\"T_7a599_row8_col2\" class=\"data row8 col2\" >4.104440</td>\n",
       "    </tr>\n",
       "    <tr>\n",
       "      <th id=\"T_7a599_level0_row9\" class=\"row_heading level0 row9\" >9</th>\n",
       "      <td id=\"T_7a599_row9_col0\" class=\"data row9 col0\" >Network Issues</td>\n",
       "      <td id=\"T_7a599_row9_col1\" class=\"data row9 col1\" >1055</td>\n",
       "      <td id=\"T_7a599_row9_col2\" class=\"data row9 col2\" >3.540625</td>\n",
       "    </tr>\n",
       "    <tr>\n",
       "      <th id=\"T_7a599_level0_row10\" class=\"row_heading level0 row10\" >10</th>\n",
       "      <td id=\"T_7a599_row10_col0\" class=\"data row10 col0\" >Personal Reasons</td>\n",
       "      <td id=\"T_7a599_row10_col1\" class=\"data row10 col1\" >1027</td>\n",
       "      <td id=\"T_7a599_row10_col2\" class=\"data row10 col2\" >3.446656</td>\n",
       "    </tr>\n",
       "    <tr>\n",
       "      <th id=\"T_7a599_level0_row11\" class=\"row_heading level0 row11\" >11</th>\n",
       "      <td id=\"T_7a599_row11_col0\" class=\"data row11 col0\" >Contract Ended</td>\n",
       "      <td id=\"T_7a599_row11_col1\" class=\"data row11 col1\" >1025</td>\n",
       "      <td id=\"T_7a599_row11_col2\" class=\"data row11 col2\" >3.439944</td>\n",
       "    </tr>\n",
       "    <tr>\n",
       "      <th id=\"T_7a599_level0_row12\" class=\"row_heading level0 row12\" >12</th>\n",
       "      <td id=\"T_7a599_row12_col0\" class=\"data row12 col0\" >Price</td>\n",
       "      <td id=\"T_7a599_row12_col1\" class=\"data row12 col1\" >1010</td>\n",
       "      <td id=\"T_7a599_row12_col2\" class=\"data row12 col2\" >3.389603</td>\n",
       "    </tr>\n",
       "    <tr>\n",
       "      <th id=\"T_7a599_level0_row13\" class=\"row_heading level0 row13\" >13</th>\n",
       "      <td id=\"T_7a599_row13_col0\" class=\"data row13 col0\" >Better Offer Elsewhere</td>\n",
       "      <td id=\"T_7a599_row13_col1\" class=\"data row13 col1\" >1006</td>\n",
       "      <td id=\"T_7a599_row13_col2\" class=\"data row13 col2\" >3.376179</td>\n",
       "    </tr>\n",
       "    <tr>\n",
       "      <th id=\"T_7a599_level0_row14\" class=\"row_heading level0 row14\" >14</th>\n",
       "      <td id=\"T_7a599_row14_col0\" class=\"data row14 col0\" >Billing Issues</td>\n",
       "      <td id=\"T_7a599_row14_col1\" class=\"data row14 col1\" >997</td>\n",
       "      <td id=\"T_7a599_row14_col2\" class=\"data row14 col2\" >3.345974</td>\n",
       "    </tr>\n",
       "    <tr>\n",
       "      <th id=\"T_7a599_level0_row15\" class=\"row_heading level0 row15\" >15</th>\n",
       "      <td id=\"T_7a599_row15_col0\" class=\"data row15 col0\" >Lack of Usage</td>\n",
       "      <td id=\"T_7a599_row15_col1\" class=\"data row15 col1\" >992</td>\n",
       "      <td id=\"T_7a599_row15_col2\" class=\"data row15 col2\" >3.329194</td>\n",
       "    </tr>\n",
       "    <tr>\n",
       "      <th id=\"T_7a599_level0_row16\" class=\"row_heading level0 row16\" >16</th>\n",
       "      <td id=\"T_7a599_row16_col0\" class=\"data row16 col0\" >Service Quality</td>\n",
       "      <td id=\"T_7a599_row16_col1\" class=\"data row16 col1\" >990</td>\n",
       "      <td id=\"T_7a599_row16_col2\" class=\"data row16 col2\" >3.322482</td>\n",
       "    </tr>\n",
       "    <tr>\n",
       "      <th id=\"T_7a599_level0_row17\" class=\"row_heading level0 row17\" >17</th>\n",
       "      <td id=\"T_7a599_row17_col0\" class=\"data row17 col0\" >Technical Difficulties</td>\n",
       "      <td id=\"T_7a599_row17_col1\" class=\"data row17 col1\" >988</td>\n",
       "      <td id=\"T_7a599_row17_col2\" class=\"data row17 col2\" >3.315770</td>\n",
       "    </tr>\n",
       "    <tr>\n",
       "      <th id=\"T_7a599_level0_row18\" class=\"row_heading level0 row18\" >18</th>\n",
       "      <td id=\"T_7a599_row18_col0\" class=\"data row18 col0\" >Moved</td>\n",
       "      <td id=\"T_7a599_row18_col1\" class=\"data row18 col1\" >981</td>\n",
       "      <td id=\"T_7a599_row18_col2\" class=\"data row18 col2\" >3.292278</td>\n",
       "    </tr>\n",
       "  </tbody>\n",
       "</table>\n"
      ],
      "text/plain": [
       "<pandas.io.formats.style.Styler at 0x7fae65e78100>"
      ]
     },
     "metadata": {},
     "output_type": "display_data"
    },
    {
     "data": {
      "text/markdown": [
       "---"
      ],
      "text/plain": [
       "<IPython.core.display.Markdown object>"
      ]
     },
     "metadata": {},
     "output_type": "display_data"
    },
    {
     "data": {
      "text/markdown": [
       "### Column: Segment1"
      ],
      "text/plain": [
       "<IPython.core.display.Markdown object>"
      ]
     },
     "metadata": {},
     "output_type": "display_data"
    },
    {
     "data": {
      "text/markdown": [
       "#### Value Counts and Percentage Distribution:"
      ],
      "text/plain": [
       "<IPython.core.display.Markdown object>"
      ]
     },
     "metadata": {},
     "output_type": "display_data"
    },
    {
     "data": {
      "text/html": [
       "<style type=\"text/css\">\n",
       "#T_73335_row0_col0, #T_73335_row0_col1, #T_73335_row0_col2, #T_73335_row1_col0, #T_73335_row1_col1, #T_73335_row1_col2 {\n",
       "  text-align: left;\n",
       "}\n",
       "</style>\n",
       "<table id=\"T_73335\">\n",
       "  <thead>\n",
       "    <tr>\n",
       "      <th class=\"blank level0\" >&nbsp;</th>\n",
       "      <th id=\"T_73335_level0_col0\" class=\"col_heading level0 col0\" >Value</th>\n",
       "      <th id=\"T_73335_level0_col1\" class=\"col_heading level0 col1\" >Count</th>\n",
       "      <th id=\"T_73335_level0_col2\" class=\"col_heading level0 col2\" >Percentage</th>\n",
       "    </tr>\n",
       "  </thead>\n",
       "  <tbody>\n",
       "    <tr>\n",
       "      <th id=\"T_73335_level0_row0\" class=\"row_heading level0 row0\" >0</th>\n",
       "      <td id=\"T_73335_row0_col0\" class=\"data row0 col0\" >Prepaid</td>\n",
       "      <td id=\"T_73335_row0_col1\" class=\"data row0 col1\" >17703</td>\n",
       "      <td id=\"T_73335_row0_col2\" class=\"data row0 col2\" >59.412021</td>\n",
       "    </tr>\n",
       "    <tr>\n",
       "      <th id=\"T_73335_level0_row1\" class=\"row_heading level0 row1\" >1</th>\n",
       "      <td id=\"T_73335_row1_col0\" class=\"data row1 col0\" >Postpaid</td>\n",
       "      <td id=\"T_73335_row1_col1\" class=\"data row1 col1\" >12094</td>\n",
       "      <td id=\"T_73335_row1_col2\" class=\"data row1 col2\" >40.587979</td>\n",
       "    </tr>\n",
       "  </tbody>\n",
       "</table>\n"
      ],
      "text/plain": [
       "<pandas.io.formats.style.Styler at 0x7fae5d60e860>"
      ]
     },
     "metadata": {},
     "output_type": "display_data"
    },
    {
     "data": {
      "text/markdown": [
       "---"
      ],
      "text/plain": [
       "<IPython.core.display.Markdown object>"
      ]
     },
     "metadata": {},
     "output_type": "display_data"
    },
    {
     "data": {
      "text/markdown": [
       "### Column: Segment2"
      ],
      "text/plain": [
       "<IPython.core.display.Markdown object>"
      ]
     },
     "metadata": {},
     "output_type": "display_data"
    },
    {
     "data": {
      "text/markdown": [
       "#### Value Counts and Percentage Distribution:"
      ],
      "text/plain": [
       "<IPython.core.display.Markdown object>"
      ]
     },
     "metadata": {},
     "output_type": "display_data"
    },
    {
     "data": {
      "text/html": [
       "<style type=\"text/css\">\n",
       "#T_96bbc_row0_col0, #T_96bbc_row0_col1, #T_96bbc_row0_col2, #T_96bbc_row1_col0, #T_96bbc_row1_col1, #T_96bbc_row1_col2, #T_96bbc_row2_col0, #T_96bbc_row2_col1, #T_96bbc_row2_col2 {\n",
       "  text-align: left;\n",
       "}\n",
       "</style>\n",
       "<table id=\"T_96bbc\">\n",
       "  <thead>\n",
       "    <tr>\n",
       "      <th class=\"blank level0\" >&nbsp;</th>\n",
       "      <th id=\"T_96bbc_level0_col0\" class=\"col_heading level0 col0\" >Value</th>\n",
       "      <th id=\"T_96bbc_level0_col1\" class=\"col_heading level0 col1\" >Count</th>\n",
       "      <th id=\"T_96bbc_level0_col2\" class=\"col_heading level0 col2\" >Percentage</th>\n",
       "    </tr>\n",
       "  </thead>\n",
       "  <tbody>\n",
       "    <tr>\n",
       "      <th id=\"T_96bbc_level0_row0\" class=\"row_heading level0 row0\" >0</th>\n",
       "      <td id=\"T_96bbc_row0_col0\" class=\"data row0 col0\" >Residential</td>\n",
       "      <td id=\"T_96bbc_row0_col1\" class=\"data row0 col1\" >17017</td>\n",
       "      <td id=\"T_96bbc_row0_col2\" class=\"data row0 col2\" >57.109776</td>\n",
       "    </tr>\n",
       "    <tr>\n",
       "      <th id=\"T_96bbc_level0_row1\" class=\"row_heading level0 row1\" >1</th>\n",
       "      <td id=\"T_96bbc_row1_col0\" class=\"data row1 col0\" >Corporate</td>\n",
       "      <td id=\"T_96bbc_row1_col1\" class=\"data row1 col1\" >8357</td>\n",
       "      <td id=\"T_96bbc_row1_col2\" class=\"data row1 col2\" >28.046448</td>\n",
       "    </tr>\n",
       "    <tr>\n",
       "      <th id=\"T_96bbc_level0_row2\" class=\"row_heading level0 row2\" >2</th>\n",
       "      <td id=\"T_96bbc_row2_col0\" class=\"data row2 col0\" >PRO</td>\n",
       "      <td id=\"T_96bbc_row2_col1\" class=\"data row2 col1\" >4423</td>\n",
       "      <td id=\"T_96bbc_row2_col2\" class=\"data row2 col2\" >14.843776</td>\n",
       "    </tr>\n",
       "  </tbody>\n",
       "</table>\n"
      ],
      "text/plain": [
       "<pandas.io.formats.style.Styler at 0x7fae5d60c7f0>"
      ]
     },
     "metadata": {},
     "output_type": "display_data"
    },
    {
     "data": {
      "text/markdown": [
       "---"
      ],
      "text/plain": [
       "<IPython.core.display.Markdown object>"
      ]
     },
     "metadata": {},
     "output_type": "display_data"
    },
    {
     "data": {
      "text/markdown": [
       "### Column: Customer Segment Change Flag"
      ],
      "text/plain": [
       "<IPython.core.display.Markdown object>"
      ]
     },
     "metadata": {},
     "output_type": "display_data"
    },
    {
     "data": {
      "text/markdown": [
       "#### Value Counts and Percentage Distribution:"
      ],
      "text/plain": [
       "<IPython.core.display.Markdown object>"
      ]
     },
     "metadata": {},
     "output_type": "display_data"
    },
    {
     "data": {
      "text/html": [
       "<style type=\"text/css\">\n",
       "#T_9f1a4_row0_col0, #T_9f1a4_row0_col1, #T_9f1a4_row0_col2, #T_9f1a4_row1_col0, #T_9f1a4_row1_col1, #T_9f1a4_row1_col2 {\n",
       "  text-align: left;\n",
       "}\n",
       "</style>\n",
       "<table id=\"T_9f1a4\">\n",
       "  <thead>\n",
       "    <tr>\n",
       "      <th class=\"blank level0\" >&nbsp;</th>\n",
       "      <th id=\"T_9f1a4_level0_col0\" class=\"col_heading level0 col0\" >Value</th>\n",
       "      <th id=\"T_9f1a4_level0_col1\" class=\"col_heading level0 col1\" >Count</th>\n",
       "      <th id=\"T_9f1a4_level0_col2\" class=\"col_heading level0 col2\" >Percentage</th>\n",
       "    </tr>\n",
       "  </thead>\n",
       "  <tbody>\n",
       "    <tr>\n",
       "      <th id=\"T_9f1a4_level0_row0\" class=\"row_heading level0 row0\" >0</th>\n",
       "      <td id=\"T_9f1a4_row0_col0\" class=\"data row0 col0\" >TRUE</td>\n",
       "      <td id=\"T_9f1a4_row0_col1\" class=\"data row0 col1\" >22235</td>\n",
       "      <td id=\"T_9f1a4_row0_col2\" class=\"data row0 col2\" >74.621606</td>\n",
       "    </tr>\n",
       "    <tr>\n",
       "      <th id=\"T_9f1a4_level0_row1\" class=\"row_heading level0 row1\" >1</th>\n",
       "      <td id=\"T_9f1a4_row1_col0\" class=\"data row1 col0\" >FALSE</td>\n",
       "      <td id=\"T_9f1a4_row1_col1\" class=\"data row1 col1\" >7562</td>\n",
       "      <td id=\"T_9f1a4_row1_col2\" class=\"data row1 col2\" >25.378394</td>\n",
       "    </tr>\n",
       "  </tbody>\n",
       "</table>\n"
      ],
      "text/plain": [
       "<pandas.io.formats.style.Styler at 0x7fae5d60c7f0>"
      ]
     },
     "metadata": {},
     "output_type": "display_data"
    },
    {
     "data": {
      "text/markdown": [
       "---"
      ],
      "text/plain": [
       "<IPython.core.display.Markdown object>"
      ]
     },
     "metadata": {},
     "output_type": "display_data"
    }
   ],
   "source": [
    "info.categorical_summary()"
   ]
  },
  {
   "cell_type": "code",
   "execution_count": 37,
   "metadata": {},
   "outputs": [],
   "source": [
    "df.drop_duplicates(inplace=True)"
   ]
  },
  {
   "cell_type": "code",
   "execution_count": 38,
   "metadata": {},
   "outputs": [],
   "source": [
    "\n",
    "df.to_csv(r\"data/clean_churn_data.csv\",index=False, encoding='utf-8-sig')\n"
   ]
  },
  {
   "cell_type": "code",
   "execution_count": null,
   "metadata": {},
   "outputs": [],
   "source": []
  }
 ],
 "metadata": {
  "kernelspec": {
   "display_name": "datascience-mlflow-Zoqge6qi-py3.9",
   "language": "python",
   "name": "python3"
  },
  "language_info": {
   "codemirror_mode": {
    "name": "ipython",
    "version": 3
   },
   "file_extension": ".py",
   "mimetype": "text/x-python",
   "name": "python",
   "nbconvert_exporter": "python",
   "pygments_lexer": "ipython3",
   "version": "3.10.12"
  }
 },
 "nbformat": 4,
 "nbformat_minor": 2
}
